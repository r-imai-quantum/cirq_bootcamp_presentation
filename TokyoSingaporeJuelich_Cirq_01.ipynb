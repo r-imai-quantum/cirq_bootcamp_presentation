{
  "nbformat": 4,
  "nbformat_minor": 0,
  "metadata": {
    "colab": {
      "name": "TokyoSingaporeJuelich_Cirq_01",
      "provenance": [],
      "collapsed_sections": [
        "r-CjbPwkRI_I",
        "Qx1iaMysIfVj",
        "tMC-nLE474nH",
        "38c8tWcX90Zn",
        "iYqy0qwU9sZy"
      ]
    },
    "kernelspec": {
      "name": "python3",
      "display_name": "Python 3"
    }
  },
  "cells": [
    {
      "cell_type": "markdown",
      "metadata": {
        "id": "8_LTWlMtzqh9"
      },
      "source": [
        "<img src=\"https://raw.githubusercontent.com/quantumlib/Cirq/master/docs/_static/Cirq_logo_color.png\"  height=\"80px\"/>  [Thank you for the feedback!](https://forms.gle/oTG7xaT8zyq5svN88)\n",
        "\n",
        "[Cirq](https://github.com/quantumlib/cirq) is a framework for writing quantum algorithms for noisy intermediate scale quantum (NISQ) devices. \n",
        "\n",
        "Roughly speaking, NISQ devices are those with O(100) qubits that can enact O(1000) gates.  Because the resources for NISQ devices are so constrained, we believe that a framework for writing programs on these devices needs to be aware of all of the architectural properties of the device on which the algorithm is written. This is in contrast to other frameworks where there is a clean separation between the abstract model being used and the details of the device.  \n",
        "\n",
        "# The (Python) Basics\n",
        "\n",
        "In this tutorial, you will learn the basics of writing quantum algorithms in Cirq. First, a very brief intro to some Python.\n",
        "\n",
        "**Instructions**: Go to File --> Save Copy in Drive to get your own copy to play with."
      ]
    },
    {
      "cell_type": "markdown",
      "metadata": {
        "colab_type": "toc",
        "id": "tojM8JLT1_0S"
      },
      "source": [
        ">[The (Python) Basics](#scrollTo=8_LTWlMtzqh9)\n",
        "\n",
        ">>[Iterators](#scrollTo=rPgPbry6-mF3)\n",
        "\n",
        ">>[Generators](#scrollTo=8V1v8TVTeE0W)\n",
        "\n",
        ">>[Decorators and @property](#scrollTo=FIlAUD85v_cn)\n",
        "\n",
        ">[The Cirq Basics](#scrollTo=hgDjfotpadSY)\n",
        "\n",
        ">>[Qubits, Moments, Operations, and Circuits](#scrollTo=8A7a3jcql1l5)\n",
        "\n",
        ">>[Create a Circuit](#scrollTo=VFwmWPf7D057)\n",
        "\n",
        ">>[Building Circuits](#scrollTo=uaDb6B_jPgrb)\n",
        "\n",
        ">>[Exercise: Create a circuit](#scrollTo=y9conKPAPn26)\n",
        "\n",
        ">>>[Solution](#scrollTo=KnA4uBkwEw5-)\n",
        "\n",
        ">>[Gates](#scrollTo=mmhbPIhT4YAI)\n",
        "\n",
        ">>[Custom Gate Implementation](#scrollTo=RACz4Z5GDMAf)\n",
        "\n",
        ">>[Exercise: Custom Controlled Rx gate](#scrollTo=y63aDja8R4rc)\n",
        "\n",
        ">>>[Problem Statement](#scrollTo=AmVXlCo7n5Yj)\n",
        "\n",
        ">>>[Solution](#scrollTo=7SoneHQRGeUW)\n",
        "\n",
        ">>[Gate decompositions](#scrollTo=9W_Vlgpzz0D1)\n",
        "\n",
        ">[Google's Xmon Gates](#scrollTo=gM1ZW7TstvK9)\n",
        "\n",
        ">[Simulations of a Circuit](#scrollTo=X15yPl_KQ20Z)\n",
        "\n",
        ">>[Repetitions](#scrollTo=YLpiz0aN1Jd6)\n",
        "\n",
        ">[Parameterized Circuits](#scrollTo=3HtlMxa6QpVo)\n",
        "\n",
        ">>[Exercise: Rotate a qubit](#scrollTo=r-CjbPwkRI_I)\n",
        "\n",
        ">>>[Solution](#scrollTo=hGTFY6hM3CBi)\n",
        "\n",
        ">[Noise](#scrollTo=FEM73JPALREa)\n",
        "\n",
        ">>[Monte Carlo Simulations](#scrollTo=3qUM-Kpi8Iy4)\n",
        "\n",
        ">>[Adding Noise to Circuits and Simulations](#scrollTo=weWPzaPx8zly)\n",
        "\n",
        ">[Compiling / Optimizing](#scrollTo=J9ia4eatUQ_x)\n",
        "\n",
        ">>[Exercise: Simplify flipped CNOTs](#scrollTo=--aUfkiaUb3S)\n",
        "\n",
        ">>>[Solution:](#scrollTo=VqltCQJIVgxg)\n",
        "\n",
        ">[Devices](#scrollTo=PvJCA3e0QsuI)\n",
        "\n",
        ">>[Exercise: Make a Device](#scrollTo=lyFcloaARXg4)\n",
        "\n",
        ">>>[Solution](#scrollTo=Qx1iaMysIfVj)\n",
        "\n",
        ">[Other interesting things in Cirq](#scrollTo=tMC-nLE474nH)\n",
        "\n",
        ">>[Experiments](#scrollTo=tMC-nLE474nH)\n",
        "\n",
        ">>[Testing](#scrollTo=38c8tWcX90Zn)\n",
        "\n",
        ">>[Export](#scrollTo=iYqy0qwU9sZy)\n",
        "\n",
        ">>[Quirk](#scrollTo=QlgFtRQs-TfQ)\n",
        "\n"
      ]
    },
    {
      "cell_type": "markdown",
      "metadata": {
        "id": "rPgPbry6-mF3"
      },
      "source": [
        "---\n",
        "## Iterators\n",
        "\n",
        "\n",
        "Iterators are a core functionality of Python: for example, when for loops are executed. An object is called *iterable* if an iterator can be generated from that object.\n",
        "\n",
        "The advantage of using iterators is that they could be used to save resources: for example, no need to store data in system memory."
      ]
    },
    {
      "cell_type": "code",
      "metadata": {
        "id": "RlJBDvNgC00H",
        "colab": {
          "base_uri": "https://localhost:8080/",
          "height": 208
        },
        "outputId": "7959539b-8c14-4284-e2d4-b8dbd7fef5a1"
      },
      "source": [
        "# # define a list\n",
        "the_list = ['a', 'b', 'c', 'd', 2, 0, 1, 9]\n",
        "\n",
        "print(\"Hello list!\", the_list)\n",
        "\n",
        "# get an iterator using iter()\n",
        "the_iter = iter(the_list)\n",
        "\n",
        "print (\"first element is printed manually\")\n",
        "print(next(the_iter))\n",
        "\n",
        "print(\"and the other in a for loop\")\n",
        "\n",
        "for x in the_iter:\n",
        "  print(x)"
      ],
      "execution_count": null,
      "outputs": [
        {
          "output_type": "stream",
          "text": [
            "Hello list! ['a', 'b', 'c', 'd', 2, 0, 1, 9]\n",
            "first element is printed manually\n",
            "a\n",
            "and the other in a for loop\n",
            "b\n",
            "c\n",
            "d\n",
            "2\n",
            "0\n",
            "1\n",
            "9\n"
          ],
          "name": "stdout"
        }
      ]
    },
    {
      "cell_type": "markdown",
      "metadata": {
        "id": "2e7Ap5RWbArN"
      },
      "source": [
        "Python iterators **cannot be reseted**. In fact an iterator is a class that implements two methods: `__iter__()` and `__next__()`. The first method returns the iterator object itself, and `__next__` generates (or returns from memory) the following element. Note that there are also infinite iterators (!).\n",
        "\n"
      ]
    },
    {
      "cell_type": "code",
      "metadata": {
        "id": "8L2TUEfda6dW",
        "colab": {
          "base_uri": "https://localhost:8080/",
          "height": 173
        },
        "outputId": "095769b2-3c19-4ba0-d48d-9ff1a5b8ab6f"
      },
      "source": [
        "class TheCirqBootcampIterator:\n",
        "  def __init__(self, list):\n",
        "    # the constructor\n",
        "    self.max = len(list)\n",
        "    self.list = list\n",
        "    \n",
        "  def __iter__(self):\n",
        "    # iter can be used for initialization\n",
        "    self.position = self.max\n",
        "    return self\n",
        "  \n",
        "  def __next__(self):\n",
        "    # ... and the iterator is advanced\n",
        "    if self.position > 0:\n",
        "      self.position -= 1\n",
        "      return \"*\" + str(self.list[self.position])\n",
        "  \n",
        "    # this is a builtin exception, and the for loop \"catches\" it\n",
        "    # to know when iteration finished\n",
        "    raise StopIteration\n",
        "    \n",
        "    \n",
        "the_iterator = TheCirqBootcampIterator(the_list)\n",
        "\n",
        "print(the_iterator)\n",
        "\n",
        "for x in the_iterator:\n",
        "  print(x)    "
      ],
      "execution_count": null,
      "outputs": [
        {
          "output_type": "stream",
          "text": [
            "<__main__.TheCirqBootcampIterator object at 0x7f18dd666a20>\n",
            "*9\n",
            "*1\n",
            "*0\n",
            "*2\n",
            "*d\n",
            "*c\n",
            "*b\n",
            "*a\n"
          ],
          "name": "stdout"
        }
      ]
    },
    {
      "cell_type": "markdown",
      "metadata": {
        "id": "8V1v8TVTeE0W"
      },
      "source": [
        "## Generators\n",
        "\n",
        "are a way of letting Python handle the complications of constructing and managing the internal state of the iterator. A generator is a function that returns an object which can be iterated over (one value at a time). Instead of explicitly creating the iterator, the `yield` keyword is used. \n",
        "\n",
        "More simple (and inexact) explanation: In a function, whenever `yield` is used, the execution is paused, the function state is saved, and later successive calls continue from the saved state. Compare this with `return`, which terminates the function entirely.\n",
        "\n",
        "**Context**: For the example of Cirq, imagine that quantum circuit sub-routines can be implemented using generators.\n",
        "\n",
        "**Note**: The yield keyword can be used in more complicated Python constructs called [coroutines](http://dabeaz.com/coroutines/Coroutines.pdf), which will not be discussed here."
      ]
    },
    {
      "cell_type": "code",
      "metadata": {
        "id": "r3eJK_kQgxIY",
        "colab": {
          "base_uri": "https://localhost:8080/",
          "height": 173
        },
        "outputId": "7e15dfd3-dc4a-4fab-83dc-94e47107d5bd"
      },
      "source": [
        "def the_bootcamp_generator(the_list):\n",
        "  max_len = len(the_list)\n",
        "  \n",
        "  for i in range(1, max_len +1):\n",
        "    yield the_list[max_len - i]\n",
        "    \n",
        "  return\n",
        "\n",
        "the_generator = the_bootcamp_generator(the_list)\n",
        "\n",
        "print(the_generator)\n",
        "\n",
        "# and we can iterate over the generator\n",
        "for x in the_generator:\n",
        "  print(x)\n",
        "  "
      ],
      "execution_count": null,
      "outputs": [
        {
          "output_type": "stream",
          "text": [
            "<generator object the_bootcamp_generator at 0x7f18dd63a5c8>\n",
            "9\n",
            "1\n",
            "0\n",
            "2\n",
            "d\n",
            "c\n",
            "b\n",
            "a\n"
          ],
          "name": "stdout"
        }
      ]
    },
    {
      "cell_type": "markdown",
      "metadata": {
        "id": "FIlAUD85v_cn"
      },
      "source": [
        "## Decorators and @property\n",
        "\n",
        "Imagine a function which you want to wrap with another function (i.e. define a function inside another function). For example, print something before and after an *arbitrary* function was called. Functions are first-order objects in Python (and *everything* is an object in Python).\n",
        "\n",
        "**Context**: Many Cirq classes use the `property` decorator (e.g. see [`XPowGate.phase_exponent`](https://cirq.readthedocs.io/en/stable/generated/cirq.XPowGate.phase_exponent.html))."
      ]
    },
    {
      "cell_type": "code",
      "metadata": {
        "id": "OKvUdyo_tRG4",
        "colab": {
          "base_uri": "https://localhost:8080/",
          "height": 86
        },
        "outputId": "f08b4795-0c9d-4b80-9fe4-4a8d878d26b4"
      },
      "source": [
        "def wrap_a_function_between_prints(function_to_wrap):\n",
        "  def wrapped_function(*args, **kwargs):\n",
        "    print(\"using red wrapping paper\")\n",
        "    function_to_wrap(*args, **kwargs)\n",
        "    print(\"using a green ribbon\")\n",
        "  return wrapped_function\n",
        "\n",
        "print(\"first\")\n",
        "w = wrap_a_function_between_prints(print)\n",
        "\n",
        "w(\"the gift\")"
      ],
      "execution_count": null,
      "outputs": [
        {
          "output_type": "stream",
          "text": [
            "first\n",
            "using red wrapping paper\n",
            "the gift\n",
            "using a green ribbon\n"
          ],
          "name": "stdout"
        }
      ]
    },
    {
      "cell_type": "markdown",
      "metadata": {
        "id": "4WPfB0448bQE"
      },
      "source": [
        "The `wrapped_function` is a new object (function) which calls an existing function. This can be made more easy, like in the following example."
      ]
    },
    {
      "cell_type": "code",
      "metadata": {
        "id": "4avCBx4D8aD3",
        "colab": {
          "base_uri": "https://localhost:8080/",
          "height": 86
        },
        "outputId": "ed8d537b-65d0-4fe8-8cda-f0cc55f43ea0"
      },
      "source": [
        "# use the wrapper with an @ symbol before the function definition\n",
        "@wrap_a_function_between_prints\n",
        "def hello_world():\n",
        "  print(\"Hello World!\")\n",
        "  return\n",
        "  \n",
        "print(\"second\")\n",
        "hello_world()"
      ],
      "execution_count": null,
      "outputs": [
        {
          "output_type": "stream",
          "text": [
            "second\n",
            "using red wrapping paper\n",
            "Hello World!\n",
            "using a green ribbon\n"
          ],
          "name": "stdout"
        }
      ]
    },
    {
      "cell_type": "markdown",
      "metadata": {
        "id": "IAkozHV38taj"
      },
      "source": [
        "Having said this, imagine that a circuit `num_qubits` field, and it has to be ensured that the number of qubits is always larger than 1."
      ]
    },
    {
      "cell_type": "code",
      "metadata": {
        "id": "2FAzGrQU89bE",
        "colab": {
          "base_uri": "https://localhost:8080/",
          "height": 201
        },
        "outputId": "9182dc17-fceb-4195-bc9a-30791ceaa3a5"
      },
      "source": [
        "class TheQuantumCircuit:\n",
        "  def __init__(self):\n",
        "    self.nr_qubits = 1\n",
        "\n",
        "circ = TheQuantumCircuit()\n",
        "circ.nr_qubits = -1\n",
        "\n",
        "assert(circ.nr_qubits > 0)"
      ],
      "execution_count": null,
      "outputs": [
        {
          "output_type": "error",
          "ename": "AssertionError",
          "evalue": "ignored",
          "traceback": [
            "\u001b[0;31m---------------------------------------------------------------------------\u001b[0m",
            "\u001b[0;31mAssertionError\u001b[0m                            Traceback (most recent call last)",
            "\u001b[0;32m<ipython-input-13-05a6c60a5b1a>\u001b[0m in \u001b[0;36m<module>\u001b[0;34m()\u001b[0m\n\u001b[1;32m      6\u001b[0m \u001b[0mcirc\u001b[0m\u001b[0;34m.\u001b[0m\u001b[0mnr_qubits\u001b[0m \u001b[0;34m=\u001b[0m \u001b[0;34m-\u001b[0m\u001b[0;36m1\u001b[0m\u001b[0;34m\u001b[0m\u001b[0;34m\u001b[0m\u001b[0m\n\u001b[1;32m      7\u001b[0m \u001b[0;34m\u001b[0m\u001b[0m\n\u001b[0;32m----> 8\u001b[0;31m \u001b[0;32massert\u001b[0m\u001b[0;34m(\u001b[0m\u001b[0mcirc\u001b[0m\u001b[0;34m.\u001b[0m\u001b[0mnr_qubits\u001b[0m \u001b[0;34m>\u001b[0m \u001b[0;36m0\u001b[0m\u001b[0;34m)\u001b[0m\u001b[0;34m\u001b[0m\u001b[0;34m\u001b[0m\u001b[0m\n\u001b[0m",
            "\u001b[0;31mAssertionError\u001b[0m: "
          ]
        }
      ]
    },
    {
      "cell_type": "markdown",
      "metadata": {
        "id": "JEbyt52q9XV3"
      },
      "source": [
        "The issue is that the programmer was able to change the value of num_qubits and set a value which was not allowed (negative integer). This could be solved by writing a setter method and calling it."
      ]
    },
    {
      "cell_type": "code",
      "metadata": {
        "id": "iJcKDiF09sqY",
        "colab": {
          "base_uri": "https://localhost:8080/",
          "height": 219
        },
        "outputId": "cec012ab-352d-4807-a3f9-034e19aac70f"
      },
      "source": [
        "class TheQuantumCircuit:\n",
        "  def __init__(self):\n",
        "    self.nr_qubits = 1\n",
        "    \n",
        "  def set_nr_qubits(self, val):\n",
        "    if val > 0:\n",
        "      self.nr_qubits = val\n",
        "      print(\"updated nr_qubits to {}\".format(val))\n",
        "\n",
        "circ2 = TheQuantumCircuit()\n",
        "# will not update\n",
        "circ2.set_nr_qubits(-1)\n",
        "# will update\n",
        "circ2.set_nr_qubits(100)\n",
        "\n",
        "# somebody still use legacy code and can break it easily\n",
        "circ2.nr_qubits = -1\n",
        "assert(circ2.nr_qubits > 0)"
      ],
      "execution_count": null,
      "outputs": [
        {
          "output_type": "stream",
          "text": [
            "updated nr_qubits to 100\n"
          ],
          "name": "stdout"
        },
        {
          "output_type": "error",
          "ename": "AssertionError",
          "evalue": "ignored",
          "traceback": [
            "\u001b[0;31m---------------------------------------------------------------------------\u001b[0m",
            "\u001b[0;31mAssertionError\u001b[0m                            Traceback (most recent call last)",
            "\u001b[0;32m<ipython-input-15-861fd3f6fbbc>\u001b[0m in \u001b[0;36m<module>\u001b[0;34m()\u001b[0m\n\u001b[1;32m     16\u001b[0m \u001b[0;31m# somebody still use legacy code and can break it easily\u001b[0m\u001b[0;34m\u001b[0m\u001b[0;34m\u001b[0m\u001b[0;34m\u001b[0m\u001b[0m\n\u001b[1;32m     17\u001b[0m \u001b[0mcirc2\u001b[0m\u001b[0;34m.\u001b[0m\u001b[0mnr_qubits\u001b[0m \u001b[0;34m=\u001b[0m \u001b[0;34m-\u001b[0m\u001b[0;36m1\u001b[0m\u001b[0;34m\u001b[0m\u001b[0;34m\u001b[0m\u001b[0m\n\u001b[0;32m---> 18\u001b[0;31m \u001b[0;32massert\u001b[0m\u001b[0;34m(\u001b[0m\u001b[0mcirc2\u001b[0m\u001b[0;34m.\u001b[0m\u001b[0mnr_qubits\u001b[0m \u001b[0;34m>\u001b[0m \u001b[0;36m0\u001b[0m\u001b[0;34m)\u001b[0m\u001b[0;34m\u001b[0m\u001b[0;34m\u001b[0m\u001b[0m\n\u001b[0m",
            "\u001b[0;31mAssertionError\u001b[0m: "
          ]
        }
      ]
    },
    {
      "cell_type": "markdown",
      "metadata": {
        "id": "ffRL9mc6BOOq"
      },
      "source": [
        "However, it is not guaranteed that the qubit number check will be automatically used everywhere (imagine larger experiment code base), where the field was used. The solution is to decorate the `nr_qubits` as a *property*."
      ]
    },
    {
      "cell_type": "code",
      "metadata": {
        "id": "JZP1oudt-iRU",
        "colab": {
          "base_uri": "https://localhost:8080/",
          "height": 34
        },
        "outputId": "d660708e-3afa-4ed0-8003-4b6c95258bab"
      },
      "source": [
        "class TheQuantumCircuit:\n",
        "  def __init__(self):\n",
        "    # notice that here the field name starts with a underscore\n",
        "    self._nr_qubits = 1\n",
        "    \n",
        "  @property\n",
        "  def nr_qubits(self):\n",
        "    return self._nr_qubits\n",
        "  \n",
        "  @nr_qubits.setter  \n",
        "  def nr_qubits(self, val):\n",
        "    if val > 0:\n",
        "      self._nr_qubits = val\n",
        "      print(\"updated nr_qubits to {}\".format(val))\n",
        "\n",
        "circ3 = TheQuantumCircuit()\n",
        "\n",
        "circ3.nr_qubits = -1\n",
        "assert(circ3._nr_qubits > 0)\n",
        "print(\"qubits\", circ3.nr_qubits)"
      ],
      "execution_count": null,
      "outputs": [
        {
          "output_type": "stream",
          "text": [
            "qubits 1\n"
          ],
          "name": "stdout"
        }
      ]
    },
    {
      "cell_type": "markdown",
      "metadata": {
        "id": "hgDjfotpadSY"
      },
      "source": [
        "# The Cirq Basics\n",
        "\n",
        "In the following some of the Cirq basics are introduced and exemplified.\n",
        "\n",
        "**Note:** Be aware that Cirq is still alpha software, meaning **we are still making breaking changes all the time**. If you don't want your project to suddenly go from working to not working when we release a new version, you should depend on a *specific version* of Cirq and periodically bump that version to the latest one. For the purposes of this tutorial, we will use version of `0.5` (i.e. `cirq==0.5` in pip's version notation)."
      ]
    },
    {
      "cell_type": "code",
      "metadata": {
        "id": "0_Nn08tWKmwf",
        "colab": {
          "base_uri": "https://localhost:8080/",
          "height": 104
        },
        "outputId": "7882110c-31d9-426e-c2c6-18723713c8fd"
      },
      "source": [
        "# install latest version\n",
        "!pip install cirq==0.6 --quiet\n",
        "\n",
        "# Alternatively, install directly from HEAD on github:\n",
        "# !pip install git+https://github.com/quantumlib/Cirq.git --quiet"
      ],
      "execution_count": null,
      "outputs": [
        {
          "output_type": "stream",
          "text": [
            "\u001b[K     |████████████████████████████████| 1.2MB 4.9MB/s \n",
            "\u001b[K     |████████████████████████████████| 1.2MB 55.7MB/s \n",
            "\u001b[K     |████████████████████████████████| 1.8MB 45.0MB/s \n",
            "\u001b[?25h  Building wheel for networkx (setup.py) ... \u001b[?25l\u001b[?25hdone\n",
            "\u001b[31mERROR: albumentations 0.1.12 has requirement imgaug<0.2.7,>=0.2.5, but you'll have imgaug 0.2.9 which is incompatible.\u001b[0m\n"
          ],
          "name": "stdout"
        }
      ]
    },
    {
      "cell_type": "markdown",
      "metadata": {
        "id": "GPjUqrK8DJTq"
      },
      "source": [
        "(Note: you may see an error about `albumentations` requiring an old `imgaug`. You can ignore this error.)\n",
        "\n",
        "Let's check that Cirq has been successfully installed by importing Cirq and priting out a diagram of the Google's Bristlecone device. ![Google's Bristecone chip](https://4.bp.blogspot.com/-b9akad6ismU/WpmyaJo-cYI/AAAAAAAACa8/mCqPBJxv5oUivy6Jq42FSOQYkeRlTmkiwCLcBGAs/s1600/image1.png)"
      ]
    },
    {
      "cell_type": "code",
      "metadata": {
        "id": "FTrmLyq4C2gf",
        "colab": {
          "base_uri": "https://localhost:8080/",
          "height": 555
        },
        "outputId": "81c546a1-a883-4931-f3ba-da662ce3725f"
      },
      "source": [
        "import cirq\n",
        "import numpy as np\n",
        "import matplotlib as plt\n",
        "print(cirq.google.Bristlecone)"
      ],
      "execution_count": null,
      "outputs": [
        {
          "output_type": "stream",
          "text": [
            "                                             (0, 5)────(0, 6)\n",
            "                                             │         │\n",
            "                                             │         │\n",
            "                                    (1, 4)───(1, 5)────(1, 6)────(1, 7)\n",
            "                                    │        │         │         │\n",
            "                                    │        │         │         │\n",
            "                           (2, 3)───(2, 4)───(2, 5)────(2, 6)────(2, 7)───(2, 8)\n",
            "                           │        │        │         │         │        │\n",
            "                           │        │        │         │         │        │\n",
            "                  (3, 2)───(3, 3)───(3, 4)───(3, 5)────(3, 6)────(3, 7)───(3, 8)───(3, 9)\n",
            "                  │        │        │        │         │         │        │        │\n",
            "                  │        │        │        │         │         │        │        │\n",
            "         (4, 1)───(4, 2)───(4, 3)───(4, 4)───(4, 5)────(4, 6)────(4, 7)───(4, 8)───(4, 9)───(4, 10)\n",
            "         │        │        │        │        │         │         │        │        │        │\n",
            "         │        │        │        │        │         │         │        │        │        │\n",
            "(5, 0)───(5, 1)───(5, 2)───(5, 3)───(5, 4)───(5, 5)────(5, 6)────(5, 7)───(5, 8)───(5, 9)───(5, 10)───(5, 11)\n",
            "         │        │        │        │        │         │         │        │        │        │\n",
            "         │        │        │        │        │         │         │        │        │        │\n",
            "         (6, 1)───(6, 2)───(6, 3)───(6, 4)───(6, 5)────(6, 6)────(6, 7)───(6, 8)───(6, 9)───(6, 10)\n",
            "                  │        │        │        │         │         │        │        │\n",
            "                  │        │        │        │         │         │        │        │\n",
            "                  (7, 2)───(7, 3)───(7, 4)───(7, 5)────(7, 6)────(7, 7)───(7, 8)───(7, 9)\n",
            "                           │        │        │         │         │        │\n",
            "                           │        │        │         │         │        │\n",
            "                           (8, 3)───(8, 4)───(8, 5)────(8, 6)────(8, 7)───(8, 8)\n",
            "                                    │        │         │         │\n",
            "                                    │        │         │         │\n",
            "                                    (9, 4)───(9, 5)────(9, 6)────(9, 7)\n",
            "                                             │         │\n",
            "                                             │         │\n",
            "                                             (10, 5)───(10, 6)\n"
          ],
          "name": "stdout"
        }
      ]
    },
    {
      "cell_type": "markdown",
      "metadata": {
        "id": "09zRgohCMiBs"
      },
      "source": [
        "The import ran without raising an error, and the output is in fact the grid of qubits for the Bristlecone device. Looks like the install worked!\n",
        "\n",
        "\n",
        "\n",
        "---"
      ]
    },
    {
      "cell_type": "markdown",
      "metadata": {
        "id": "8A7a3jcql1l5"
      },
      "source": [
        "## Qubits, Moments, Operations, and Circuits\n",
        " \n",
        " In Cirq, circuits are represented either by a `Circuit` object or a `Schedule` object. `Schedule`s offer more control over quantum gates and circuits at the timing level.\n",
        "\n",
        "A **`Circuit`** is a collection of `Moment`s. \n",
        "\n",
        "A **`Moment`** is a collection of `Operation`s that all act during the same abstract time slice. \n",
        "\n",
        "An **`Operation`** is a an effect that operates on a specific subset of Qubits. The most common type of `Operation` is a `Gate` applied to several qubits (a \"`GateOperation`\"). The following diagram should help illustrate these concepts.\n",
        "\n",
        "![Circuits, Moments, and Operations.](https://cirq.readthedocs.io/en/latest/_images/CircuitMomentOperation.png)"
      ]
    },
    {
      "cell_type": "markdown",
      "metadata": {
        "id": "VFwmWPf7D057"
      },
      "source": [
        "## Create a Circuit\n",
        "\n",
        "Let's create a `Circuit`.  Note that in the previous cell we imported cirq, so we will assume that cirq has been imported through out the rest of this notebook."
      ]
    },
    {
      "cell_type": "code",
      "metadata": {
        "id": "pE88WsFeDGfs",
        "colab": {
          "base_uri": "https://localhost:8080/",
          "height": 104
        },
        "outputId": "5bd69bcf-7816-48d4-f866-7a04f0e40580"
      },
      "source": [
        "# These are three qubits\n",
        "a = cirq.NamedQubit(\"a\")\n",
        "b = cirq.NamedQubit(\"b\")\n",
        "c = cirq.NamedQubit(\"c\")\n",
        "\n",
        "# This is a collection of operations\n",
        "# Each operation is a gate\n",
        "ops = [cirq.H(a), cirq.H(b), cirq.CNOT(b, c), cirq.H(b)]\n",
        "\n",
        "# The circuit is constructed from the collection of operations\n",
        "circuit = cirq.Circuit(ops)\n",
        "\n",
        "# Let us have a look...\n",
        "print(circuit)"
      ],
      "execution_count": null,
      "outputs": [
        {
          "output_type": "stream",
          "text": [
            "a: ───H───────────\n",
            "\n",
            "b: ───H───@───H───\n",
            "          │\n",
            "c: ───────X───────\n"
          ],
          "name": "stdout"
        }
      ]
    },
    {
      "cell_type": "markdown",
      "metadata": {
        "id": "-06jQwEdI4DJ"
      },
      "source": [
        "We can unpack this a bit and see all of the components for the circuit.\n",
        "\n",
        "\n",
        "The first thing we do is pick some qubits to use. There are many different types of qubits in Cirq, and you can define your own by inheriting from the [`cirq.Qid`](https://cirq.readthedocs.io/en/stable/generated/cirq.Qid.html) class. There's nothing inherently special or magical about these quantum id types such as [`cirq.NamedQubit`](https://cirq.readthedocs.io/en/stable/generated/cirq.NamedQubit.html). They simply identify what you wish to operate on, which is relevant when you are targeting a specific device.\n",
        "\n",
        "**Example**: if we were creating a circuit for the Bristlecone device we would use `cirq.GridQubit(5, 0)` to refer to the qubit in the left most position of the device.\n",
        "\n",
        "To keep these simple for now, we'll start with abstract qubits simply identified by a name such as \"a\".\n",
        "```\n",
        "a = cirq.NamedQubit(\"a\")\n",
        "```\n",
        "\n",
        "Next we encounter of the object [`cirq.H`](https://cirq.readthedocs.io/en/stable/generated/cirq.H.html), which is a Hadamard gate.  `cirq.H` is an instance of the `cirq.HGate` class, which itself is a subclass of [`Gate`](https://cirq.readthedocs.io/en/stable/generated/cirq.Gate.html) (along with other classes). \n",
        "$$H = {1 \\over \\sqrt{2}} \\left[ \\begin{array}[cc]  & 1 & 1  \\\\ 1 & -1 \\end{array}\\right]$$\n",
        "We can use [cirq.unitary](https://cirq.readthedocs.io/en/stable/generated/cirq.unitary.html?highlight=cirq.unitary) to see this unitary matrix:"
      ]
    },
    {
      "cell_type": "code",
      "metadata": {
        "id": "YKfg575v1DQB",
        "colab": {
          "base_uri": "https://localhost:8080/",
          "height": 52
        },
        "outputId": "5af68f94-d500-4720-c993-079dff516a96"
      },
      "source": [
        "cirq.unitary(cirq.H)"
      ],
      "execution_count": null,
      "outputs": [
        {
          "output_type": "execute_result",
          "data": {
            "text/plain": [
              "array([[ 0.70710678+0.j,  0.70710678+0.j],\n",
              "       [ 0.70710678+0.j, -0.70710678+0.j]])"
            ]
          },
          "metadata": {
            "tags": []
          },
          "execution_count": 20
        }
      ]
    },
    {
      "cell_type": "markdown",
      "metadata": {
        "id": "hJMAciW21KEg"
      },
      "source": [
        "`Gate` objects have the ability to applied \"on\" to one or more qubits.  There are two ways to do this for gates, either using the `on` method or by directly calling the gate on the qubits as if the gate were a function and the qubits were arguments.  For example to apply the `H` onto qubit `a` we can say\n",
        "```\n",
        "cirq.H.on(a)\n",
        "```\n",
        "or \n",
        "```\n",
        "cirq.H(a)\n",
        "```\n",
        "\n",
        "The result of those expressions is a [`GateOperation`](https://cirq.readthedocs.io/en/stable/generated/cirq.GateOperation.html) object, which is a type of [`Operation`](https://cirq.readthedocs.io/en/stable/generated/cirq.Operation.html).\n",
        "\n",
        "In Cirq we make a strong distinction between `Operation`s and `Gate`s.\n",
        "*   An `Operation` is associated with **specific qubits** and can be put in `Circuit`s.\n",
        "*   A `Gate` has **unspecified qubits**, and will produce an operation when given qubits.\n",
        "\n",
        "\n",
        "Once you have a collection of operations, you can construct a `Circuit` using the class method `Circuit(operations)` (more on that in a minute):\n",
        "```\n",
        "circuit = cirq.Circuit(ops)\n",
        "```\n",
        "The last thing we did in the example code was use the (surprisingly useful) ability to print the circuit as a text diagram.\n",
        "\n",
        "The diagram is visually helpful, but it doesn't really get into the internal details of how the [`Circuit`](https://cirq.readthedocs.io/en/stable/generated/cirq.Circuit.html) is represented. \n",
        "A [`Circuit`](https://cirq.readthedocs.io/en/stable/generated/cirq.Circuit.html) is made up of a sequence of [`Moment`](https://cirq.readthedocs.io/en/stable/generated/cirq.Moment.html) objects.\n",
        "And each `Moment` object is a list of non-overlapping  [`Operation`](https://cirq.readthedocs.io/en/stable/generated/cirq.Operation.html)s.\n",
        "To see this internal structure, we can iterate over the `Moment`s in the `Circuit` while printing them out."
      ]
    },
    {
      "cell_type": "code",
      "metadata": {
        "id": "hH-y4JiEMv25",
        "colab": {
          "base_uri": "https://localhost:8080/",
          "height": 69
        },
        "outputId": "f200d33c-1feb-4513-cac6-2ade8a13aced"
      },
      "source": [
        "# http://book.pythontips.com/en/latest/enumerate.html\n",
        "# enumerate allows to loop over something and have an automatic counter (e.g. i)\n",
        "for i, moment in enumerate(circuit):\n",
        "    print('Moment {}: {}'.format(i, moment))"
      ],
      "execution_count": null,
      "outputs": [
        {
          "output_type": "stream",
          "text": [
            "Moment 0: H(a) and H(b)\n",
            "Moment 1: CNOT(b, c)\n",
            "Moment 2: H(b)\n"
          ],
          "name": "stdout"
        }
      ]
    },
    {
      "cell_type": "markdown",
      "metadata": {
        "id": "pm5iC7MNQY6-"
      },
      "source": [
        "We can also just print the circuit's `repr`, which returns a somewhat more detailed (if less readable) expression."
      ]
    },
    {
      "cell_type": "code",
      "metadata": {
        "id": "2Y6zG_peQG1y",
        "colab": {
          "base_uri": "https://localhost:8080/",
          "height": 225
        },
        "outputId": "ef2d202e-df44-40fd-f9ef-cf787e8845b8"
      },
      "source": [
        "print(repr(circuit))"
      ],
      "execution_count": null,
      "outputs": [
        {
          "output_type": "stream",
          "text": [
            "cirq.Circuit([\n",
            "    cirq.Moment(operations=[\n",
            "        cirq.H.on(cirq.NamedQubit('a')),\n",
            "        cirq.H.on(cirq.NamedQubit('b')),\n",
            "    ]),\n",
            "    cirq.Moment(operations=[\n",
            "        cirq.CNOT.on(cirq.NamedQubit('b'), cirq.NamedQubit('c')),\n",
            "    ]),\n",
            "    cirq.Moment(operations=[\n",
            "        cirq.H.on(cirq.NamedQubit('b')),\n",
            "    ]),\n",
            "])\n"
          ],
          "name": "stdout"
        }
      ]
    },
    {
      "cell_type": "markdown",
      "metadata": {
        "id": "zyVbU8yfW_qi"
      },
      "source": [
        "The usefulness of printing the `repr` is that it includes *all* the gory details.\n",
        "These details can be useful when debugging.\n",
        "The `repr` is also a valid python expression that evaluates to the circuit.\n",
        "For example, if we notice that a circuit generated in some complicated way triggers a bug in a simulator, copy-pasting the generated circuit's `repr` into a test, and then working from there, is a simple way to decouple the reproduction of the bug from the circuit generation code."
      ]
    },
    {
      "cell_type": "markdown",
      "metadata": {
        "id": "uaDb6B_jPgrb"
      },
      "source": [
        "## Building Circuits\n",
        "There are many ways to construct and modify circuits, and each of these is useful in different contexts.  Here are a few examples:\n",
        "\n",
        "\n",
        "1.  [ `Circuit(*ops)`](https://cirq.readthedocs.io/en/stable/generated/cirq.Circuit.html): This is the simplest way to make a circuit. Give this method some operations, and out pops a circuit.\n",
        "2.  [`append`](https://cirq.readthedocs.io/en/stable/generated/cirq.Circuit.append.html):  `Circuit`s are mutable. You can start with an empty `c = cirq.Circuit()` and simply `c.append(operations)` to add on more and more operations \n",
        "3. [`insert`](https://cirq.readthedocs.io/en/stable/generated/cirq.Circuit.insert.html):  Instead of appending, you can insert before a particular moment location (labeled by an integer index)\n",
        "\n",
        "Or a generator function that sometimes yields tuples of operations and other times yields individual operations.\n",
        "Or just a single operation (without a list around it).\n",
        "If it can recursively iterated into individual operations, `append` and `insert` will take it.\n",
        "\n",
        "The main place where auto-flattening is useful is when you are generating a circuit's operations using [generator](https://realpython.com/introduction-to-python-generators/) functions. This is jumping a bit ahead of what we've explained, but basically auto-flattening means that generators producing operations for a circuit can simply `yield` sub-generators (instead of iterating over them and yielding their items).\n",
        "\n",
        "\n",
        "**Note**: Generators in Python are functions that can be paused and resumed on the fly, returning an object that can be iterated over.  To create a generator, you define a function as you normally would but use the **yield statement instead of return**.\n",
        "\n"
      ]
    },
    {
      "cell_type": "code",
      "metadata": {
        "id": "QFoV-eOE1tGN",
        "colab": {
          "base_uri": "https://localhost:8080/",
          "height": 173
        },
        "outputId": "3248ee57-b649-44fb-c5c9-12f0ae460f03"
      },
      "source": [
        "# The quantum SWAP gate is a sequence of three CNOT gates\n",
        "def xor_swap(a, b):\n",
        "    yield cirq.CNOT(a, b)\n",
        "    yield cirq.CNOT(b, a)\n",
        "    yield cirq.CNOT(a, b)\n",
        "\n",
        "\n",
        "def left_rotate(qubits):\n",
        "    for i in range(len(qubits) - 1):\n",
        "        a, b = qubits[i:i+2]\n",
        "        yield xor_swap(a, b)\n",
        "\n",
        "line = cirq.LineQubit.range(5)\n",
        "\n",
        "print(cirq.Circuit(left_rotate(line)))"
      ],
      "execution_count": null,
      "outputs": [
        {
          "output_type": "stream",
          "text": [
            "0: ───@───X───@───────────────────────────────────────\n",
            "      │   │   │\n",
            "1: ───X───@───X───@───X───@───────────────────────────\n",
            "                  │   │   │\n",
            "2: ───────────────X───@───X───@───X───@───────────────\n",
            "                              │   │   │\n",
            "3: ───────────────────────────X───@───X───@───X───@───\n",
            "                                          │   │   │\n",
            "4: ───────────────────────────────────────X───@───X───\n"
          ],
          "name": "stdout"
        }
      ]
    },
    {
      "cell_type": "markdown",
      "metadata": {
        "id": "p9LUxAU41wWs"
      },
      "source": [
        "You may have noticed that there is a hole in what we've explained so far. The output is a 2-dimensional circuit (a list-of-lists-of-operations).\n",
        "There is a degree of freedom that hasn't been account for.\n",
        "Specifically: how does cirq choose the moment that each operation will be placed within?\n",
        "\n",
        "**[The answer is](https://cirq.readthedocs.io/en/stable/circuits.html?highlight=InsertStrategy)**: it depends on the  [`InsertStrategy` ](https://cirq.readthedocs.io/en/stable/generated/cirq.InsertStrategy.html)you choose.\n",
        "\n",
        "There are currently four insertion strategies in Cirq:\n",
        "\n",
        "1.  `InsertStrategy.EARLIEST` (currently the default)\n",
        "2. `InsertStrategy.NEW`,\n",
        "3. `InsertStrategy.INLINE`\n",
        "4.  `InsertStrategy.NEW_THEN_INLINE` \n",
        "\n",
        "`InsertStrategy.EARLIEST` is defined as\n",
        "> `InsertStrategy.EARLIEST`: Scans backward from the insert\n",
        "> location until a moment with operations touching qubits affected by the\n",
        "> operation to insert is found. The operation is added into the moment just\n",
        "> after that location.\n",
        "\n",
        "For example, if we first create an `Operation` in a single moment,\n",
        "and then use `InsertStrategy.EARLIEST` the `Operation` can slide back to this\n",
        "first `Moment` if there is space\n",
        "\n",
        "An `InsertStrategy` defines how ``Operations`` are placed in a `Circuit` when requested to be inserted at a given location.\n",
        "Here a `location` is identified by the index of the `Moment` in the `Circuit` that operations should be placed before (in the case of `Circuit.append` this means inserting at the index `len(circuit)`; which is one more than the largets moment index and so represents the end of the circuit)."
      ]
    },
    {
      "cell_type": "code",
      "metadata": {
        "id": "wNek1WjpX4MR",
        "colab": {
          "base_uri": "https://localhost:8080/",
          "height": 347
        },
        "outputId": "56840ed9-ee3f-44de-f648-be0bad076d93"
      },
      "source": [
        "circuit = cirq.Circuit()\n",
        "# Insert a CZ at the first (zero) moment\n",
        "# The next free moment on qubits a and b is one (1)\n",
        "# On qubit c the next free moment is zero (0)\n",
        "circuit.append([cirq.CZ(a, b)])\n",
        "circuit.append([cirq.H(b), cirq.H(b), cirq.H(a), cirq.H(c)])\n",
        "# We can add a T gate inline to the last Hadamard on moment two(2)\n",
        "circuit.append(cirq.T.on(c), strategy=cirq.InsertStrategy.INLINE)\n",
        "\n",
        "print(circuit)\n",
        "print(repr(circuit))"
      ],
      "execution_count": null,
      "outputs": [
        {
          "output_type": "stream",
          "text": [
            "a: ───@───H───────\n",
            "      │\n",
            "b: ───@───H───H───\n",
            "\n",
            "c: ───H───────T───\n",
            "cirq.Circuit([\n",
            "    cirq.Moment(operations=[\n",
            "        cirq.CZ.on(cirq.NamedQubit('a'), cirq.NamedQubit('b')),\n",
            "        cirq.H.on(cirq.NamedQubit('c')),\n",
            "    ]),\n",
            "    cirq.Moment(operations=[\n",
            "        cirq.H.on(cirq.NamedQubit('b')),\n",
            "        cirq.H.on(cirq.NamedQubit('a')),\n",
            "    ]),\n",
            "    cirq.Moment(operations=[\n",
            "        cirq.H.on(cirq.NamedQubit('b')),\n",
            "        cirq.T.on(cirq.NamedQubit('c')),\n",
            "    ]),\n",
            "])\n"
          ],
          "name": "stdout"
        }
      ]
    },
    {
      "cell_type": "markdown",
      "metadata": {
        "id": "TcHeZM6qXvbS"
      },
      "source": [
        "After creating the first moment with a `CZ` gate, the second\n",
        "append uses the `InsertStrategy.EARLIEST` strategy\":\n",
        "*   The `H` on ``a`` and ``b`` cannot slide back\n",
        "*   The `H` on ``c`` can slide back, and so ends up in the first `Moment`.\n",
        "\n",
        "**`InsertStrategy.EARLIEST` is the default strategy.**\n",
        "\n",
        "The second most important strategy is `InsertStrategy.NEW_THEN_INLINE`:\n",
        "> `InsertStrategy.NEW_INLINE`: For the first operation, add it to a new \n",
        "> `Moment` the insertion point.  Attempts to add the operation after the first \n",
        "> operation to insert into the moment just before the desired insert location. \n",
        "> But, if there's already an existing operation affecting any of the qubits\n",
        "> touched by the operation to insert, a new moment is created instead and this \n",
        "> `Moment` is the one that is subsequently used for insertions.\n",
        "\n",
        "As an example of this examine this code"
      ]
    },
    {
      "cell_type": "code",
      "metadata": {
        "id": "qWVDhLxFYuRp",
        "colab": {
          "base_uri": "https://localhost:8080/",
          "height": 330
        },
        "outputId": "5c40557e-ea21-4adc-f271-37b555902de8"
      },
      "source": [
        "circuit = cirq.Circuit()\n",
        "# The CZ adds a new moment zero (0)\n",
        "circuit.append([cirq.CZ(a, b)])\n",
        "# H(c) adds a new moment one (1)\n",
        "# the first H(b) is inserted at moment one (1)\n",
        "# the second H(b) adds a new moment two (2), because at moment one (1) there is already the first H(b)\n",
        "# H(a) is now added to moment two (2)\n",
        "circuit.append([cirq.H(c), cirq.H(b), cirq.H(b), cirq.H(a)], \n",
        "               strategy = cirq.InsertStrategy.NEW_THEN_INLINE)\n",
        "\n",
        "print(circuit)\n",
        "print(repr(circuit))"
      ],
      "execution_count": null,
      "outputs": [
        {
          "output_type": "stream",
          "text": [
            "a: ───@───────H───\n",
            "      │\n",
            "b: ───@───H───H───\n",
            "\n",
            "c: ───────H───────\n",
            "cirq.Circuit([\n",
            "    cirq.Moment(operations=[\n",
            "        cirq.CZ.on(cirq.NamedQubit('a'), cirq.NamedQubit('b')),\n",
            "    ]),\n",
            "    cirq.Moment(operations=[\n",
            "        cirq.H.on(cirq.NamedQubit('c')),\n",
            "        cirq.H.on(cirq.NamedQubit('b')),\n",
            "    ]),\n",
            "    cirq.Moment(operations=[\n",
            "        cirq.H.on(cirq.NamedQubit('b')),\n",
            "        cirq.H.on(cirq.NamedQubit('a')),\n",
            "    ]),\n",
            "])\n"
          ],
          "name": "stdout"
        }
      ]
    },
    {
      "cell_type": "markdown",
      "metadata": {
        "id": "y9conKPAPn26"
      },
      "source": [
        "## Exercise: Create a circuit\n",
        "\n",
        "Now that you've learned about `InsertStrategy`, here is an exercise to validate your understanding.  Create, using the **least number of appends** the following circuit (note that printing a circuit in Cirq does not always print a moment by moment structure e.g. to avoid overlapping operations in the diagram, but here imagine that you want exactly the moments indicated by the spacing of the circuit.)\n",
        "\n",
        "\n",
        "\n",
        "```\n",
        "x: ───@───H───────────H───S───\n",
        "      │\n",
        "y: ───@───────T───@───H───────\n",
        "                  │\n",
        "z: ───H───────────@───────────\n",
        "```\n",
        "\n"
      ]
    },
    {
      "cell_type": "code",
      "metadata": {
        "id": "amTX-6haE7ZH"
      },
      "source": [
        ""
      ],
      "execution_count": null,
      "outputs": []
    },
    {
      "cell_type": "markdown",
      "metadata": {
        "id": "KnA4uBkwEw5-"
      },
      "source": [
        "### Solution"
      ]
    },
    {
      "cell_type": "code",
      "metadata": {
        "id": "jP4VkPeHcjJT",
        "cellView": "both",
        "colab": {
          "base_uri": "https://localhost:8080/",
          "height": 104
        },
        "outputId": "234266e3-69a1-493b-88ed-f6755b997f93"
      },
      "source": [
        "a = cirq.NamedQubit('x')\n",
        "b = cirq.NamedQubit('y')\n",
        "c = cirq.NamedQubit('z')\n",
        "\n",
        "circuit = cirq.Circuit()\n",
        "\n",
        "#circuit.append(cirq.Moment([cirq.CZ(a, b), cirq.H(c), cirq.H(a)]) )\n",
        "circuit.append([cirq.CZ(a, b), cirq.H(c), cirq.H(a)])\n",
        "# The previous append is equivalent to appending two Moments\n",
        "circuit.append(cirq.Moment([cirq.CZ(a, b), cirq.H(c)]) )\n",
        "circuit.append(cirq.Moment([cirq.H(a)]) )\n",
        "\n",
        "circuit.append([cirq.T(b), cirq.CZ(b, c), cirq.H(b), cirq.H(a), cirq.S(a)],\n",
        "               strategy=cirq.InsertStrategy.NEW_THEN_INLINE)\n",
        "print(circuit)"
      ],
      "execution_count": null,
      "outputs": [
        {
          "output_type": "stream",
          "text": [
            "x: ───@───H───@───H───────────H───S───\n",
            "      │       │\n",
            "y: ───@───────@───────T───@───H───────\n",
            "                          │\n",
            "z: ───H───────H───────────@───────────\n"
          ],
          "name": "stdout"
        }
      ]
    },
    {
      "cell_type": "markdown",
      "metadata": {
        "id": "mmhbPIhT4YAI"
      },
      "source": [
        "## Gates"
      ]
    },
    {
      "cell_type": "markdown",
      "metadata": {
        "id": "F5ubTic94X79"
      },
      "source": [
        "Cirq comes with a plethora of different common gates.  Here we show a few of them."
      ]
    },
    {
      "cell_type": "code",
      "metadata": {
        "id": "iIpoDaqK4yjV",
        "colab": {
          "base_uri": "https://localhost:8080/",
          "height": 104
        },
        "outputId": "fe1e9996-c5d6-4aaf-eda3-ffaddb1a0b26"
      },
      "source": [
        "q0, q1, q2 = cirq.LineQubit.range(3)\n",
        "ops = [\n",
        "    cirq.X(q0),\n",
        "    cirq.Y(q1),\n",
        "    cirq.Z(q2),\n",
        "    cirq.CZ(q0,q1),\n",
        "    cirq.CNOT(q1,q2),\n",
        "    cirq.H(q0),\n",
        "    cirq.T(q1),\n",
        "    cirq.S(q2),\n",
        "    cirq.CCZ(q0, q1, q2),\n",
        "    cirq.SWAP(q0, q1),\n",
        "    cirq.CSWAP(q0, q1, q2),\n",
        "    cirq.CCX(q0, q1, q2),\n",
        "    cirq.ISWAP(q0, q1),\n",
        "    cirq.Rx(0.5 * np.pi)(q0),\n",
        "    cirq.Ry(.5 * np.pi)(q1),\n",
        "    cirq.Rz(0.5 * np.pi)(q2),\n",
        "    # Square root of X\n",
        "    (cirq.X**0.5)(q0),\n",
        "]\n",
        "print(cirq.Circuit(ops))"
      ],
      "execution_count": null,
      "outputs": [
        {
          "output_type": "stream",
          "text": [
            "0: ───X───@───H───────@───×───@───@───iSwap──────Rx(0.5π)───X^0.5───\n",
            "          │           │   │   │   │   │\n",
            "1: ───Y───@───@───T───@───×───×───@───iSwap──────Ry(0.5π)───────────\n",
            "              │       │       │   │\n",
            "2: ───Z───────X───S───@───────×───X───Rz(0.5π)──────────────────────\n"
          ],
          "name": "stdout"
        }
      ]
    },
    {
      "cell_type": "markdown",
      "metadata": {
        "id": "FKRGtncT7R0v"
      },
      "source": [
        "For each of these gates, you can figure out how they act on the computational basis by calling `cirq.unitary` on the gate.  For example:"
      ]
    },
    {
      "cell_type": "code",
      "metadata": {
        "id": "7SUAT5F17afR",
        "colab": {
          "base_uri": "https://localhost:8080/",
          "height": 86
        },
        "outputId": "a8dcc729-139f-4718-9e32-445924a0d272"
      },
      "source": [
        "print(cirq.unitary(cirq.CNOT))"
      ],
      "execution_count": null,
      "outputs": [
        {
          "output_type": "stream",
          "text": [
            "[[1.+0.j 0.+0.j 0.+0.j 0.+0.j]\n",
            " [0.+0.j 1.+0.j 0.+0.j 0.+0.j]\n",
            " [0.+0.j 0.+0.j 0.+0.j 1.+0.j]\n",
            " [0.+0.j 0.+0.j 1.+0.j 0.+0.j]]\n"
          ],
          "name": "stdout"
        }
      ]
    },
    {
      "cell_type": "code",
      "metadata": {
        "id": "Me6u5EQY76KA",
        "colab": {
          "base_uri": "https://localhost:8080/",
          "height": 52
        },
        "outputId": "9498ae0d-3f8e-48cd-f24d-d121e0e3022f"
      },
      "source": [
        "print(cirq.unitary(cirq.Rx(0.5 * np.pi)))"
      ],
      "execution_count": null,
      "outputs": [
        {
          "output_type": "stream",
          "text": [
            "[[0.70710678+0.j         0.        -0.70710678j]\n",
            " [0.        -0.70710678j 0.70710678+0.j        ]]\n"
          ],
          "name": "stdout"
        }
      ]
    },
    {
      "cell_type": "markdown",
      "metadata": {
        "id": "flm4CcqT2DoI"
      },
      "source": [
        "For single qubit gates, we have named gates like `cirq.H` for the Hadamard gate, but probably more useful are the single qubit rotation gates.\n",
        "\n",
        "$$ \n",
        "{\\tt cirq.Rx(θ)}: \\exp(-i \\theta X) = cos \\theta I - i \\sin \\theta X =\\left[ \\begin{array} ~\\cos \\theta & -i \\sin \\theta \\\\ -i \\sin \\theta & \\cos \\theta\\end{array} \\right] \\\\\n",
        "$$ \n",
        "$$ \n",
        "{\\tt cirq.Ry(θ)}: \\exp(-i \\theta Y) = cos \\theta I - i \\sin \\theta Y =\\left[ \\begin{array} ~\\cos \\theta &  -\\sin \\theta \\\\  \\sin \\theta & \\cos \\theta\\end{array} \\right] \\\\\n",
        "$$ \n",
        "$$ \n",
        "{\\tt cirq.Rz(θ)}: \\exp(-i \\theta Z) = cos \\theta I - i \\sin \\theta Z =\\left[ \\begin{array} ~e^{i \\theta} & 0 \\\\ 0 & e^{-i \\theta} \\end{array} \\right] \\\\\n",
        "$$ \n",
        "\n",
        "In addition to `cirq.unitary` another important method (behind the scenes, anyways) is `cirq.apply_unitary_to_tensor`.  This allows you to apply a unitary gate onto a state.  Of course we could have applied the unitary directly to the state, using `cirq.unitary`.   We'll see below in understanding how these methods are implemented that the `cirq.apply_unitary_to_tensor` can be used to apply the gate more directly onto the state and can save allocations of memory to store the unitary.\n",
        "\n",
        "**Note**: More about $Rx$ after introducing the simulation."
      ]
    },
    {
      "cell_type": "markdown",
      "metadata": {
        "id": "sOvLEdN5PlcK"
      },
      "source": [
        "I*f we apply `cirq.Rx` to a state we can see how it rotates the state.  To do this let us introduce a new simulate method [`simulate_moment_steps`](https://cirq.readthedocs.io/en/stable/generated/cirq.Simulator.simulate_moment_steps.html). This allows us to simulate the circuit `Moment` by `Moment`.  At each point we can access the state.*\n",
        "\n",
        "**Example**: Create a circuit that is a series of small `cirq.Rx` rotations and plot the probablility of measuring the state in the $|0\\rangle$ state:"
      ]
    },
    {
      "cell_type": "code",
      "metadata": {
        "id": "UgoNBN1H8B6h",
        "colab": {
          "base_uri": "https://localhost:8080/",
          "height": 351
        },
        "outputId": "087d77aa-7a8e-4ec3-ff68-5677c2499a79"
      },
      "source": [
        "# A single qubit circuit\n",
        "a = cirq.NamedQubit('a')\n",
        "\n",
        "# there are 200 Moments in this circuit. Each is a simulation step.\n",
        "steps = 200\n",
        "small_rotations = [cirq.Rx(np.pi / 50.0)(a) for theta in range(steps)]\n",
        "circuit = cirq.Circuit(small_rotations)\n",
        "\n",
        "print('Circuit is a bunch of small rotations about Pauli X axis:')\n",
        "print('{}\\n'.format(circuit))\n",
        "\n",
        "# we are storing here the indices on the X axis\n",
        "z = []\n",
        "# we are storing here the probabilities on the Y axis\n",
        "p0 = []\n",
        "\n",
        "print('We step through the circuit and plot the z component of the vector '\n",
        "      'as a function of index of the moment being stepped over.')\n",
        "\n",
        "simulator = cirq.Simulator()\n",
        "for i, step in enumerate(simulator.simulate_moment_steps(circuit)):\n",
        "    # probability is square of amplitude\n",
        "    prob = np.abs(step.state_vector()) ** 2\n",
        "    # save the index\n",
        "    z.append(i)\n",
        "    # save the probability\n",
        "    p0.append(prob[0])\n",
        "\n",
        "# plots a graph\n",
        "plt.pyplot.style.use('seaborn-whitegrid');\n",
        "plt.pyplot.plot(z, p0, 'o');"
      ],
      "execution_count": null,
      "outputs": [
        {
          "output_type": "stream",
          "text": [
            "Circuit is a bunch of small rotations about Pauli X axis:\n",
            "a: ───Rx(0.02π)───Rx(0.02π)───Rx(0.02π)───Rx(0.02π)───Rx(0.02π)───Rx(0.02π)───Rx(0.02π)───Rx(0.02π)───Rx(0.02π)───Rx(0.02π)───Rx(0.02π)───Rx(0.02π)───Rx(0.02π)───Rx(0.02π)───Rx(0.02π)───Rx(0.02π)───Rx(0.02π)───Rx(0.02π)───Rx(0.02π)───Rx(0.02π)───Rx(0.02π)───Rx(0.02π)───Rx(0.02π)───Rx(0.02π)───Rx(0.02π)───Rx(0.02π)───Rx(0.02π)───Rx(0.02π)───Rx(0.02π)───Rx(0.02π)───Rx(0.02π)───Rx(0.02π)───Rx(0.02π)───Rx(0.02π)───Rx(0.02π)───Rx(0.02π)───Rx(0.02π)───Rx(0.02π)───Rx(0.02π)───Rx(0.02π)───Rx(0.02π)───Rx(0.02π)───Rx(0.02π)───Rx(0.02π)───Rx(0.02π)───Rx(0.02π)───Rx(0.02π)───Rx(0.02π)───Rx(0.02π)───Rx(0.02π)───Rx(0.02π)───Rx(0.02π)───Rx(0.02π)───Rx(0.02π)───Rx(0.02π)───Rx(0.02π)───Rx(0.02π)───Rx(0.02π)───Rx(0.02π)───Rx(0.02π)───Rx(0.02π)───Rx(0.02π)───Rx(0.02π)───Rx(0.02π)───Rx(0.02π)───Rx(0.02π)───Rx(0.02π)───Rx(0.02π)───Rx(0.02π)───Rx(0.02π)───Rx(0.02π)───Rx(0.02π)───Rx(0.02π)───Rx(0.02π)───Rx(0.02π)───Rx(0.02π)───Rx(0.02π)───Rx(0.02π)───Rx(0.02π)───Rx(0.02π)───Rx(0.02π)───Rx(0.02π)───Rx(0.02π)───Rx(0.02π)───Rx(0.02π)───Rx(0.02π)───Rx(0.02π)───Rx(0.02π)───Rx(0.02π)───Rx(0.02π)───Rx(0.02π)───Rx(0.02π)───Rx(0.02π)───Rx(0.02π)───Rx(0.02π)───Rx(0.02π)───Rx(0.02π)───Rx(0.02π)───Rx(0.02π)───Rx(0.02π)───Rx(0.02π)───Rx(0.02π)───Rx(0.02π)───Rx(0.02π)───Rx(0.02π)───Rx(0.02π)───Rx(0.02π)───Rx(0.02π)───Rx(0.02π)───Rx(0.02π)───Rx(0.02π)───Rx(0.02π)───Rx(0.02π)───Rx(0.02π)───Rx(0.02π)───Rx(0.02π)───Rx(0.02π)───Rx(0.02π)───Rx(0.02π)───Rx(0.02π)───Rx(0.02π)───Rx(0.02π)───Rx(0.02π)───Rx(0.02π)───Rx(0.02π)───Rx(0.02π)───Rx(0.02π)───Rx(0.02π)───Rx(0.02π)───Rx(0.02π)───Rx(0.02π)───Rx(0.02π)───Rx(0.02π)───Rx(0.02π)───Rx(0.02π)───Rx(0.02π)───Rx(0.02π)───Rx(0.02π)───Rx(0.02π)───Rx(0.02π)───Rx(0.02π)───Rx(0.02π)───Rx(0.02π)───Rx(0.02π)───Rx(0.02π)───Rx(0.02π)───Rx(0.02π)───Rx(0.02π)───Rx(0.02π)───Rx(0.02π)───Rx(0.02π)───Rx(0.02π)───Rx(0.02π)───Rx(0.02π)───Rx(0.02π)───Rx(0.02π)───Rx(0.02π)───Rx(0.02π)───Rx(0.02π)───Rx(0.02π)───Rx(0.02π)───Rx(0.02π)───Rx(0.02π)───Rx(0.02π)───Rx(0.02π)───Rx(0.02π)───Rx(0.02π)───Rx(0.02π)───Rx(0.02π)───Rx(0.02π)───Rx(0.02π)───Rx(0.02π)───Rx(0.02π)───Rx(0.02π)───Rx(0.02π)───Rx(0.02π)───Rx(0.02π)───Rx(0.02π)───Rx(0.02π)───Rx(0.02π)───Rx(0.02π)───Rx(0.02π)───Rx(0.02π)───Rx(0.02π)───Rx(0.02π)───Rx(0.02π)───Rx(0.02π)───Rx(0.02π)───Rx(0.02π)───Rx(0.02π)───Rx(0.02π)───Rx(0.02π)───Rx(0.02π)───Rx(0.02π)───Rx(0.02π)───Rx(0.02π)───Rx(0.02π)───Rx(0.02π)───Rx(0.02π)───Rx(0.02π)───\n",
            "\n",
            "We step through the circuit and plot the z component of the vector as a function of index of the moment being stepped over.\n"
          ],
          "name": "stdout"
        },
        {
          "output_type": "display_data",
          "data": {
            "image/png": "[encoded data removed]",
            "text/plain": [
              "<Figure size 432x288 with 1 Axes>"
            ]
          },
          "metadata": {
            "tags": []
          }
        }
      ]
    },
    {
      "cell_type": "markdown",
      "metadata": {
        "id": "6q0YkXSZBvzd"
      },
      "source": [
        "**Above** we have given ourselves direct access to the wave function and calculated the exact probabilities.  Suppose we wanted to sample from the wave function at each point instead.\n"
      ]
    },
    {
      "cell_type": "code",
      "metadata": {
        "id": "iynhJEvoCIro",
        "colab": {
          "base_uri": "https://localhost:8080/",
          "height": 262
        },
        "outputId": "58d45808-1dfb-4977-8cd0-cdd3e7998bb5"
      },
      "source": [
        "# A single qubit circuit\n",
        "a = cirq.NamedQubit('a')\n",
        "\n",
        "# there are 200 Moments in this circuit. Each is a simulation step.\n",
        "steps = 200\n",
        "small_rotations = [cirq.Rx(np.pi / 50.0)(a) for theta in range(steps)]\n",
        "circuit = cirq.Circuit(small_rotations)\n",
        "\n",
        "# we are storing here the indices on the X axis\n",
        "z = []\n",
        "# we are storing here the probabilities on the Y axis\n",
        "p0 = []\n",
        "\n",
        "# Sampling repetitions\n",
        "repetitions = 1000\n",
        "\n",
        "simulator = cirq.Simulator()\n",
        "for i, step in enumerate(simulator.simulate_moment_steps(circuit)):\n",
        "    samples = step.sample([a], repetitions=repetitions)\n",
        "    # 0 is False, 1 is True\n",
        "    prob = np.sum(samples, axis=0)\n",
        "    # 1- (the sum of 0 divided by repetitions)\n",
        "    prob0 = 1 - (prob[0] / repetitions)\n",
        "    \n",
        "    # save the index\n",
        "    z.append(i)\n",
        "    # save the probability\n",
        "    p0.append(prob0)\n",
        "    \n",
        "plt.pyplot.style.use('seaborn-whitegrid');\n",
        "plt.pyplot.plot(z, p0, 'o');"
      ],
      "execution_count": null,
      "outputs": [
        {
          "output_type": "display_data",
          "data": {
            "image/png": "[encoded data removed]",
            "text/plain": [
              "<Figure size 432x288 with 1 Axes>"
            ]
          },
          "metadata": {
            "tags": []
          }
        }
      ]
    },
    {
      "cell_type": "markdown",
      "metadata": {
        "id": "RACz4Z5GDMAf"
      },
      "source": [
        "## Custom Gate Implementation\n",
        "\n",
        "Supose there is a gate that you want Cirq to support, but it is not implemented in Cirq.  How do you go about adding a new gate? Cirq tries to be Pythonic.  One way in which it does this is that it relies on Python's **[protocol](https://www.python.org/dev/peps/pep-0544/#defining-a-protocol)** pattern. \n",
        "\n",
        "**Note**: Protocols are similar to interfaces, in that they define a collection of methods that an object must support to implement a protocol, but different in that this requirement is more informal and not a part of a class or interface declaration.  An object supports a protocol if it implements the methods that the protocol defines.  You're probably familiar with this if you've ever done something like defined your own `Container` in Python.  To do this for an object you simply define the `__contains__`, `__setitem__`, and `__getitem__` methods on your object, and then you can use this object anywere the Container protocol is supported.  \n",
        "\n",
        "**Example**:  The gate we will define is a single qubit gate that has only rational amplitudes. This is based on the famous 3, 4, 5 triangle you may remember from a long ago math class: $3^2 + 4^2 = 5^2$.  Using this observation we can construct normalized vectors and a unitary transform using on ratios of $3$, $4$, and $5$: \n",
        "$$\n",
        "\\zeta =\\left[ \\begin{array}\n",
        "~\\frac{3}{5} & \\frac{4}{5} \\\\\n",
        "-\\frac{4}{5} & \\frac{3}{5}\n",
        "\\end{array} \\right]\n",
        "$$\n",
        "\n",
        "Here is a simple implementation of this gate.  To do this we simply define a class that inherits from [`cirq.SingleQubitGate`](https://cirq.readthedocs.io/en/stable/generated/cirq.SingleQubitGate.html#cirq.SingleQubitGate) and implements the [`cirq.SupportsUnitary`](https://cirq.readthedocs.io/en/stable/generated/cirq.SupportsUnitary.html#cirq.SupportsUnitary) protocol by implementing the `_unitary_(self)` method. \n",
        "\n",
        "**We will also define a `__str__` representation. By default Cirq will use this string when priting out the gate in a circuit diagram.**"
      ]
    },
    {
      "cell_type": "code",
      "metadata": {
        "id": "Y2a7t2qmLDTb",
        "colab": {
          "base_uri": "https://localhost:8080/",
          "height": 34
        },
        "outputId": "49fc0de9-c3cb-4c54-fdd7-816caeb0c175"
      },
      "source": [
        "class RationalGate(cirq.SingleQubitGate):\n",
        "    \n",
        "    def _unitary_(self):\n",
        "        return np.array([[3 / 5, 4 / 5], [-4 / 5, 3 / 5]])\n",
        "    \n",
        "    def __str__(self):\n",
        "        return 'ζ'\n",
        "\n",
        "\n",
        "a = cirq.NamedQubit('a')\n",
        "rg = RationalGate()\n",
        "\n",
        "print(cirq.Circuit([rg(a)]))"
      ],
      "execution_count": null,
      "outputs": [
        {
          "output_type": "stream",
          "text": [
            "a: ───ζ───\n"
          ],
          "name": "stdout"
        }
      ]
    },
    {
      "cell_type": "markdown",
      "metadata": {
        "id": "TY4zT46KQcjS"
      },
      "source": [
        "\n",
        "**Implemeting `_unitary_` allows cirq to call `cirq.unitary` on an object.**\n",
        "Almost all of the basic gates we have defined in Cirq have this method implemented.\n",
        "\n",
        "\n",
        "**Note**: TL;DR if you need to get performant multiqubit gates you should implement a custom `_apply_unitary_to_tensor_`. There is actually an interesting advanced subtly here, which is that many methods in Cirq that ostensibly depend on a gate's unitary try to avoid the `_unitary_` method, because it is extremely inefficient for gates over many qubits. In most cases the method `_apply_unitary_to_tensor_` will be used instead, if it is available. This method allows much more fine grained control on how a unitary is applied to a state, but it is harder to implement as it is expected to e.g. use the pre-allocated workspace buffer that was given to it.\n"
      ]
    },
    {
      "cell_type": "code",
      "metadata": {
        "id": "x9dHKNfgMoyz",
        "colab": {
          "base_uri": "https://localhost:8080/",
          "height": 52
        },
        "outputId": "4f18f23c-2637-44ce-de81-0f913ff19c12"
      },
      "source": [
        "print(cirq.unitary(rg))"
      ],
      "execution_count": null,
      "outputs": [
        {
          "output_type": "stream",
          "text": [
            "[[ 0.6  0.8]\n",
            " [-0.8  0.6]]\n"
          ],
          "name": "stdout"
        }
      ]
    },
    {
      "cell_type": "markdown",
      "metadata": {
        "id": "y63aDja8R4rc"
      },
      "source": [
        "## Exercise: Custom Controlled Rx gate\n",
        "\n",
        "Recall that the `cirq.Rx` gate is a rotation about the $X$ pauli axis:\n",
        "$$ \n",
        "{\\tt cirq.Rx(θ)}: \\exp(-i \\theta X) = cos \\theta I - i \\sin \\theta X =\\left[ \\begin{array} ~\\cos \\theta & -i \\sin \\theta \\\\ -i \\sin \\theta & \\cos \\theta\\end{array} \\right] \\\\\n",
        "$$ "
      ]
    },
    {
      "cell_type": "markdown",
      "metadata": {
        "id": "AmVXlCo7n5Yj"
      },
      "source": [
        "### Problem Statement\n",
        "As an exercise, create a two qubit controlled `cirq.Rx` gate:\n",
        "\n",
        "$$\n",
        "{\\tt CRx(\\theta)}:\n",
        "\\left[\\begin{array}\n",
        "~1 & 0 & 0 & 0 \\\\\n",
        "0 & 1 & 0 & 0  \\\\\n",
        "0 & 0 & \\cos \\theta & -i \\sin \\theta \\\\\n",
        "0 & 0 & -i \\sin \\theta & \\cos \\theta\n",
        "\\end{array} \\right]\n",
        "$$"
      ]
    },
    {
      "cell_type": "code",
      "metadata": {
        "id": "9htgTzqAYHsA",
        "colab": {
          "base_uri": "https://localhost:8080/",
          "height": 34
        },
        "outputId": "61d6be8b-4811-4d8a-90d8-88b3dd91f4c3"
      },
      "source": [
        "class CRx(cirq.TwoQubitGate):\n",
        "\n",
        "    def __init__(self, theta):\n",
        "        self.theta = theta\n",
        "\n",
        "    def _unitary_(self):\n",
        "      return np.array([\n",
        "        \n",
        "      ])\n",
        "    \n",
        "    # Get this to print nicely in an ASCII circuit, you should also\n",
        "    # implement the _circuit_diagram_info_ method from the\n",
        "    # SupportsCircuitDiagramInfo protocol. You can return a tuple\n",
        "    # of strings from this method.\n",
        "    def _circuit_diagram_info_(self, args):\n",
        "      return \"@\",\"2\"\n",
        "      #pass\n",
        "\n",
        "\n",
        "print(np.around(cirq.unitary(CRx(0.25 * np.pi))))     "
      ],
      "execution_count": null,
      "outputs": [
        {
          "output_type": "stream",
          "text": [
            "[]\n"
          ],
          "name": "stdout"
        }
      ]
    },
    {
      "cell_type": "code",
      "metadata": {
        "id": "zVsfg8erYhiw",
        "colab": {
          "base_uri": "https://localhost:8080/",
          "height": 69
        },
        "outputId": "6e6a367d-1f60-4495-f1dd-7afba72efdce"
      },
      "source": [
        "# Also get your class to print a circuit correctly.\n",
        "\n",
        "a = cirq.NamedQubit('a')\n",
        "b = cirq.NamedQubit('b')\n",
        "op = CRx(0.25 * np.pi)(a, b)\n",
        "\n",
        "print(cirq.Circuit([op]))"
      ],
      "execution_count": null,
      "outputs": [
        {
          "output_type": "stream",
          "text": [
            "a: ───@───\n",
            "      │\n",
            "b: ───2───\n"
          ],
          "name": "stdout"
        }
      ]
    },
    {
      "cell_type": "markdown",
      "metadata": {
        "id": "7SoneHQRGeUW"
      },
      "source": [
        "### Solution"
      ]
    },
    {
      "cell_type": "code",
      "metadata": {
        "id": "XaG8n5bdGgf2",
        "colab": {
          "base_uri": "https://localhost:8080/",
          "height": 278
        },
        "outputId": "d20f21ae-588f-4da9-a699-3f12484d7bba"
      },
      "source": [
        "class CRxBootcamp(cirq.TwoQubitGate):\n",
        "\n",
        "    def __init__(self, theta):\n",
        "        self.theta = theta\n",
        "\n",
        "        self.isintheta = -1j * np.sin(self.theta)\n",
        "        self.costheta = np.cos(self.theta)\n",
        "      \n",
        "\n",
        "    def _unitary_(self):\n",
        "      \n",
        "      print(\"the rotation angle is:\", self.theta)\n",
        "      \n",
        "      return np.array([\n",
        "          [1, 0, 0,               0],\n",
        "          [0, 1, 0,               0],\n",
        "          [0, 0, self.costheta,   self.isintheta],\n",
        "          [0, 0, self.isintheta,  self.costheta]\n",
        "      ])\n",
        "    \n",
        "    def _circuit_diagram_info_(self, args):\n",
        "        # the @ is for control\n",
        "        return '@', 'Rx({}π)'.format(self.theta / np.pi)\n",
        "          # return \"C1\", \"D2\"\n",
        "    \n",
        "\n",
        "print('cirq.unitary on the gate yields:')\n",
        "print(cirq.unitary(CRxBootcamp(0.25 * np.pi)))\n",
        "print()\n",
        "\n",
        "a = cirq.NamedQubit('a')\n",
        "b = cirq.NamedQubit('b')\n",
        "op = CRxBootcamp(0.25 * np.pi)(a, b)\n",
        "print('Circuit diagram:')\n",
        "print(cirq.Circuit([op]))"
      ],
      "execution_count": null,
      "outputs": [
        {
          "output_type": "stream",
          "text": [
            "cirq.unitary on the gate yields:\n",
            "the rotation angle is: 0.7853981633974483\n",
            "[[1.        +0.j         0.        +0.j         0.        +0.j\n",
            "  0.        +0.j        ]\n",
            " [0.        +0.j         1.        +0.j         0.        +0.j\n",
            "  0.        +0.j        ]\n",
            " [0.        +0.j         0.        +0.j         0.70710678+0.j\n",
            "  0.        -0.70710678j]\n",
            " [0.        +0.j         0.        +0.j         0.        -0.70710678j\n",
            "  0.70710678+0.j        ]]\n",
            "\n",
            "Circuit diagram:\n",
            "a: ───@───────────\n",
            "      │\n",
            "b: ───Rx(0.25π)───\n"
          ],
          "name": "stdout"
        }
      ]
    },
    {
      "cell_type": "markdown",
      "metadata": {
        "id": "9W_Vlgpzz0D1"
      },
      "source": [
        "## Gate decompositions"
      ]
    },
    {
      "cell_type": "markdown",
      "metadata": {
        "id": "Uun4giev4N8F"
      },
      "source": [
        "In many context, the notion of what gate you can apply is defined either by the physical hardware (e.g. a Device) you are running or perhaps on the quantum error correcting code you are working with.\n",
        "\n",
        "In quantum computing we typically talk about **gate sets** and work with respect to a given gate set.  Cirq supports gate decomposition via the [`decompose`](https://cirq.readthedocs.io/en/stable/generated/cirq.decompose.html) protocol.  Below we show how one can construct a gate that can be decomposed into two gates."
      ]
    },
    {
      "cell_type": "code",
      "metadata": {
        "id": "9G-9_29h09Mx",
        "colab": {
          "base_uri": "https://localhost:8080/",
          "height": 104
        },
        "outputId": "b2d552a5-a93f-4bd2-e9e4-81acd44c6659"
      },
      "source": [
        "class HXGate(cirq.SingleQubitGate):\n",
        "    \n",
        "    def _decompose_(self, qubits):\n",
        "        return cirq.H(*qubits), cirq.X(*qubits)\n",
        "    \n",
        "    def __str__(self):\n",
        "        return 'HX'\n",
        "    \n",
        "HX = HXGate()\n",
        "\n",
        "a = cirq.NamedQubit('a')\n",
        "circuit = cirq.Circuit([HX(a)])\n",
        "print(\"before decomposition:\")\n",
        "print(circuit)\n",
        "\n",
        "print()\n",
        "\n",
        "print(\"after decomposition\")\n",
        "print(cirq.Circuit(cirq.decompose(circuit)))"
      ],
      "execution_count": null,
      "outputs": [
        {
          "output_type": "stream",
          "text": [
            "before decomposition:\n",
            "a: ───HX───\n",
            "\n",
            "after decomposition\n",
            "a: ───Y^0.5───X───X───\n"
          ],
          "name": "stdout"
        }
      ]
    },
    {
      "cell_type": "markdown",
      "metadata": {
        "id": "RLF1narS66iB"
      },
      "source": [
        "Note that this not only decomposed the `HX` gate into `H` and `X`, it also decomposed `H` into `Y**0.5` and `X`.  In order to decompose only once, one can use [`cirq.decompose_once`](https://cirq.readthedocs.io/en/stable/generated/cirq.decompose_once.html):"
      ]
    },
    {
      "cell_type": "code",
      "metadata": {
        "id": "AS-YMmAv6zUg",
        "colab": {
          "base_uri": "https://localhost:8080/",
          "height": 34
        },
        "outputId": "ec0f8a93-ae4e-4853-f0b2-1d47c164e64d"
      },
      "source": [
        "print(cirq.Circuit(cirq.decompose_once(HX(a))))"
      ],
      "execution_count": null,
      "outputs": [
        {
          "output_type": "stream",
          "text": [
            "a: ───H───X───\n"
          ],
          "name": "stdout"
        }
      ]
    },
    {
      "cell_type": "markdown",
      "metadata": {
        "id": "sQ5N0UR26G_v"
      },
      "source": [
        "When we define a gate, it is good practice to give a default decompose in terms of gates in `common_gates`.  However often you will want to change this decomposition at run time for the specific hardware or context you are working in.  To do this we can define an interceptor function which does this decomposition before falling back to the default."
      ]
    },
    {
      "cell_type": "code",
      "metadata": {
        "id": "0sJ1uY6X7l3t",
        "colab": {
          "base_uri": "https://localhost:8080/",
          "height": 52
        },
        "outputId": "b2a84960-9625-48a7-9667-743960b20310"
      },
      "source": [
        "def my_decompose(op):\n",
        "    if isinstance(op, cirq.GateOperation) and isinstance(op.gate, HXGate):\n",
        "        return cirq.Z(*op.qubits), cirq.H(*op.qubits)\n",
        "\n",
        "cirq.Circuit(cirq.decompose(HX(a), intercepting_decomposer=my_decompose))"
      ],
      "execution_count": null,
      "outputs": [
        {
          "output_type": "stream",
          "text": [
            "1 2 3\n"
          ],
          "name": "stdout"
        },
        {
          "output_type": "execute_result",
          "data": {
            "text/html": [
              "<pre style=\"overflow: auto; white-space: pre;\">a: ───Z───Y^0.5───X───</pre>"
            ],
            "text/plain": [
              "a: ───Z───Y^0.5───X───"
            ]
          },
          "metadata": {
            "tags": []
          },
          "execution_count": 48
        }
      ]
    },
    {
      "cell_type": "markdown",
      "metadata": {
        "id": "OChSQ05Z06mL"
      },
      "source": [
        "You can also define a predicate that says which gates to keep without decomposing further.\n",
        "The default predicate is to only keep gates that cannot be decomposed."
      ]
    },
    {
      "cell_type": "code",
      "metadata": {
        "id": "KQ2in0ol05S9",
        "colab": {
          "base_uri": "https://localhost:8080/",
          "height": 34
        },
        "outputId": "33d727cf-2313-4d98-bf31-4bb18d0fba8c"
      },
      "source": [
        "def keep_h_and_x(op):\n",
        "    return isinstance(op, cirq.GateOperation) and op.gate in [cirq.H, cirq.X]\n",
        "\n",
        "print(cirq.decompose(HX(a), keep=keep_h_and_x))"
      ],
      "execution_count": null,
      "outputs": [
        {
          "output_type": "stream",
          "text": [
            "[cirq.H.on(cirq.NamedQubit('a')), cirq.X.on(cirq.NamedQubit('a'))]\n"
          ],
          "name": "stdout"
        }
      ]
    },
    {
      "cell_type": "markdown",
      "metadata": {
        "id": "gM1ZW7TstvK9"
      },
      "source": [
        "# Google's Xmon Gates\n",
        "\n",
        "Google has a class of superconducting qubit devices useful for exploring NISQ algorithms. Cirq was built because it was important that hardware details flow up through the level of abstractions in a framework for NISQ algorithms."
      ]
    },
    {
      "cell_type": "markdown",
      "metadata": {
        "id": "G5ia69HbT4vp"
      },
      "source": [
        "What sort of gates does the Xmon architecture support?  At the hardware level the basic gate set is rotations about the Pauli $Z$ axis\n",
        "$$\\exp(-iZt) = \\left[ \n",
        "\\begin{array}\n",
        "e^{it} & 0 \\\\\n",
        "0 & e^{-it}\n",
        "\\end{array}\n",
        "\\right]$$\n",
        "Rotations about any axis in the Pauli $X$ and $Y$ plane:\n",
        "$$\\exp(-i(\\cos \\theta X + \\sin \\theta Y) t) = \n",
        "\\left[\n",
        "\\begin{array}\n",
        "\\cos t & -i\\sin t e^{-i \\theta} \\\\\n",
        "-i\\sin t e^{i \\theta} & \\cos t\n",
        "\\end{array}\n",
        "\\right]\n",
        "$$\n",
        "The two qubit gate is a phase about the $|11\\rangle$ state:\n",
        "$$\n",
        "\\exp(-it |11\\rangle \\langle 11|) =\n",
        "\\left[ \n",
        "\\begin{array}\n",
        "1 & 0 & 0 & 0 \\\\\n",
        "0 & 1 & 0 & 0 \\\\\n",
        "0 & 0 & 1 & 0 \\\\\n",
        "0 & 0 & 0 & \\exp(-it)\n",
        "\\end{array}\n",
        "\\right]\n",
        "$$\n",
        "And finally a measurement in the computational basis.\n",
        "\n",
        "Many of the common gates in Cirq are directly accessible on this hardware.\n",
        "\n",
        "To check whether a gate type is in the Xmon gate set, one can use [`is_native_xmon_op`](https://cirq.readthedocs.io/en/stable/generated/cirq.google.is_native_xmon_op.html)."
      ]
    },
    {
      "cell_type": "code",
      "metadata": {
        "id": "-SqOf-yt2XL3",
        "colab": {
          "base_uri": "https://localhost:8080/",
          "height": 34
        },
        "outputId": "2a83429f-4f4e-4972-fcba-2b2d9e069e22"
      },
      "source": [
        "cirq.google.is_native_xmon_op(cirq.X.on(cirq.NamedQubit('a')))"
      ],
      "execution_count": null,
      "outputs": [
        {
          "output_type": "execute_result",
          "data": {
            "text/plain": [
              "True"
            ]
          },
          "metadata": {
            "tags": []
          },
          "execution_count": 52
        }
      ]
    },
    {
      "cell_type": "code",
      "metadata": {
        "id": "yutgDgR72aUi",
        "colab": {
          "base_uri": "https://localhost:8080/",
          "height": 34
        },
        "outputId": "0d0c51a1-3d4a-4cef-faff-d52f8ae95898"
      },
      "source": [
        "cirq.google.is_native_xmon_op(cirq.CNOT.on(cirq.NamedQubit('a'), cirq.NamedQubit('b')))"
      ],
      "execution_count": null,
      "outputs": [
        {
          "output_type": "execute_result",
          "data": {
            "text/plain": [
              "False"
            ]
          },
          "metadata": {
            "tags": []
          },
          "execution_count": 53
        }
      ]
    },
    {
      "cell_type": "markdown",
      "metadata": {
        "id": "4FEVSq1T2n2J"
      },
      "source": [
        "When a gate is not a native xmon gate, [Cirq can often convert it to an xmon native gate](https://cirq.readthedocs.io/en/stable/generated/cirq.google.ConvertToXmonGates.html?highlight=converttoxmongates);"
      ]
    },
    {
      "cell_type": "code",
      "metadata": {
        "id": "AdqDGjqL2lI2",
        "colab": {
          "base_uri": "https://localhost:8080/",
          "height": 69
        },
        "outputId": "3b5437f8-edfa-4d29-f183-ad5ea2767290"
      },
      "source": [
        "# The converter\n",
        "converter = cirq.google.ConvertToXmonGates()\n",
        "\n",
        "# Convert a circuit\n",
        "converted = converter.convert(cirq.CNOT.on(cirq.NamedQubit('a'), cirq.NamedQubit('b')))\n",
        "\n",
        "# Print\n",
        "print(cirq.Circuit(converted))"
      ],
      "execution_count": null,
      "outputs": [
        {
          "output_type": "stream",
          "text": [
            "a: ───Z^0.75────X^0.5────S^-1───Y^-0.5───@───S^-1───Y^0.5───Y^0.5─────Z^-0.75───\n",
            "                                         │\n",
            "b: ───X^-0.25───Y^-0.5───────────────────@───S^-1───Y^0.5───X^-0.25─────────────\n"
          ],
          "name": "stdout"
        }
      ]
    },
    {
      "cell_type": "markdown",
      "metadata": {
        "id": "iR8zA_uY4HRZ"
      },
      "source": [
        "This isn't very optimized because what it has done is first rely on the decompose of `CNOT` and then decomposed each of these into native xmon gates.  There are many tricks that one can use to simplify xmon gates.  To apply many of these one can use the `cirq.google.optimize_from_xmon` method:"
      ]
    },
    {
      "cell_type": "code",
      "metadata": {
        "id": "ePc0hrEU2_yy",
        "colab": {
          "base_uri": "https://localhost:8080/",
          "height": 69
        },
        "outputId": "cbefcc9f-dc2f-4909-8fd3-67f27f8c3d2c"
      },
      "source": [
        "circuit = cirq.Circuit([cirq.CNOT.on(cirq.NamedQubit('a'), cirq.NamedQubit('b'))])\n",
        "\n",
        "print(cirq.google.optimized_for_xmon(circuit))"
      ],
      "execution_count": null,
      "outputs": [
        {
          "output_type": "stream",
          "text": [
            "a: ───────────────────@──────────────────\n",
            "                      │\n",
            "b: ───PhX(-0.5)^0.5───@───PhX(0.5)^0.5───\n"
          ],
          "name": "stdout"
        }
      ]
    },
    {
      "cell_type": "markdown",
      "metadata": {
        "id": "lImnJ5Co4Y1n"
      },
      "source": [
        "Because Xmon gates can be executed on Google hardware, they will need to be transmitted as machine code to the quantum computer.  **This means that they have a serialized form**.  We use protobuffers as the serialization.  To see what this form looks like use `cirq.google.gate_to_proto_dict`:"
      ]
    },
    {
      "cell_type": "code",
      "metadata": {
        "id": "od6ofvow4EoD",
        "colab": {
          "base_uri": "https://localhost:8080/",
          "height": 69
        },
        "outputId": "b7d466c2-3179-4746-b6f0-86b4a7f20624"
      },
      "source": [
        "cirq.google.gate_to_proto_dict(cirq.X, [cirq.GridQubit(5, 5)])"
      ],
      "execution_count": null,
      "outputs": [
        {
          "output_type": "execute_result",
          "data": {
            "text/plain": [
              "{'exp_w': {'axis_half_turns': {'raw': 0.0},\n",
              "  'half_turns': {'raw': 1.0},\n",
              "  'target': {'col': 5, 'row': 5}}}"
            ]
          },
          "metadata": {
            "tags": []
          },
          "execution_count": 36
        }
      ]
    },
    {
      "cell_type": "markdown",
      "metadata": {
        "id": "X15yPl_KQ20Z"
      },
      "source": [
        "# Simulations of a Circuit\n",
        "\n",
        "Now that you know how to construct a `Circuit` in Cirq, let's use Cirq to simulate the circuit.\n",
        "\n",
        "Here is a simple circuit"
      ]
    },
    {
      "cell_type": "code",
      "metadata": {
        "id": "V6tZk3qGqBoH",
        "colab": {
          "base_uri": "https://localhost:8080/",
          "height": 69
        },
        "outputId": "91701a99-3c17-41ac-981a-0d6996f2ccdc"
      },
      "source": [
        "# This circuits is written like a generator\n",
        "# Gates are not added to a collection,\n",
        "# but returned iteratively using keyword yield\n",
        "def basic_circuit(measure=True):\n",
        "  # The square root of the Pauli X gate\n",
        "  sqrt_x = cirq.X**0.5\n",
        "  # The C-Z gate\n",
        "  cz = cirq.CZ\n",
        "  \n",
        "  yield sqrt_x(a), sqrt_x(b)\n",
        "  yield cz(a, b)\n",
        "  yield sqrt_x(a), sqrt_x(b)\n",
        "  \n",
        "  if measure:\n",
        "    yield cirq.measure(a, b)\n",
        "#     yield cirq.measure(b,a)\n",
        "\n",
        "circuit = cirq.Circuit(basic_circuit())\n",
        "print(circuit)"
      ],
      "execution_count": null,
      "outputs": [
        {
          "output_type": "stream",
          "text": [
            "a: ───X^0.5───@───X^0.5───M───\n",
            "              │           │\n",
            "b: ───X^0.5───@───X^0.5───M───\n"
          ],
          "name": "stdout"
        }
      ]
    },
    {
      "cell_type": "markdown",
      "metadata": {
        "id": "WpywVOeDqi4Q"
      },
      "source": [
        "There are a few things to note here.  \n",
        "\n",
        "One is that we have used a Python *generator*. Recall that in Python functions that have a `yield` are *generators*. Generators are functions that act as *iterators*. Above we see that we can iterate over ``basic_circuit()``. We see that when we do this each of the `yields` produces what was yielded, and here these are `Operations`,\n",
        "or lists of ``Operations``. But when we pass this iterator to the append method, something magical happens. `Circuit` is able to flatten all of these an pass them as one giant list to `Circuit.append` (this also works for `Circuit.insert`).\n",
        "> The above idea uses a concept we call an ``OP_TREE``. An ``OP_TREE`` is\n",
        "> not a class, but a contract. The basic idea is that, if the input can be\n",
        "> iteratively flattened into a list of operations, then the input is an\n",
        "> ``OP_TREE``.\n",
        ">For example:\n",
        ">- An Operation is an OP_TREE all by itself.\n",
        ">- A list of operations is an OP_TREE.\n",
        ">- A list of tuples of operations is an OP_TREE.\n",
        ">- A list with a mix of operations and lists of operations is an OP_TREE.\n",
        ">- A generator yielding operations is an OP_TREE.\n",
        "\n",
        "A very nice pattern emerges from this structure: define *generators* for sub-circuits, which can vary by size\n",
        "or `Operation` parameters.\n",
        "\n",
        "Now we can [simulate](https://cirq.readthedocs.io/en/stable/generated/cirq.Simulator.html) this circuit."
      ]
    },
    {
      "cell_type": "code",
      "metadata": {
        "id": "KmGuMjvGw_Ef",
        "colab": {
          "base_uri": "https://localhost:8080/",
          "height": 52
        },
        "outputId": "d036dab9-63cb-4b79-918e-465078aed66e"
      },
      "source": [
        "simulator = cirq.Simulator()\n",
        "circuit = cirq.Circuit(basic_circuit())\n",
        "\n",
        "# First option: sample from the circuit\n",
        "result = simulator.run(circuit)\n",
        "\n",
        "print('Measurement results')\n",
        "print(result)"
      ],
      "execution_count": null,
      "outputs": [
        {
          "output_type": "stream",
          "text": [
            "Measurement results\n",
            "a,b=0, 0\n"
          ],
          "name": "stdout"
        }
      ]
    },
    {
      "cell_type": "markdown",
      "metadata": {
        "id": "aHugx9T0z047"
      },
      "source": [
        "Running this multiple times should result in different measurement results, since the above circuit produces a superposition over all computational basis states.   \n",
        "\n",
        "* Above we used the[ `run`](https://cirq.readthedocs.io/en/stable/generated/cirq.Simulator.run.html) method on the simulator.  These methods mimic the actual hardware in that they **don't give one access to unphysical objects like the wavefunction**. \n",
        "\n",
        "* If one wants to **get the wave function**, then the [`simulate`](https://cirq.readthedocs.io/en/stable/generated/cirq.Simulator.simulate.html) methods can do this:\n"
      ]
    },
    {
      "cell_type": "code",
      "metadata": {
        "id": "Apj7WiFZ0WFm",
        "colab": {
          "base_uri": "https://localhost:8080/",
          "height": 86
        },
        "outputId": "e66173a0-9aa4-4766-94e5-843f2893fa27"
      },
      "source": [
        "circuit = cirq.Circuit()\n",
        "circuit.append(basic_circuit(measure=False))\n",
        "\n",
        "# Second option: get the wavefunction\n",
        "result = simulator.simulate(circuit, qubit_order=[a, b])\n",
        "\n",
        "print('Wavefunction:')\n",
        "print(np.around(result.final_state, 3))\n",
        "print('Dirac notation:')\n",
        "print(result.dirac_notation())"
      ],
      "execution_count": null,
      "outputs": [
        {
          "output_type": "stream",
          "text": [
            "Wavefunction:\n",
            "[0.5+0.j  0. +0.5j 0. +0.5j 0.5+0.j ]\n",
            "Dirac notation:\n",
            "0.5|00⟩ + 0.5j|01⟩ + 0.5j|10⟩ + 0.5|11⟩\n"
          ],
          "name": "stdout"
        }
      ]
    },
    {
      "cell_type": "markdown",
      "metadata": {
        "id": "t18-sIJc0cvf"
      },
      "source": [
        "**Note**: We passed a `qubit_orde`r into the `simulate` method.  This order helps define the order of the kronecker product used in the resulting `final_state` vector. \n",
        "\n",
        "\n",
        "The `qubit_order` argument is optional. When it is omitted, qubits are sorted ascending according to the ordering methods defined by their Python class (for example `cirq.NamedQubit` sorts lexicographically by name).\n",
        "If there are multiple types of qubits in one circuit, the name of the type is used as a tie breaker.\n",
        "\n",
        "The simplest `qubit_order` value you can provide is a list of the qubits in the desired order. Any qubits from the circuit that are not in the list will be ordered using the  default `__str__` ordering, but come after qubits that are in the list.\n",
        "\n",
        "**Note**: All qubits of a circuit definition are included in the simulation, even if they are not operated on by the circuit.\n",
        "\n",
        "The mapping from the order of the qubits to the order of the  amplitudes in the wave function can be tricky to understand.  Basically, it is the same as the ordering used by `numpy.kron`.\n",
        "\n",
        "> If wave function is array \n",
        ">>(0.1, 0.2, 0.3, 0.4)\n",
        "\n",
        "> then this is \n",
        ">> 0.1|00⟩ + 0.2|01⟩ + 0.3|10⟩ + 0.4|11⟩ \n",
        "\n",
        ">in Dirac notation.  If the \n",
        ">> qubit order = [a, b]\n",
        "\n",
        ">then |00> means qubit a is in 0 and qubit b is in 0, |01> means \n",
        "> qubit a is 0 and qubit b is 1, etc.\n",
        "\n",
        "Another way to think about the qubit-to-amplitude ordering is as \"for loop ordering\":\n",
        "\n",
        "```\n",
        "for a in [0, 1]:\n",
        "    for b in [0, 1]:\n",
        "        print(a, b)\n",
        "```\n",
        "\n",
        "The first index (the outermost loop) is the slowest to vary."
      ]
    },
    {
      "cell_type": "markdown",
      "metadata": {
        "id": "YLpiz0aN1Jd6"
      },
      "source": [
        "## Repetitions\n",
        "\n",
        "The simulator `run` methods also take an option for repeating the circuit. If the measurements in the circuit are terminal, and all other operations are unitary, this simulator is optimized to not recompute the wavefunction before sampling from the circuit.  So for example this code doesn't recompute the wave function but knows to sample from the final measurements"
      ]
    },
    {
      "cell_type": "code",
      "metadata": {
        "id": "QxkmBlo21lrQ",
        "colab": {
          "base_uri": "https://localhost:8080/",
          "height": 72
        },
        "outputId": "fb4ea46f-0c93-4df7-f2f7-5b43f1054306"
      },
      "source": [
        "circuit = cirq.Circuit(basic_circuit())\n",
        "\n",
        "# Specify a number (e.g. 1000) of repetitions\n",
        "nr_repetitions = 1000\n",
        "result = simulator.run(circuit, repetitions=nr_repetitions)\n",
        "\n",
        "# The measurement was on qubits \"a,b\".\n",
        "# See definition of basic_circuit at measurement\n",
        "# Therefore, key is \"a,b\"\n",
        "# If the measurement would habe been, for example, \"b,a\" then key='b,a'\n",
        "print(repr(result)) \n",
        "# to see internal structure of TrialResult\n",
        "\n",
        "# Print the histogram using key='a,b'\n",
        "print(result.histogram(key='a,b'))\n"
      ],
      "execution_count": null,
      "outputs": [
        {
          "output_type": "stream",
          "text": [
            "cirq.TrialResult(params=cirq.ParamResolver({}), measurements={'a,b': np.array([[0, 0], [0, 1], [0, 0], [1, 0], [1, 0], [1, 0], [0, 0], [1, 0], [1, 1], [1, 1], [1, 1], [0, 1], [1, 0], [0, 0], [0, 0], [1, 0], [1, 0], [0, 0], [1, 0], [1, 0], [1, 0], [1, 0], [1, 0], [1, 0], [1, 0], [1, 0], [1, 1], [0, 1], [1, 0], [0, 0], [1, 0], [0, 1], [0, 1], [0, 0], [0, 1], [0, 0], [0, 0], [1, 0], [1, 0], [1, 0], [1, 1], [1, 1], [1, 0], [0, 0], [0, 1], [0, 0], [1, 1], [1, 0], [0, 1], [0, 1], [1, 1], [1, 1], [0, 1], [1, 1], [1, 0], [0, 1], [1, 0], [1, 1], [0, 1], [0, 0], [0, 0], [0, 0], [1, 1], [0, 0], [0, 1], [0, 1], [0, 1], [0, 1], [0, 1], [0, 1], [1, 0], [1, 1], [0, 0], [1, 1], [1, 0], [1, 0], [1, 0], [1, 0], [1, 1], [0, 0], [1, 1], [0, 1], [0, 1], [0, 0], [0, 1], [0, 0], [0, 1], [0, 1], [1, 1], [0, 0], [0, 1], [0, 1], [0, 1], [0, 1], [0, 0], [1, 1], [1, 1], [1, 0], [0, 1], [0, 0], [0, 0], [0, 0], [0, 0], [1, 0], [0, 1], [1, 0], [0, 0], [0, 1], [1, 1], [1, 0], [1, 1], [0, 0], [1, 1], [1, 0], [1, 0], [1, 1], [1, 1], [0, 1], [1, 0], [1, 0], [0, 1], [1, 0], [1, 1], [0, 0], [0, 0], [0, 1], [1, 0], [0, 0], [1, 0], [0, 1], [0, 0], [1, 0], [1, 0], [0, 1], [0, 0], [1, 1], [0, 0], [1, 1], [1, 1], [0, 0], [0, 1], [1, 0], [1, 1], [1, 1], [0, 1], [0, 0], [1, 0], [1, 0], [1, 1], [0, 1], [0, 0], [0, 1], [0, 0], [1, 0], [0, 0], [1, 1], [1, 1], [1, 1], [0, 0], [1, 1], [0, 0], [1, 1], [1, 1], [0, 0], [0, 1], [1, 1], [1, 0], [0, 0], [0, 1], [0, 1], [0, 0], [0, 1], [0, 0], [0, 1], [0, 1], [0, 0], [0, 0], [1, 1], [0, 0], [0, 1], [1, 1], [0, 0], [0, 0], [1, 0], [0, 1], [1, 1], [1, 0], [0, 1], [1, 1], [1, 0], [1, 0], [1, 1], [1, 0], [0, 1], [0, 1], [0, 0], [0, 1], [1, 1], [1, 0], [1, 1], [0, 0], [1, 0], [0, 0], [1, 0], [1, 0], [0, 1], [0, 0], [1, 1], [0, 1], [0, 1], [0, 1], [0, 0], [1, 0], [0, 0], [1, 1], [0, 0], [1, 0], [0, 0], [0, 1], [0, 1], [1, 0], [0, 1], [0, 0], [1, 0], [0, 1], [0, 1], [0, 0], [0, 0], [0, 1], [0, 0], [1, 0], [1, 1], [0, 0], [0, 0], [1, 0], [1, 1], [1, 1], [0, 1], [1, 0], [1, 1], [0, 0], [1, 1], [1, 1], [1, 0], [1, 0], [1, 0], [0, 1], [1, 1], [0, 0], [0, 0], [0, 0], [1, 1], [1, 1], [0, 0], [1, 1], [1, 0], [1, 0], [0, 1], [1, 0], [0, 1], [1, 1], [0, 1], [1, 1], [1, 1], [1, 1], [1, 0], [1, 0], [0, 1], [0, 0], [0, 0], [1, 1], [0, 1], [1, 0], [0, 1], [0, 0], [0, 0], [1, 0], [1, 0], [1, 0], [1, 0], [1, 0], [0, 1], [1, 1], [0, 1], [1, 1], [1, 0], [0, 0], [1, 1], [0, 1], [0, 0], [0, 1], [0, 0], [0, 1], [0, 0], [0, 1], [0, 0], [0, 1], [1, 0], [0, 1], [1, 1], [1, 1], [0, 1], [0, 0], [0, 1], [1, 1], [0, 1], [1, 1], [1, 1], [0, 0], [1, 0], [1, 1], [0, 0], [0, 1], [0, 0], [1, 0], [0, 0], [0, 0], [1, 1], [1, 1], [1, 0], [1, 0], [0, 0], [0, 1], [0, 0], [0, 0], [1, 0], [1, 1], [0, 1], [0, 0], [1, 1], [1, 1], [1, 0], [0, 0], [0, 1], [0, 1], [1, 0], [0, 1], [0, 0], [1, 1], [1, 0], [1, 1], [1, 1], [1, 1], [1, 1], [0, 0], [0, 0], [1, 1], [1, 1], [1, 1], [1, 1], [1, 0], [0, 0], [1, 1], [1, 1], [0, 1], [0, 0], [0, 1], [0, 0], [1, 0], [0, 0], [1, 1], [0, 0], [0, 1], [0, 0], [0, 1], [1, 0], [1, 0], [1, 0], [1, 1], [0, 0], [0, 1], [1, 1], [1, 1], [1, 0], [1, 1], [1, 0], [1, 1], [1, 0], [1, 1], [1, 1], [0, 0], [1, 0], [1, 0], [1, 1], [1, 1], [1, 0], [0, 1], [0, 0], [1, 0], [1, 1], [0, 1], [1, 0], [1, 0], [1, 1], [0, 1], [0, 1], [1, 0], [0, 1], [0, 0], [0, 1], [0, 0], [1, 1], [1, 1], [1, 0], [0, 1], [1, 0], [1, 0], [0, 1], [0, 1], [1, 1], [0, 1], [0, 1], [1, 1], [1, 1], [0, 1], [1, 1], [0, 1], [0, 0], [0, 1], [1, 0], [0, 1], [0, 0], [0, 0], [1, 0], [0, 1], [0, 0], [0, 1], [0, 0], [1, 0], [1, 1], [0, 0], [1, 1], [1, 1], [1, 0], [0, 1], [0, 1], [0, 1], [0, 1], [0, 1], [1, 1], [0, 1], [1, 1], [1, 1], [1, 0], [1, 1], [0, 1], [1, 0], [0, 0], [0, 0], [1, 1], [1, 1], [1, 1], [1, 0], [0, 1], [1, 0], [1, 0], [1, 1], [0, 1], [0, 0], [1, 1], [1, 1], [0, 1], [1, 1], [0, 1], [0, 1], [0, 1], [1, 1], [1, 0], [1, 1], [1, 1], [1, 0], [0, 1], [1, 1], [1, 1], [1, 1], [0, 1], [0, 0], [0, 1], [0, 0], [0, 1], [0, 1], [0, 0], [1, 0], [1, 0], [0, 1], [1, 1], [1, 1], [1, 0], [0, 0], [0, 1], [1, 1], [1, 1], [0, 1], [1, 0], [0, 1], [1, 0], [0, 1], [0, 0], [1, 0], [0, 0], [1, 0], [0, 0], [1, 0], [1, 1], [1, 1], [1, 1], [0, 0], [0, 1], [0, 1], [1, 1], [1, 0], [0, 1], [0, 1], [0, 1], [1, 0], [0, 1], [0, 0], [1, 1], [0, 0], [0, 1], [0, 1], [0, 0], [1, 0], [1, 0], [1, 1], [0, 0], [1, 0], [1, 0], [0, 0], [1, 0], [1, 0], [0, 0], [0, 0], [1, 0], [1, 0], [0, 0], [0, 0], [0, 0], [0, 0], [1, 0], [1, 0], [1, 1], [0, 1], [1, 0], [1, 0], [1, 1], [1, 0], [0, 1], [1, 0], [0, 1], [1, 1], [1, 0], [1, 1], [0, 0], [1, 0], [0, 0], [1, 0], [1, 1], [1, 0], [0, 1], [1, 1], [1, 1], [1, 1], [1, 0], [0, 1], [1, 0], [1, 1], [1, 0], [1, 1], [1, 1], [0, 0], [1, 0], [1, 0], [1, 0], [1, 0], [1, 1], [1, 0], [1, 0], [0, 1], [0, 0], [0, 1], [1, 0], [1, 0], [0, 0], [1, 1], [0, 1], [1, 1], [0, 1], [1, 0], [1, 1], [1, 1], [0, 0], [1, 0], [1, 1], [0, 0], [1, 0], [0, 1], [1, 1], [0, 0], [0, 1], [0, 0], [0, 1], [0, 1], [0, 1], [0, 0], [1, 0], [1, 1], [0, 0], [0, 1], [0, 0], [1, 0], [0, 0], [1, 1], [1, 0], [0, 1], [1, 0], [1, 1], [1, 0], [1, 1], [1, 1], [1, 1], [1, 1], [0, 0], [1, 1], [0, 1], [1, 1], [1, 1], [0, 0], [0, 0], [1, 0], [1, 1], [1, 1], [0, 0], [0, 1], [0, 1], [1, 0], [1, 0], [1, 0], [1, 1], [0, 1], [0, 0], [1, 0], [1, 0], [0, 1], [1, 0], [0, 1], [0, 0], [1, 0], [0, 0], [1, 0], [0, 0], [0, 1], [0, 1], [0, 0], [0, 1], [1, 0], [1, 1], [0, 1], [0, 1], [1, 0], [0, 0], [1, 1], [1, 1], [0, 1], [1, 0], [0, 1], [1, 0], [1, 1], [0, 1], [1, 0], [0, 0], [0, 0], [1, 1], [0, 1], [1, 0], [1, 0], [1, 0], [1, 0], [0, 0], [1, 1], [0, 0], [0, 1], [1, 1], [0, 1], [1, 0], [0, 1], [0, 0], [0, 0], [0, 1], [0, 0], [1, 1], [0, 1], [0, 1], [0, 0], [0, 1], [1, 1], [0, 1], [0, 0], [1, 0], [1, 0], [0, 1], [0, 1], [1, 0], [1, 0], [1, 0], [1, 1], [1, 1], [1, 1], [0, 1], [1, 1], [1, 1], [1, 1], [0, 0], [1, 0], [1, 1], [1, 0], [1, 1], [1, 0], [0, 0], [1, 1], [0, 1], [1, 0], [1, 0], [0, 0], [0, 0], [1, 0], [0, 1], [1, 0], [0, 1], [1, 1], [0, 0], [0, 0], [0, 1], [0, 1], [1, 1], [1, 0], [1, 0], [1, 1], [0, 0], [1, 1], [0, 0], [1, 1], [0, 1], [0, 0], [1, 1], [0, 1], [1, 1], [1, 0], [0, 1], [1, 0], [1, 1], [0, 1], [0, 0], [1, 1], [0, 0], [1, 0], [1, 1], [0, 1], [1, 0], [0, 0], [1, 0], [0, 1], [0, 0], [1, 0], [0, 1], [1, 0], [1, 0], [1, 0], [1, 1], [1, 1], [1, 1], [0, 0], [0, 1], [0, 1], [0, 1], [1, 1], [0, 1], [1, 0], [0, 0], [1, 1], [1, 0], [1, 0], [1, 1], [0, 0], [0, 1], [0, 1], [1, 0], [1, 1], [0, 0], [1, 0], [0, 1], [0, 1], [0, 0], [1, 0], [1, 1], [1, 1], [0, 1], [1, 0], [1, 1], [0, 0], [0, 0], [1, 1], [1, 1], [0, 0], [1, 0], [0, 1], [1, 1], [1, 0], [0, 0], [1, 1], [1, 0], [0, 1], [0, 1], [0, 1], [0, 0], [1, 1], [1, 1], [1, 1], [0, 1], [0, 0], [1, 1], [1, 1], [0, 0], [1, 0], [1, 1], [0, 0], [1, 1], [0, 0], [0, 0], [0, 1], [0, 1], [0, 0], [1, 0], [0, 1], [1, 0], [0, 1], [1, 1], [0, 0], [1, 0], [0, 0], [0, 0], [1, 1], [1, 0], [0, 0], [0, 0], [0, 1], [1, 1], [1, 0], [1, 0], [1, 1], [1, 0], [0, 1], [1, 0], [0, 0], [1, 1], [1, 1], [0, 0], [1, 1], [0, 1], [0, 1], [0, 0], [0, 1], [0, 1], [0, 0], [0, 0], [1, 0], [0, 0], [0, 0], [1, 0], [1, 0], [0, 0], [1, 1], [1, 0], [1, 0], [0, 0], [1, 1], [1, 0], [1, 0], [1, 0], [0, 0], [1, 1], [1, 1], [1, 0], [1, 1], [1, 0], [0, 1], [1, 0], [1, 0], [1, 1], [0, 1], [0, 0], [1, 1], [0, 0], [1, 0], [1, 1], [0, 1], [1, 1], [1, 0], [1, 1], [1, 0], [0, 0], [1, 1], [1, 0], [1, 1], [0, 0], [0, 0], [0, 0], [1, 0], [1, 0], [0, 1], [0, 0], [1, 1], [0, 0], [1, 0], [1, 1], [0, 0], [0, 0], [1, 1], [0, 0], [1, 1], [0, 1], [0, 0], [0, 0], [0, 0], [0, 0], [1, 0], [0, 1], [1, 1], [0, 1], [1, 0], [1, 1], [0, 1], [0, 0], [1, 0], [0, 0], [0, 0], [0, 0], [0, 0], [1, 0], [0, 1], [0, 0], [1, 1], [0, 0], [0, 0], [1, 0], [0, 1], [0, 1], [0, 1], [0, 0], [0, 0], [0, 0], [0, 0], [0, 0], [0, 1], [1, 1], [0, 0], [0, 0], [0, 0], [1, 0], [0, 1], [1, 1], [0, 1], [1, 1], [0, 0], [0, 0], [1, 1], [0, 1], [0, 0], [1, 1], [0, 1], [0, 1], [0, 0], [1, 1], [1, 1], [1, 0], [0, 1], [1, 1], [0, 0], [1, 0], [1, 0], [1, 0], [0, 1], [0, 0], [0, 0], [0, 1], [0, 0], [1, 1], [1, 0], [1, 1], [1, 1], [0, 1], [1, 0], [1, 1], [0, 1], [1, 1], [0, 0], [0, 1], [1, 1], [0, 0], [0, 1]], dtype=np.uint8)})\n",
            "Counter({2: 255, 3: 255, 0: 248, 1: 242})\n"
          ],
          "name": "stdout"
        }
      ]
    },
    {
      "cell_type": "markdown",
      "metadata": {
        "id": "bD0zX0zP2HxQ"
      },
      "source": [
        "Here we have also demonstrated the use of the [`histogram`](https://cirq.readthedocs.io/en/stable/generated/cirq.TrialResult.histogram.html) method on the `result`. The `histogram` sums over all the different results for all of the different repetitions, and can also be given a `fold_func` argument, in order to group measurement results under some key before counting them up.\n",
        "\n",
        "**Example**: We can group by whether or not the two measurement results agreed:"
      ]
    },
    {
      "cell_type": "code",
      "metadata": {
        "id": "rPqVUsD9snYf",
        "colab": {
          "base_uri": "https://localhost:8080/",
          "height": 52
        },
        "outputId": "1e3c2fc1-d909-4745-f3fe-a03e3b1c3bd6"
      },
      "source": [
        "# a lambda (anonymous function) is used\n",
        "print(result.histogram(key='a,b', fold_func=lambda e: 'agree' if e[0] == e[1] else 'disagree'))\n",
        "\n",
        "# the same without lambda\n",
        "def count_results(e):\n",
        "  if e[0] == e[1]:\n",
        "    return 'agree'\n",
        "  else:\n",
        "    return 'disagree'\n",
        "  \n",
        "# The same output like from the previous print statement\n",
        "print(result.histogram(key='a,b', fold_func=count_results))"
      ],
      "execution_count": null,
      "outputs": [
        {
          "output_type": "stream",
          "text": [
            "Counter({'agree': 503, 'disagree': 497})\n",
            "Counter({'agree': 503, 'disagree': 497})\n"
          ],
          "name": "stdout"
        }
      ]
    },
    {
      "cell_type": "markdown",
      "metadata": {
        "id": "3HtlMxa6QpVo"
      },
      "source": [
        "# Parameterized Circuits\n",
        "\n",
        "In addition to circuit gates with fixed values, Cirq also supports parameterized gates with symbolic values via [`sympy`](https://www.sympy.org/en/index.html). These are placeholder values, such as `sympy.Symbol('x')`, that will only be resolved at *run-time*. For simulators these values are resolved by providing a [`ParamResolver`](https://cirq.readthedocs.io/en/stable/generated/cirq.ParamResolver.html).  A `ParamResolver` provides a map from the `Symbol`'s name to its assigned value. \n",
        "\n",
        "**Note**: Plain Python dictionaries can be used whenever a `ParamResolver` is needed."
      ]
    },
    {
      "cell_type": "code",
      "metadata": {
        "id": "TIaVRzCD4deU",
        "colab": {
          "base_uri": "https://localhost:8080/",
          "height": 191
        },
        "outputId": "4fb51829-49a3-4382-8b48-a80a559d9652"
      },
      "source": [
        "import sympy as sp\n",
        "\n",
        "a = cirq.NamedQubit('a')\n",
        "b = cirq.NamedQubit('b')\n",
        "simulator = cirq.Simulator()\n",
        "\n",
        "# a sympy Symbol\n",
        "val = sp.Symbol('s')\n",
        "# the symbol is used in a sympy expression\n",
        "pow_x_gate = cirq.X**val\n",
        "\n",
        "# the circuit will consist of two parameterized gates\n",
        "circuit = cirq.Circuit()\n",
        "circuit.append([pow_x_gate(a), pow_x_gate(b)])\n",
        "\n",
        "print('Circuit with parameterized gates -- the symbol is \"s\"')\n",
        "print(circuit)\n",
        "print()\n",
        "\n",
        "for y in range(5):\n",
        "    # create a dictionary to be used in the simulator\n",
        "    the_dictionary = {'s': y / 4.0}\n",
        "    #\n",
        "    result = simulator.simulate(circuit, param_resolver=the_dictionary)\n",
        "    # print(repr(result))\n",
        "    #\n",
        "    print('s={}: {}'.format(y, np.around(result.final_state, 2)))"
      ],
      "execution_count": null,
      "outputs": [
        {
          "output_type": "stream",
          "text": [
            "Circuit with parameterized gates -- the symbol is \"s\"\n",
            "a: ───X^s───\n",
            "\n",
            "b: ───X^s───\n",
            "\n",
            "s=0: [1.+0.j 0.+0.j 0.+0.j 0.+0.j]\n",
            "s=1: [ 0.6 +0.6j   0.25-0.25j  0.25-0.25j -0.1 -0.1j ]\n",
            "s=2: [0. +0.5j 0.5+0.j  0.5+0.j  0. -0.5j]\n",
            "s=3: [-0.1 +0.1j   0.25+0.25j  0.25+0.25j  0.6 -0.6j ]\n",
            "s=4: [0.+0.j 0.+0.j 0.+0.j 1.+0.j]\n"
          ],
          "name": "stdout"
        }
      ]
    },
    {
      "cell_type": "markdown",
      "metadata": {
        "id": "1_2i73Oo4aM1"
      },
      "source": [
        "Here we see that the `Symbol` is used in two gates, and then the resolver provides this value at run time.\n",
        "\n",
        "Parameterized values are most useful in defining what we call a `Study`. \n",
        "\n",
        "**A `Study`** is a collection of trials, where each  trial is a run with a particular set of configurations and which may be run repeatedly. [ Running a study](https://cirq.readthedocs.io/en/stable/generated/cirq.Simulator.run_sweep.html) returns a list of `TrialResult`s per set of fixed parameter values and repetitions.\n",
        "\n",
        "**Example**:\n"
      ]
    },
    {
      "cell_type": "code",
      "metadata": {
        "id": "Gj_Y3Lrh49o9",
        "colab": {
          "base_uri": "https://localhost:8080/",
          "height": 506
        },
        "outputId": "dde9346d-ac61-405d-ed62-40c6664fb061"
      },
      "source": [
        "# Create a list of paramresolvers\n",
        "resolvers = [cirq.ParamResolver({'s': y / 8.0}) for y in range(9)]\n",
        "\n",
        "# The circuit to be used in the study uses gates which are parameterized\n",
        "# with sympy Symbols -> see in previous cell the definition of pow_x_gate\n",
        "circuit = cirq.Circuit()\n",
        "circuit.append([pow_x_gate(a), pow_x_gate(b)])\n",
        "circuit.append([cirq.measure(a), cirq.measure(b)])\n",
        "\n",
        "results = simulator.run_sweep(program=circuit,\n",
        "                              params=resolvers,\n",
        "                              repetitions=200)\n",
        "for i, result in enumerate(results):\n",
        "    print('params: {}\\n{}'.format(result.params.param_dict, result))"
      ],
      "execution_count": null,
      "outputs": [
        {
          "output_type": "stream",
          "text": [
            "params: {'s': 0.0}\n",
            "a=00000000000000000000000000000000000000000000000000000000000000000000000000000000000000000000000000000000000000000000000000000000000000000000000000000000000000000000000000000000000000000000000000000000\n",
            "b=00000000000000000000000000000000000000000000000000000000000000000000000000000000000000000000000000000000000000000000000000000000000000000000000000000000000000000000000000000000000000000000000000000000\n",
            "params: {'s': 0.125}\n",
            "a=00000000000000000001000000000000000000001000010000000000000000000000000000000000000000000000000010001000001001000000000000000000000001001000000000000000000000000000000000000000000000000000000000000000\n",
            "b=01000000000000000000000000000000100000010010000000000000000100000000000000000000000000000000000000000000000010000000000000000000000001001000001000000000001000000000000000000000000000100010000000000000\n",
            "params: {'s': 0.25}\n",
            "a=00001000000000000000000001000000000010010000000000000010000000000000000100010010000000000000000011000001101001000000000000010000000000000000000000010000000000000000000000100000001000000000101000000110\n",
            "b=00000100000100000100000000100111100001000000000000000000000000000000010010101000000000000001000000000000010000100100010000000000010010010001000000001000001000101000000000000000000000100000010000100100\n",
            "params: {'s': 0.375}\n",
            "a=10011001010010000000110001001101000000001000101101101110101011000100001100001000100010010001000001101101100000100001001111100011000001011101111010011100100001010000010100000000001000001100001000110111\n",
            "b=01110001011110000100010100000010010110010101000001001000001010100010010000001100110100000001001110001000111100000100000100010000100000000001010000110010000101001011000000110010001001001000110101000001\n",
            "params: {'s': 0.5}\n",
            "a=01010111100100101100010000000001001100000001100011000110101001010001010011010001100101110100111100010110100111010101000001011010011000010110101101011100011101000010110110010011110001001011101111110110\n",
            "b=01110101111010100110001111111011110110011001101101101010100100001111100010010110100011101011001101011100000100011101001011100001111001110100110011101011110111000110101101010000101000001010011001010110\n",
            "params: {'s': 0.625}\n",
            "a=10111100110100011101111001111111111110101000101100111010111000011001100100000111110111101011111011100111100011101101100110111010111101101111011000110101010011011110001101111111111111111000011110101011\n",
            "b=01001101101101000110101111011111011111100110000011110101101111011010110001111111100001010011101111111110111100001111110101011101011001011110111111111111111100001011011111001010001111111010111111111110\n",
            "params: {'s': 0.75}\n",
            "a=11111110111111010111111111111101101111101111101111011110111111101111101111111011110111110110011111111111011110110111111011101110111111111111110110111111111010011111111011111110111011001110111111111110\n",
            "b=10001101111111111101111101111111011111101101111101110111110111011111011111101111111111111101111111110110111010110111111111011111011111110101110111101111100111011111110111111111111111110111101111111101\n",
            "params: {'s': 0.875}\n",
            "a=11111111111111111111111111111111111111111111111101111111111111111111111110111111111111111111111111111101111111111111111111111111111101111111111111111110111111111111101111111111111111111111011111110111\n",
            "b=11111011111111111111111111111111111111111111111101111110111111111110111111111111111111111111111111111111111111111101111011111111111111111111111111111111111111111111111111111111111111111111111111111011\n",
            "params: {'s': 1.0}\n",
            "a=11111111111111111111111111111111111111111111111111111111111111111111111111111111111111111111111111111111111111111111111111111111111111111111111111111111111111111111111111111111111111111111111111111111\n",
            "b=11111111111111111111111111111111111111111111111111111111111111111111111111111111111111111111111111111111111111111111111111111111111111111111111111111111111111111111111111111111111111111111111111111111\n"
          ],
          "name": "stdout"
        }
      ]
    },
    {
      "cell_type": "markdown",
      "metadata": {
        "id": "av09E7pH44YO"
      },
      "source": [
        "Above we passed in a list of `ParamResolver`s to the `params` parameter of [`run_sweep`](https://cirq.readthedocs.io/en/stable/generated/cirq.Simulator.run_sweep.html).  But one can also pass in a [`Sweepable`](https://cirq.readthedocs.io/en/stable/generated/cirq.Sweepable.html?highlight=sweepable).  There are some useful methods for generating `Sweepable`s, for example to generate an equally spaced set of param resolvers one can use [`Linspace`](https://cirq.readthedocs.io/en/stable/generated/cirq.Linspace.html)\n"
      ]
    },
    {
      "cell_type": "code",
      "metadata": {
        "id": "zOymGxlb72Fk",
        "colab": {
          "base_uri": "https://localhost:8080/",
          "height": 208
        },
        "outputId": "22d42d8e-5fe1-4570-a70e-c3cb292cd46e"
      },
      "source": [
        "linspace = cirq.Linspace(start=0, stop=1.0, length=11, key='x')\n",
        "for p in linspace:\n",
        "    print(p)"
      ],
      "execution_count": null,
      "outputs": [
        {
          "output_type": "stream",
          "text": [
            "cirq.ParamResolver(OrderedDict([('x', 0.0)]))\n",
            "cirq.ParamResolver(OrderedDict([('x', 0.1)]))\n",
            "cirq.ParamResolver(OrderedDict([('x', 0.2)]))\n",
            "cirq.ParamResolver(OrderedDict([('x', 0.3)]))\n",
            "cirq.ParamResolver(OrderedDict([('x', 0.4)]))\n",
            "cirq.ParamResolver(OrderedDict([('x', 0.5)]))\n",
            "cirq.ParamResolver(OrderedDict([('x', 0.6)]))\n",
            "cirq.ParamResolver(OrderedDict([('x', 0.7)]))\n",
            "cirq.ParamResolver(OrderedDict([('x', 0.8)]))\n",
            "cirq.ParamResolver(OrderedDict([('x', 0.9)]))\n",
            "cirq.ParamResolver(OrderedDict([('x', 1.0)]))\n"
          ],
          "name": "stdout"
        }
      ]
    },
    {
      "cell_type": "markdown",
      "metadata": {
        "id": "r-CjbPwkRI_I"
      },
      "source": [
        "## Exercise: Rotate a qubit\n",
        "\n",
        "Let's do the equivalent of a Rabi-flop experiment.  That is lets apply an `PowXGate` rotating about the `X` axis for a linearly spaced set of values followed by a computational basis measurement.  The end result should be a plot of the sampled fraction that were $|1\\rangle$ as a function of gates of $X^t$ for $t$ between 0 and $1$ for 100 values of $t$ and each result sampled 100 times.\n",
        "\n",
        "You can use matplotlib to plot this, see example plot code below."
      ]
    },
    {
      "cell_type": "code",
      "metadata": {
        "id": "F63NaIkg84ga",
        "colab": {
          "base_uri": "https://localhost:8080/",
          "height": 279
        },
        "outputId": "69b9e030-e1fd-4d6f-e814-8ff306eed25e"
      },
      "source": [
        "print(\"Example plot of two collections: one for horizontal axis, the other for vertical axis\")\n",
        "plt.pyplot.plot([1, 2, 3], [5, 3, 10]);"
      ],
      "execution_count": null,
      "outputs": [
        {
          "output_type": "stream",
          "text": [
            "Example plot of two collections: one for horizontal axis, the other for vertical axis\n"
          ],
          "name": "stdout"
        },
        {
          "output_type": "display_data",
          "data": {
            "image/png": "[encoded data removed]",
            "text/plain": [
              "<Figure size 432x288 with 1 Axes>"
            ]
          },
          "metadata": {
            "tags": []
          }
        }
      ]
    },
    {
      "cell_type": "code",
      "metadata": {
        "id": "8yW2e3sq9JM8"
      },
      "source": [
        "import sympy as sp\n",
        "\n",
        "a = cirq.NamedQubit('a')\n",
        "\n",
        "# the symbol\n",
        "val = sp.Symbol('s')\n",
        "\n",
        "# the gate - where val is symbol\n",
        "pow_x_gate=cirq.X**val\n",
        "\n",
        "\n",
        "# the circuit is a single qubit one\n",
        "circuit = cirq.Circuit()\n",
        "#apply the gate to qubit a\n",
        "circuit.append([pow_x_gate(a)])\n",
        "# measure qubit a\n",
        "circuit.append([cirq.measure(a)])\n",
        "\n",
        "# nr points in the space\n",
        "nr_points = 100\n",
        "\n",
        "# the resolver\n",
        "resolvers = [cirq.ParamResolver({'s': y / nr_points}) for y in range(nr_points)]\n",
        "\n",
        "# sampled 100 times = 100 repetitions\n",
        "results = simulator.run_sweep(program=circuit,\n",
        "                              params=resolvers,\n",
        "                              repetitions=100)\n",
        "# all the results\n",
        "# print(results)\n",
        "\n",
        "# the length of the results should be nr_points\n",
        "# print(len(results))"
      ],
      "execution_count": null,
      "outputs": []
    },
    {
      "cell_type": "markdown",
      "metadata": {
        "id": "hGTFY6hM3CBi"
      },
      "source": [
        "###Solution"
      ]
    },
    {
      "cell_type": "code",
      "metadata": {
        "id": "K-D51-W_3BLu",
        "colab": {
          "base_uri": "https://localhost:8080/",
          "height": 262
        },
        "outputId": "740b4a56-cc07-439b-cc54-dd61051c3414"
      },
      "source": [
        "# histogram according to key \"a\", because qubit \"a\" was measured\n",
        "h_axis = []\n",
        "v_axis = []\n",
        "for i in range(nr_points):\n",
        "  # compute histogram\n",
        "  hres = results[i].histogram(key='a')\n",
        "  \n",
        "  # store \n",
        "  h_axis.append(i)\n",
        "  # store the histogram value for key 1\n",
        "  v_axis.append(hres[1])\n",
        "\n",
        "plt.pyplot.plot(h_axis, v_axis);"
      ],
      "execution_count": null,
      "outputs": [
        {
          "output_type": "display_data",
          "data": {
            "image/png": "[encoded data removed]",
            "text/plain": [
              "<Figure size 432x288 with 1 Axes>"
            ]
          },
          "metadata": {
            "tags": []
          }
        }
      ]
    },
    {
      "cell_type": "markdown",
      "metadata": {
        "id": "FEM73JPALREa"
      },
      "source": [
        "\n",
        "# Noise\n",
        "\n",
        "In addition to circuits with unitary gates, Cirq also has support for modeling noisy quantum evolutions. This is useful when modeling what will happen when running on actual hardware. Cirq currently supports noise that fits within the context of *operator sum representations* of noise (a.k.a quantum operations, quantum dynamical maps, superoperators, etc).  This formalism models the evolution of a density matrix via \n",
        "$$\\rho \\rightarrow \\sum_k A_k \\rho A_k^\\dagger$$\n",
        "where the $A_k$ are *Krauss operators*.  These operators are not necessarily unitary and satisfy the property\n",
        "$$ \\sum_k A_k^\\dagger A_k = I$$\n",
        "\n",
        "**Example**: a noise operator is the depolarizing channel on one qubit.  This takes\n",
        "$$\\rho \\rightarrow (1-p) \\rho + \\frac{p}{3} (X \\rho X + Y \\rho Y + Z \\rho Z)$$\n",
        "In Cirq we can define such a [depolarizing channel](https://cirq.readthedocs.io/en/stable/generated/cirq.depolarize.html) and use it in a quantum circuit:"
      ]
    },
    {
      "cell_type": "code",
      "metadata": {
        "id": "YclVFbKZ0aD4",
        "colab": {
          "base_uri": "https://localhost:8080/",
          "height": 34
        },
        "outputId": "d373fa26-df48-4afc-8c73-6d4c7c7d6e8b"
      },
      "source": [
        "circuit = cirq.Circuit(cirq.depolarize(0.2)(a), cirq.measure(a))\n",
        "print(circuit)"
      ],
      "execution_count": null,
      "outputs": [
        {
          "output_type": "stream",
          "text": [
            "a: ───D(0.2)───M───\n"
          ],
          "name": "stdout"
        }
      ]
    },
    {
      "cell_type": "markdown",
      "metadata": {
        "id": "CvteYd9s00t_"
      },
      "source": [
        "Previously we saw that gates could implement that `_unitary_` protocol, and by doing so they could be used to perform wave function simulation.  For noise the gates implement the `_channel_` protocol.  [Classes that implement this protocol](https://cirq.readthedocs.io/en/stable/noise.html) return the Krauss operators on their `_channel_` method.  Thus"
      ]
    },
    {
      "cell_type": "code",
      "metadata": {
        "id": "0ig_NSrS12PE",
        "colab": {
          "base_uri": "https://localhost:8080/",
          "height": 243
        },
        "outputId": "233a391f-3771-452e-b502-27963514f2a6"
      },
      "source": [
        "for i, krauss in enumerate(cirq.channel(cirq.depolarize(0.2))):\n",
        "    print('{}th krauss operator is {}'.format(i, krauss))\n",
        "print()\n",
        "\n",
        "for i, krauss in enumerate(cirq.channel(cirq.depolarize(0.2))):\n",
        "    pauli_ex = cirq.expand_matrix_in_orthogonal_basis(krauss, cirq.PAULI_BASIS)\n",
        "    print('{}th krauss operator is {}'.format(i, pauli_ex))"
      ],
      "execution_count": null,
      "outputs": [
        {
          "output_type": "stream",
          "text": [
            "0th krauss operator is [[0.89442719 0.        ]\n",
            " [0.         0.89442719]]\n",
            "1th krauss operator is [[0.        +0.j 0.25819889+0.j]\n",
            " [0.25819889+0.j 0.        +0.j]]\n",
            "2th krauss operator is [[0.+0.j         0.-0.25819889j]\n",
            " [0.+0.25819889j 0.+0.j        ]]\n",
            "3th krauss operator is [[ 0.25819889+0.j  0.        +0.j]\n",
            " [ 0.        +0.j -0.25819889+0.j]]\n",
            "\n",
            "0th krauss operator is 0.8944271909999159*I\n",
            "1th krauss operator is 0.2581988897471611*X\n",
            "2th krauss operator is 0.2581988897471611*Y\n",
            "3th krauss operator is 0.2581988897471611*Z\n"
          ],
          "name": "stdout"
        }
      ]
    },
    {
      "cell_type": "markdown",
      "metadata": {
        "id": "spU2l26r0tQS"
      },
      "source": [
        "In addition to the wave function simulator, Cirq also has a [density matrix simulator](https://cirq.readthedocs.io/en/stable/generated/cirq.DensityMatrixSimulator.html?highlight=densitymatrixsimulator).  Instead of keeping track of the wave function this simulator keeps track of the density matrix.  It has the same `run` and `simulate` type methods.  \n",
        "\n",
        "**Example**: Use this simulator to simulate a depolarizing channel and return the final density matrix of the system"
      ]
    },
    {
      "cell_type": "code",
      "metadata": {
        "id": "skLIvXYq4yvX",
        "colab": {
          "base_uri": "https://localhost:8080/",
          "height": 121
        },
        "outputId": "e736cbca-1519-43b9-ac68-281e880bfadd"
      },
      "source": [
        "# The depolarizing channel\n",
        "circuit = cirq.Circuit(cirq.depolarize(0.2)(a))\n",
        "print('Circuit:\\n{}\\n'.format(circuit))\n",
        "\n",
        "# The density matrix simulator, used when expressing noise by Krauss operators\n",
        "simulator = cirq.DensityMatrixSimulator()\n",
        "\n",
        "# The simulation result is a matrix\n",
        "matrix = simulator.simulate(circuit).final_density_matrix\n",
        "\n",
        "# Print\n",
        "print('Final density matrix:\\n{}'.format(matrix))"
      ],
      "execution_count": null,
      "outputs": [
        {
          "output_type": "stream",
          "text": [
            "Circuit:\n",
            "a: ───D(0.2)───\n",
            "\n",
            "Final density matrix:\n",
            "[[0.8666666 +0.j 0.        +0.j]\n",
            " [0.        +0.j 0.13333333+0.j]]\n"
          ],
          "name": "stdout"
        }
      ]
    },
    {
      "cell_type": "markdown",
      "metadata": {
        "id": "Eudp7NYo51LT"
      },
      "source": [
        "**Note**: The density matrix simulator simulates measurement statistically, and not as a channel where the outcome is not known.  Thus for example "
      ]
    },
    {
      "cell_type": "code",
      "metadata": {
        "id": "_SjPRrIX5F4O",
        "colab": {
          "base_uri": "https://localhost:8080/",
          "height": 278
        },
        "outputId": "d1ff5931-db11-439f-d393-b0cea0d8988b"
      },
      "source": [
        "circuit = cirq.Circuit(cirq.depolarize(0.2)(a), cirq.measure(a))\n",
        "simulator = cirq.DensityMatrixSimulator()\n",
        "for _ in range(5):\n",
        "    print(simulator.simulate(circuit).final_density_matrix)\n",
        "    print()"
      ],
      "execution_count": null,
      "outputs": [
        {
          "output_type": "stream",
          "text": [
            "[[0.       +0.j 0.       +0.j]\n",
            " [0.       +0.j 0.9999999+0.j]]\n",
            "\n",
            "[[0.99999994+0.j 0.        +0.j]\n",
            " [0.        +0.j 0.        +0.j]]\n",
            "\n",
            "[[0.99999994+0.j 0.        +0.j]\n",
            " [0.        +0.j 0.        +0.j]]\n",
            "\n",
            "[[0.99999994+0.j 0.        +0.j]\n",
            " [0.        +0.j 0.        +0.j]]\n",
            "\n",
            "[[0.99999994+0.j 0.        +0.j]\n",
            " [0.        +0.j 0.        +0.j]]\n",
            "\n"
          ],
          "name": "stdout"
        }
      ]
    },
    {
      "cell_type": "markdown",
      "metadata": {
        "id": "3qUM-Kpi8Iy4"
      },
      "source": [
        "## Monte Carlo Simulations\n",
        "\n",
        "Density matrix simulations are more expensive than pure state wave function simulations.  However some channels allow an interpretation of randomly applying one of a fixed set of unitaries with differing probabilites.  \n",
        "\n",
        "**Example**: The depolarizing channel above can be interpretted as: with probability $1-p$ apply the identity to the state and with probability $p$ apply one of the three Pauli matrices $X$, $Y$, or $Z$ with equal probability. \n",
        "\n",
        "Channels that can be interpretted in this form can be simulated using a wave function simulator: when this channel is simulated the simulation will sample a unitary with the appropriate probability. For channels of these type, the channel can, instead of implementing the `_channel_` protocol, implement the [`_mixture_`](https://cirq.readthedocs.io/en/stable/generated/cirq.mixture.html) protocol:"
      ]
    },
    {
      "cell_type": "code",
      "metadata": {
        "id": "9Pt7o-Tq2SNz",
        "colab": {
          "base_uri": "https://localhost:8080/",
          "height": 364
        },
        "outputId": "fe4fc1b9-c41e-4dda-b7d1-5d094a62e654"
      },
      "source": [
        "prob = 0.4\n",
        "\n",
        "# Identity should have 1-prob, e.g. 0.8\n",
        "# X should have prob/3, e.g. 0.06666666666666667\n",
        "# Y should have prob/3, e.g. 0.06666666666666667\n",
        "# Z should have prob/3, e.g. 0.06666666666666667\n",
        "for p, u in cirq.mixture(cirq.depolarize(prob)):\n",
        "    print('prob={}\\nunitary\\n{}\\n'.format(p, u))"
      ],
      "execution_count": null,
      "outputs": [
        {
          "output_type": "stream",
          "text": [
            "prob=0.6\n",
            "unitary\n",
            "[[1. 0.]\n",
            " [0. 1.]]\n",
            "\n",
            "prob=0.13333333333333333\n",
            "unitary\n",
            "[[0.+0.j 1.+0.j]\n",
            " [1.+0.j 0.+0.j]]\n",
            "\n",
            "prob=0.13333333333333333\n",
            "unitary\n",
            "[[0.+0.j 0.-1.j]\n",
            " [0.+1.j 0.+0.j]]\n",
            "\n",
            "prob=0.13333333333333333\n",
            "unitary\n",
            "[[ 1.+0.j  0.+0.j]\n",
            " [ 0.+0.j -1.+0.j]]\n",
            "\n"
          ],
          "name": "stdout"
        }
      ]
    },
    {
      "cell_type": "markdown",
      "metadata": {
        "id": "z4FIsadc4Nmg"
      },
      "source": [
        "In fact the depolarizing channel does not implement `_channel_`.  Instead it only implements `_mixture_` and the `cirq.channel` method notices this and derives the channel from the mixture."
      ]
    },
    {
      "cell_type": "code",
      "metadata": {
        "id": "HvhpBD334o1v",
        "colab": {
          "base_uri": "https://localhost:8080/",
          "height": 52
        },
        "outputId": "9c233ce7-b467-4955-9d68-e876dfa8f485"
      },
      "source": [
        "d = cirq.depolarize(0.2)\n",
        "print('does cirq.depolarize(0.2) have _channel_? {}'.format('yes' if getattr(d, '_channel_', None) else 'no'))\n",
        "print('does cirq.depolarize(0.2) have _mixture_? {}'.format('yes' if getattr(d, '_mixture_', None) else 'no'))"
      ],
      "execution_count": null,
      "outputs": [
        {
          "output_type": "stream",
          "text": [
            "does cirq.depolarize(0.2) have _channel_? no\n",
            "does cirq.depolarize(0.2) have _mixture_? yes\n"
          ],
          "name": "stdout"
        }
      ]
    },
    {
      "cell_type": "markdown",
      "metadata": {
        "id": "OMCyapOd28h2"
      },
      "source": [
        "When channels implement mixture then, as we said, we can use the wave function simulator:"
      ]
    },
    {
      "cell_type": "code",
      "metadata": {
        "id": "vDEhGG0v-UJy",
        "colab": {
          "base_uri": "https://localhost:8080/",
          "height": 34
        },
        "outputId": "8098a30e-f8d5-4d68-902d-1d25248f27bb"
      },
      "source": [
        "circuit = cirq.Circuit(cirq.depolarize(0.5).on(a), cirq.measure(a))\n",
        "\n",
        "# The wave function simulator\n",
        "simulator = cirq.Simulator()\n",
        "\n",
        "# This is a TrialResult\n",
        "result = simulator.run(circuit, repetitions=10)\n",
        "\n",
        "print(\"run {} repetitions and get something different each time: {}\".format(result.repetitions, result))"
      ],
      "execution_count": null,
      "outputs": [
        {
          "output_type": "stream",
          "text": [
            "run 10 repetitions and get something different each time: a=0001000000\n"
          ],
          "name": "stdout"
        }
      ]
    },
    {
      "cell_type": "markdown",
      "metadata": {
        "id": "weWPzaPx8zly"
      },
      "source": [
        "## Adding Noise to Circuits and Simulations"
      ]
    },
    {
      "cell_type": "markdown",
      "metadata": {
        "id": "X-dT_CLu0fH9"
      },
      "source": [
        "To add noise to circuits or during simulations, we provide the notion of a `NoiseModel`.  A `NoiseModel` may add noise operation by operation, or it may add noise moment by moment, or it may add noise across a list of moments.\n",
        "\n",
        "**Example**: define a noise model that add a single qubit depolarizing for every qubit in each moment.  "
      ]
    },
    {
      "cell_type": "code",
      "metadata": {
        "id": "PfRP7K598wNQ",
        "colab": {
          "base_uri": "https://localhost:8080/",
          "height": 173
        },
        "outputId": "66dd404f-8b29-43e1-a018-4f6263cc42c7"
      },
      "source": [
        "noise = cirq.ConstantQubitNoiseModel(cirq.depolarize(0.2))\n",
        "\n",
        "circuit = cirq.Circuit([cirq.H(a), cirq.CNOT(a, b), cirq.measure(a, b)])\n",
        "print('Circuit with no noise:\\n{}\\n'.format(circuit))\n",
        "\n",
        "# Sort the qubits\n",
        "system_qubits = sorted(circuit.all_qubits())\n",
        "\n",
        "# The new circuit is noisy\n",
        "noisy_circuit = cirq.Circuit()\n",
        "# Take each moment of the original circuit\n",
        "for moment in circuit:\n",
        "    # Add the noise to each qubit of each moment\n",
        "    noisy_circuit.append(noise.noisy_moment(moment, system_qubits))\n",
        "    \n",
        "print('Circuit with noise:\\n{}'.format(noisy_circuit))\n"
      ],
      "execution_count": null,
      "outputs": [
        {
          "output_type": "stream",
          "text": [
            "Circuit with no noise:\n",
            "a: ───H───@───M───\n",
            "          │   │\n",
            "b: ───────X───M───\n",
            "\n",
            "Circuit with noise:\n",
            "a: ───H───D(0.2)───@───D(0.2)───M───D(0.2)───\n",
            "                   │            │\n",
            "b: ───────D(0.2)───X───D(0.2)───M───D(0.2)───\n"
          ],
          "name": "stdout"
        }
      ]
    },
    {
      "cell_type": "code",
      "metadata": {
        "id": "uzxaFCGIz2aQ",
        "colab": {
          "base_uri": "https://localhost:8080/",
          "height": 955
        },
        "outputId": "2cf1c9de-c13b-4d14-8ea5-da4abb923e7d"
      },
      "source": [
        "# Add the noise to the density matrix simulator\n",
        "simulator = cirq.DensityMatrixSimulator(noise=noise)\n",
        "\n",
        "# Simulate the not-noisy circuit with noise\n",
        "for i, step in enumerate(simulator.simulate_moment_steps(circuit)):\n",
        "    print('* After step {} state was\\n{}\\n'.format(i, step.density_matrix()))\n",
        "    \n",
        "#\n",
        "# The noisy circuit without noise in the density matrix simulator\n",
        "#\n",
        "# Add the noise to the density matrix simulator\n",
        "simulator = cirq.DensityMatrixSimulator()\n",
        "    \n",
        "# Simulate the not-noisy circuit with noise\n",
        "for i, step in enumerate(simulator.simulate_moment_steps(noisy_circuit)):\n",
        "    print('+ After step {} state was\\n{}\\n'.format(i, step.density_matrix()))"
      ],
      "execution_count": null,
      "outputs": [
        {
          "output_type": "stream",
          "text": [
            "* After step 0 state was\n",
            "[[0.4333333 +0.j 0.        +0.j 0.31777775+0.j 0.        +0.j]\n",
            " [0.        +0.j 0.06666666+0.j 0.        +0.j 0.04888888+0.j]\n",
            " [0.31777775+0.j 0.        +0.j 0.4333333 +0.j 0.        +0.j]\n",
            " [0.        +0.j 0.04888888+0.j 0.        +0.j 0.06666666+0.j]]\n",
            "\n",
            "* After step 1 state was\n",
            "[[0.34859255+0.j 0.        +0.j 0.        +0.j 0.17089382+0.j]\n",
            " [0.        +0.j 0.15140739+0.j 0.02629136+0.j 0.        +0.j]\n",
            " [0.        +0.j 0.02629136+0.j 0.15140739+0.j 0.        +0.j]\n",
            " [0.17089382+0.j 0.        +0.j 0.        +0.j 0.34859255+0.j]]\n",
            "\n",
            "* After step 2 state was\n",
            "[[0.75111103+0.j 0.        +0.j 0.        +0.j 0.        +0.j]\n",
            " [0.        +0.j 0.11555554+0.j 0.        +0.j 0.        +0.j]\n",
            " [0.        +0.j 0.        +0.j 0.11555553+0.j 0.        +0.j]\n",
            " [0.        +0.j 0.        +0.j 0.        +0.j 0.01777777+0.j]]\n",
            "\n",
            "+ After step 0 state was\n",
            "[[ 0.49999997-0.j  0.        -0.j  0.49999997-0.j -0.        -0.j]\n",
            " [ 0.        -0.j  0.        -0.j -0.        -0.j -0.        -0.j]\n",
            " [ 0.49999997-0.j  0.        -0.j  0.49999997-0.j -0.        -0.j]\n",
            " [ 0.        -0.j  0.        -0.j -0.        -0.j -0.        -0.j]]\n",
            "\n",
            "+ After step 1 state was\n",
            "[[0.4333333 +0.j 0.        +0.j 0.31777775+0.j 0.        +0.j]\n",
            " [0.        +0.j 0.06666666+0.j 0.        +0.j 0.04888888+0.j]\n",
            " [0.31777775+0.j 0.        +0.j 0.4333333 +0.j 0.        +0.j]\n",
            " [0.        +0.j 0.04888888+0.j 0.        +0.j 0.06666666+0.j]]\n",
            "\n",
            "+ After step 2 state was\n",
            "[[0.4333333 +0.j 0.        +0.j 0.        +0.j 0.31777775+0.j]\n",
            " [0.        +0.j 0.06666666+0.j 0.04888888+0.j 0.        +0.j]\n",
            " [0.        +0.j 0.04888888+0.j 0.06666666+0.j 0.        +0.j]\n",
            " [0.31777775+0.j 0.        +0.j 0.        +0.j 0.4333333 +0.j]]\n",
            "\n",
            "+ After step 3 state was\n",
            "[[0.34859255+0.j 0.        +0.j 0.        +0.j 0.17089382+0.j]\n",
            " [0.        +0.j 0.15140739+0.j 0.02629136+0.j 0.        +0.j]\n",
            " [0.        +0.j 0.02629136+0.j 0.15140739+0.j 0.        +0.j]\n",
            " [0.17089382+0.j 0.        +0.j 0.        +0.j 0.34859255+0.j]]\n",
            "\n",
            "+ After step 4 state was\n",
            "[[0.9999999+0.j 0.       +0.j 0.       +0.j 0.       +0.j]\n",
            " [0.       +0.j 0.       +0.j 0.       +0.j 0.       +0.j]\n",
            " [0.       +0.j 0.       +0.j 0.       +0.j 0.       +0.j]\n",
            " [0.       +0.j 0.       +0.j 0.       +0.j 0.       +0.j]]\n",
            "\n",
            "+ After step 5 state was\n",
            "[[0.75111103+0.j 0.        +0.j 0.        +0.j 0.        +0.j]\n",
            " [0.        +0.j 0.11555554+0.j 0.        +0.j 0.        +0.j]\n",
            " [0.        +0.j 0.        +0.j 0.11555553+0.j 0.        +0.j]\n",
            " [0.        +0.j 0.        +0.j 0.        +0.j 0.01777777+0.j]]\n",
            "\n"
          ],
          "name": "stdout"
        }
      ]
    },
    {
      "cell_type": "markdown",
      "metadata": {
        "id": "J9ia4eatUQ_x"
      },
      "source": [
        "# Compiling / Optimizing\n",
        "\n",
        "Cirq's philosophy for what are often called compilation steps is slightly non-traditional.  In particular, we believe that NISQ devices perform so few gates that many compilations will be one or a few passes. A useful class of optimization code for this is the [`PointOptimizer`](https://cirq.readthedocs.io/en/stable/generated/cirq.PointOptimizer.html).\n",
        "\n",
        "**Example**: Here is a `PointOptimizer` that recognizes that a `X` gate followed by a `Z` gate is equivalent to a `Y` gate"
      ]
    },
    {
      "cell_type": "code",
      "metadata": {
        "id": "l7eFMVe1GEe2",
        "colab": {
          "base_uri": "https://localhost:8080/",
          "height": 382
        },
        "outputId": "97ad7ccb-6def-4420-a436-701ff503f161"
      },
      "source": [
        "class XZOptimizer(cirq.PointOptimizer):\n",
        "    \"\"\"Replaces an X followed by a Z with a Y.\"\"\"\n",
        "    \n",
        "    # The circuit to improve\n",
        "    # The index of the moment with the operation to focus on\n",
        "    # The operation to focus improvements upon\n",
        "    def optimization_at(self, circuit, index, op):\n",
        "        # Is the gate an X gate?\n",
        "        if isinstance(op, cirq.GateOperation) and (op.gate == cirq.X):\n",
        "          \n",
        "            # Finds the index of the next moment that touches the given qubits.\n",
        "            next_op_index = circuit.next_moment_operating_on(op.qubits, index + 1)\n",
        "            qubit = op.qubits[0]\n",
        "            \n",
        "            # If the next index exists\n",
        "            if next_op_index is not None:\n",
        "              \n",
        "                # Get the operation at the existing index\n",
        "                next_op = circuit.operation_at(qubit, next_op_index)\n",
        "                \n",
        "                # Is this next_op a Z gate?\n",
        "                if isinstance(next_op, cirq.GateOperation) and  (next_op.gate == cirq.Z):\n",
        "                  \n",
        "                    # If yes, replace the X and the Z with a Y\n",
        "                    new_op = cirq.Y.on(qubit)\n",
        "                   \n",
        "                    # see https://cirq.readthedocs.io/en/stable/generated/cirq.PointOptimizationSummary.html?highlight=pointoptimizationsummary\n",
        "                    return cirq.PointOptimizationSummary(\n",
        "                        clear_span = next_op_index - index + 1, # Range of moments to affect. \n",
        "                        clear_qubits = op.qubits, # The set of qubits that should be cleared with each affected moment\n",
        "                        new_operations = [new_op] # The operations to replace\n",
        "                    )\n",
        "        return None\n",
        "                        \n",
        "        \n",
        "# The optimizer\n",
        "opt = XZOptimizer()\n",
        "\n",
        "a = cirq.NamedQubit(\"a\")\n",
        "b = cirq.NamedQubit(\"b\")\n",
        "c = cirq.NamedQubit(\"c\")\n",
        "\n",
        "# Unoptimized circuit\n",
        "circuit = cirq.Circuit(cirq.X(a), cirq.Z(a), cirq.Y(a), cirq.CZ(a, b), cirq.X(a), cirq.CNOT(a,c))\n",
        "print('Before\\n{}\\n'. format(circuit))\n",
        "\n",
        "# Optimized circuit\n",
        "opt.optimize_circuit(circuit)\n",
        "print('After XZ opt\\n{}\\n'.format(circuit))\n",
        "\n",
        "# We can remove the empty moments\n",
        "remempty = cirq.DropEmptyMoments()\n",
        "remempty.optimize_circuit(circuit)\n",
        "print('After Drop opt\\n{}\\n'.format(circuit))\n"
      ],
      "execution_count": null,
      "outputs": [
        {
          "output_type": "stream",
          "text": [
            "Before\n",
            "a: ───X───Z───Y───@───X───@───\n",
            "                  │       │\n",
            "b: ───────────────@───────┼───\n",
            "                          │\n",
            "c: ───────────────────────X───\n",
            "\n",
            "After XZ opt\n",
            "a: ───Y───────Y───@───X───@───\n",
            "                  │       │\n",
            "b: ───────────────@───────┼───\n",
            "                          │\n",
            "c: ───────────────────────X───\n",
            "\n",
            "After Drop opt\n",
            "a: ───Y───Y───@───X───@───\n",
            "              │       │\n",
            "b: ───────────@───────┼───\n",
            "                      │\n",
            "c: ───────────────────X───\n",
            "\n"
          ],
          "name": "stdout"
        }
      ]
    },
    {
      "cell_type": "markdown",
      "metadata": {
        "id": "--aUfkiaUb3S"
      },
      "source": [
        "## Exercise: Simplify flipped CNOTs\n",
        "\n",
        "Write a PointOptimizer that performs (greedily) the simplification that\n",
        "\n",
        "```\n",
        "a: ───H───@───H───\n",
        "          │\n",
        "b: ───H───X───H───\n",
        "```\n",
        "is equal to\n",
        "\n",
        "\n",
        "```\n",
        "a: ───X───\n",
        "      │\n",
        "b: ───@───\n",
        "```\n",
        "\n",
        "\n",
        "\n"
      ]
    },
    {
      "cell_type": "markdown",
      "metadata": {
        "id": "VqltCQJIVgxg"
      },
      "source": [
        "### **Solution**:"
      ]
    },
    {
      "cell_type": "code",
      "metadata": {
        "id": "S0PThmctKFxl",
        "colab": {
          "base_uri": "https://localhost:8080/",
          "height": 225
        },
        "outputId": "d77803f8-3f90-4034-e623-350ee34fa95a"
      },
      "source": [
        "class HadamardOptimizer(cirq.PointOptimizer):\n",
        "    \"\"\"Replaces an H followed by a H with nothing.\"\"\"\n",
        "    \n",
        "    # The circuit to improve\n",
        "    # The index of the moment with the operation to focus on\n",
        "    # The operation to focus improvements upon\n",
        "    def optimization_at(self, circuit, index, op):\n",
        "        # Is the gate a Hadamard gate?\n",
        "        if isinstance(op, cirq.GateOperation) and (op.gate == cirq.H):\n",
        "          \n",
        "            # Finds the index of the next moment that touches the given qubits.\n",
        "            next_op_index = circuit.next_moment_operating_on(op.qubits, index + 1)\n",
        "            qubit = op.qubits[0]\n",
        "            \n",
        "            # If the next index exists\n",
        "            if next_op_index is not None:\n",
        "              \n",
        "                # Get the operation at the existing index\n",
        "                next_op = circuit.operation_at(qubit, next_op_index)\n",
        "                \n",
        "                # Is this next_op another Hadamard gate?\n",
        "                if isinstance(next_op, cirq.GateOperation) and  (next_op.gate == cirq.H):\n",
        "                  \n",
        "                    # see https://cirq.readthedocs.io/en/stable/generated/cirq.PointOptimizationSummary.html?highlight=pointoptimizationsummary\n",
        "                    return cirq.PointOptimizationSummary(\n",
        "                        clear_span = next_op_index - index + 1, # Range of moments to affect. \n",
        "                        clear_qubits = op.qubits, # The set of qubits that should be cleared with each affected moment\n",
        "                        new_operations = [ ] # replace with empty\n",
        "                    )\n",
        "        return None\n",
        "\n",
        "\n",
        "hadamard_opt = HadamardOptimizer()\n",
        "\n",
        "a = cirq.NamedQubit(\"a\")\n",
        "b = cirq.NamedQubit(\"b\")\n",
        "c = cirq.NamedQubit(\"c\")\n",
        "\n",
        "# Unoptimized circuit\n",
        "circuit = cirq.Circuit([ cirq.Moment([cirq.H(a), cirq.H(b)]),\n",
        "                         cirq.Moment([cirq.H(b), cirq.H(c)])\n",
        "                      ])\n",
        "circuit.append(cirq.T(c))\n",
        "print('Before optimization\\n{}\\n'. format(circuit))\n",
        "\n",
        "# Optimized circuit\n",
        "hadamard_opt.optimize_circuit(circuit)\n",
        "print('After H opt\\n{}\\n'.format(circuit))"
      ],
      "execution_count": null,
      "outputs": [
        {
          "output_type": "stream",
          "text": [
            "Before optimization\n",
            "a: ───H───────────\n",
            "\n",
            "b: ───H───H───────\n",
            "\n",
            "c: ───────H───T───\n",
            "\n",
            "After H opt\n",
            "a: ───H───────────\n",
            "\n",
            "c: ───────H───T───\n",
            "\n"
          ],
          "name": "stdout"
        }
      ]
    },
    {
      "cell_type": "markdown",
      "metadata": {
        "id": "PvJCA3e0QsuI"
      },
      "source": [
        "# Devices\n",
        "\n",
        "NISQ algorithms work in a regime where every gate counts.  A key philosophy behind Cirq is that we believe the details of the hardware, the performance characteristics, as well as device constraints, will be key to getting the most out of NISQ algorithms.  Towards this end these hardware features are contained in the `Device` class.\n",
        "\n",
        "**Example**: Here is Google's Bristlecone device"
      ]
    },
    {
      "cell_type": "code",
      "metadata": {
        "id": "BmzxGpDB9jJ4",
        "colab": {
          "base_uri": "https://localhost:8080/",
          "height": 555
        },
        "outputId": "9a9dba5f-c1d0-48e5-e5e6-a717a3f36fbe"
      },
      "source": [
        "print(cirq.google.Bristlecone)"
      ],
      "execution_count": null,
      "outputs": [
        {
          "output_type": "stream",
          "text": [
            "                                             (0, 5)────(0, 6)\n",
            "                                             │         │\n",
            "                                             │         │\n",
            "                                    (1, 4)───(1, 5)────(1, 6)────(1, 7)\n",
            "                                    │        │         │         │\n",
            "                                    │        │         │         │\n",
            "                           (2, 3)───(2, 4)───(2, 5)────(2, 6)────(2, 7)───(2, 8)\n",
            "                           │        │        │         │         │        │\n",
            "                           │        │        │         │         │        │\n",
            "                  (3, 2)───(3, 3)───(3, 4)───(3, 5)────(3, 6)────(3, 7)───(3, 8)───(3, 9)\n",
            "                  │        │        │        │         │         │        │        │\n",
            "                  │        │        │        │         │         │        │        │\n",
            "         (4, 1)───(4, 2)───(4, 3)───(4, 4)───(4, 5)────(4, 6)────(4, 7)───(4, 8)───(4, 9)───(4, 10)\n",
            "         │        │        │        │        │         │         │        │        │        │\n",
            "         │        │        │        │        │         │         │        │        │        │\n",
            "(5, 0)───(5, 1)───(5, 2)───(5, 3)───(5, 4)───(5, 5)────(5, 6)────(5, 7)───(5, 8)───(5, 9)───(5, 10)───(5, 11)\n",
            "         │        │        │        │        │         │         │        │        │        │\n",
            "         │        │        │        │        │         │         │        │        │        │\n",
            "         (6, 1)───(6, 2)───(6, 3)───(6, 4)───(6, 5)────(6, 6)────(6, 7)───(6, 8)───(6, 9)───(6, 10)\n",
            "                  │        │        │        │         │         │        │        │\n",
            "                  │        │        │        │         │         │        │        │\n",
            "                  (7, 2)───(7, 3)───(7, 4)───(7, 5)────(7, 6)────(7, 7)───(7, 8)───(7, 9)\n",
            "                           │        │        │         │         │        │\n",
            "                           │        │        │         │         │        │\n",
            "                           (8, 3)───(8, 4)───(8, 5)────(8, 6)────(8, 7)───(8, 8)\n",
            "                                    │        │         │         │\n",
            "                                    │        │         │         │\n",
            "                                    (9, 4)───(9, 5)────(9, 6)────(9, 7)\n",
            "                                             │         │\n",
            "                                             │         │\n",
            "                                             (10, 5)───(10, 6)\n"
          ],
          "name": "stdout"
        }
      ]
    },
    {
      "cell_type": "markdown",
      "metadata": {
        "id": "GGejgRf0AGni"
      },
      "source": [
        "In a future version, we intend for each `Device` to define a noise model.\n",
        "\n",
        "`Device`s also contain more information about the timing of the device. \n",
        "\n",
        "**Example**:  We can calculate the duration of an `Exp11Gate` on the `Bristlecone` device"
      ]
    },
    {
      "cell_type": "code",
      "metadata": {
        "id": "HAwdWkprAPXN",
        "colab": {
          "base_uri": "https://localhost:8080/",
          "height": 34
        },
        "outputId": "a143a714-ed84-4d5b-e3cb-55e4ff4f89c9"
      },
      "source": [
        "brissy = cirq.google.Bristlecone\n",
        "op = cirq.X.on(cirq.GridQubit(5, 5))\n",
        "print(brissy.duration_of(op))"
      ],
      "execution_count": null,
      "outputs": [
        {
          "output_type": "stream",
          "text": [
            "20 ns\n"
          ],
          "name": "stdout"
        }
      ]
    },
    {
      "cell_type": "markdown",
      "metadata": {
        "id": "IxnyURhnAdph"
      },
      "source": [
        "Another property of devices is that they can be used to enforce constraints from the hardware, both checking that these constraints are satisfied, but also enforcing the constraints on the device.  For example on the `Bristlecone` device a two qubit gate has the property that one cannot simultaneously perform a pair of two qubit gates that act on adjacent qubits. So for example if we create such a `Circuit` and validate it using the device, Cirq will complain."
      ]
    },
    {
      "cell_type": "code",
      "metadata": {
        "id": "r5F4FUtmA5kW",
        "colab": {
          "base_uri": "https://localhost:8080/",
          "height": 503
        },
        "outputId": "adae9250-180c-4122-d553-7d46a82d291c"
      },
      "source": [
        "q55 = cirq.GridQubit(5, 5)\n",
        "q56 = cirq.GridQubit(5, 6)\n",
        "q66 = cirq.GridQubit(6, 6)\n",
        "q67 = cirq.GridQubit(6, 7)\n",
        "\n",
        "ops = [cirq.CZ(q55, q56), cirq.CZ(q66, q67)]\n",
        "circuit = cirq.Circuit(ops)\n",
        "print(circuit)\n",
        "print('But when we validate it against the device:')\n",
        "cirq.google.Bristlecone.validate_circuit(circuit)\n",
        "# (this should throw an error)"
      ],
      "execution_count": null,
      "outputs": [
        {
          "output_type": "stream",
          "text": [
            "(5, 5): ───@───\n",
            "           │\n",
            "(5, 6): ───@───\n",
            "\n",
            "(6, 6): ───@───\n",
            "           │\n",
            "(6, 7): ───@───\n",
            "But when we validate it against the device:\n"
          ],
          "name": "stdout"
        },
        {
          "output_type": "error",
          "ename": "ValueError",
          "evalue": "ignored",
          "traceback": [
            "\u001b[0;31m---------------------------------------------------------------------------\u001b[0m",
            "\u001b[0;31mValueError\u001b[0m                                Traceback (most recent call last)",
            "\u001b[0;32m<ipython-input-97-db0400c779e6>\u001b[0m in \u001b[0;36m<module>\u001b[0;34m()\u001b[0m\n\u001b[1;32m      8\u001b[0m \u001b[0mprint\u001b[0m\u001b[0;34m(\u001b[0m\u001b[0mcircuit\u001b[0m\u001b[0;34m)\u001b[0m\u001b[0;34m\u001b[0m\u001b[0;34m\u001b[0m\u001b[0m\n\u001b[1;32m      9\u001b[0m \u001b[0mprint\u001b[0m\u001b[0;34m(\u001b[0m\u001b[0;34m'But when we validate it against the device:'\u001b[0m\u001b[0;34m)\u001b[0m\u001b[0;34m\u001b[0m\u001b[0;34m\u001b[0m\u001b[0m\n\u001b[0;32m---> 10\u001b[0;31m \u001b[0mcirq\u001b[0m\u001b[0;34m.\u001b[0m\u001b[0mgoogle\u001b[0m\u001b[0;34m.\u001b[0m\u001b[0mBristlecone\u001b[0m\u001b[0;34m.\u001b[0m\u001b[0mvalidate_circuit\u001b[0m\u001b[0;34m(\u001b[0m\u001b[0mcircuit\u001b[0m\u001b[0;34m)\u001b[0m\u001b[0;34m\u001b[0m\u001b[0;34m\u001b[0m\u001b[0m\n\u001b[0m\u001b[1;32m     11\u001b[0m \u001b[0;31m# (this should throw an error)\u001b[0m\u001b[0;34m\u001b[0m\u001b[0;34m\u001b[0m\u001b[0;34m\u001b[0m\u001b[0m\n",
            "\u001b[0;32m/usr/local/lib/python3.6/dist-packages/cirq/google/devices/xmon_device.py\u001b[0m in \u001b[0;36mvalidate_circuit\u001b[0;34m(self, circuit)\u001b[0m\n\u001b[1;32m    137\u001b[0m \u001b[0;34m\u001b[0m\u001b[0m\n\u001b[1;32m    138\u001b[0m     \u001b[0;32mdef\u001b[0m \u001b[0mvalidate_circuit\u001b[0m\u001b[0;34m(\u001b[0m\u001b[0mself\u001b[0m\u001b[0;34m,\u001b[0m \u001b[0mcircuit\u001b[0m\u001b[0;34m:\u001b[0m \u001b[0;34m'cirq.Circuit'\u001b[0m\u001b[0;34m)\u001b[0m\u001b[0;34m:\u001b[0m\u001b[0;34m\u001b[0m\u001b[0;34m\u001b[0m\u001b[0m\n\u001b[0;32m--> 139\u001b[0;31m         \u001b[0msuper\u001b[0m\u001b[0;34m(\u001b[0m\u001b[0;34m)\u001b[0m\u001b[0;34m.\u001b[0m\u001b[0mvalidate_circuit\u001b[0m\u001b[0;34m(\u001b[0m\u001b[0mcircuit\u001b[0m\u001b[0;34m)\u001b[0m\u001b[0;34m\u001b[0m\u001b[0;34m\u001b[0m\u001b[0m\n\u001b[0m\u001b[1;32m    140\u001b[0m         \u001b[0m_verify_unique_measurement_keys\u001b[0m\u001b[0;34m(\u001b[0m\u001b[0mcircuit\u001b[0m\u001b[0;34m.\u001b[0m\u001b[0mall_operations\u001b[0m\u001b[0;34m(\u001b[0m\u001b[0;34m)\u001b[0m\u001b[0;34m)\u001b[0m\u001b[0;34m\u001b[0m\u001b[0;34m\u001b[0m\u001b[0m\n\u001b[1;32m    141\u001b[0m \u001b[0;34m\u001b[0m\u001b[0m\n",
            "\u001b[0;32m/usr/local/lib/python3.6/dist-packages/cirq/devices/device.py\u001b[0m in \u001b[0;36mvalidate_circuit\u001b[0;34m(self, circuit)\u001b[0m\n\u001b[1;32m     81\u001b[0m         \"\"\"\n\u001b[1;32m     82\u001b[0m         \u001b[0;32mfor\u001b[0m \u001b[0mmoment\u001b[0m \u001b[0;32min\u001b[0m \u001b[0mcircuit\u001b[0m\u001b[0;34m:\u001b[0m\u001b[0;34m\u001b[0m\u001b[0;34m\u001b[0m\u001b[0m\n\u001b[0;32m---> 83\u001b[0;31m             \u001b[0mself\u001b[0m\u001b[0;34m.\u001b[0m\u001b[0mvalidate_moment\u001b[0m\u001b[0;34m(\u001b[0m\u001b[0mmoment\u001b[0m\u001b[0;34m)\u001b[0m\u001b[0;34m\u001b[0m\u001b[0;34m\u001b[0m\u001b[0m\n\u001b[0m\u001b[1;32m     84\u001b[0m \u001b[0;34m\u001b[0m\u001b[0m\n\u001b[1;32m     85\u001b[0m     \u001b[0;32mdef\u001b[0m \u001b[0mvalidate_moment\u001b[0m\u001b[0;34m(\u001b[0m\u001b[0mself\u001b[0m\u001b[0;34m,\u001b[0m \u001b[0mmoment\u001b[0m\u001b[0;34m:\u001b[0m \u001b[0;34m'cirq.Moment'\u001b[0m\u001b[0;34m)\u001b[0m \u001b[0;34m->\u001b[0m \u001b[0;32mNone\u001b[0m\u001b[0;34m:\u001b[0m\u001b[0;34m\u001b[0m\u001b[0;34m\u001b[0m\u001b[0m\n",
            "\u001b[0;32m/usr/local/lib/python3.6/dist-packages/cirq/google/devices/xmon_device.py\u001b[0m in \u001b[0;36mvalidate_moment\u001b[0;34m(self, moment)\u001b[0m\n\u001b[1;32m    150\u001b[0m                                 cast(ops.GateOperation, other))):\n\u001b[1;32m    151\u001b[0m                         raise ValueError(\n\u001b[0;32m--> 152\u001b[0;31m                             'Adjacent Exp11 operations: {}.'.format(moment))\n\u001b[0m\u001b[1;32m    153\u001b[0m \u001b[0;34m\u001b[0m\u001b[0m\n\u001b[1;32m    154\u001b[0m     def can_add_operation_into_moment(self, operation: 'cirq.Operation',\n",
            "\u001b[0;31mValueError\u001b[0m: Adjacent Exp11 operations: CZ((5, 5), (5, 6)) and CZ((6, 6), (6, 7))."
          ]
        }
      ]
    },
    {
      "cell_type": "markdown",
      "metadata": {
        "id": "XkNPbeFDBTL4"
      },
      "source": [
        "But more interestingly we could have passed the device into the `Circuit` and it will perform the creation of the circuit (using the insertion semanics as described above) such that the device cannot violate the constraints."
      ]
    },
    {
      "cell_type": "code",
      "metadata": {
        "id": "5BOBUIEIBeQ5",
        "colab": {
          "base_uri": "https://localhost:8080/",
          "height": 139
        },
        "outputId": "6687484e-bd7e-4d89-8d19-1766ed37acd9"
      },
      "source": [
        "#these are the gates\n",
        "ops = [cirq.CZ(q55, q56), cirq.CZ(q66, q67)]\n",
        "\n",
        "\"\"\"\n",
        "Here is the circuit specifically targetting the device\n",
        "\"\"\"\n",
        "circuit = cirq.Circuit(device=cirq.google.Bristlecone)\n",
        "\n",
        "# The gates will be in different moments\n",
        "circuit.append(ops)\n",
        "\n",
        "# Let's see\n",
        "print(circuit)"
      ],
      "execution_count": null,
      "outputs": [
        {
          "output_type": "stream",
          "text": [
            "(5, 5): ───@───────\n",
            "           │\n",
            "(5, 6): ───@───────\n",
            "\n",
            "(6, 6): ───────@───\n",
            "               │\n",
            "(6, 7): ───────@───\n"
          ],
          "name": "stdout"
        }
      ]
    },
    {
      "cell_type": "markdown",
      "metadata": {
        "id": "lyFcloaARXg4"
      },
      "source": [
        "## Exercise: Make a Device\n",
        "\n",
        "Construct a device called GenevaDevice that:\n",
        "* Acts on a square sized lattice\n",
        "* Only allows Hadamard, CNOT, Rz, and measurement gates\n",
        "* It should support the decomposition of Toffoli and CZ gates"
      ]
    },
    {
      "cell_type": "code",
      "metadata": {
        "id": "zDE-19I_a3on"
      },
      "source": [
        "# have a look at \n",
        "# https://cirq.readthedocs.io/en/stable/schedules.html#devices\n",
        "# https://cirq.readthedocs.io/en/stable/generated/cirq.GridQubit.html\n",
        "# https://cirq.readthedocs.io/en/stable/generated/cirq.Duration.html\n",
        "\n",
        "# your code here"
      ],
      "execution_count": null,
      "outputs": []
    },
    {
      "cell_type": "markdown",
      "metadata": {
        "id": "Qx1iaMysIfVj"
      },
      "source": [
        "### Solution"
      ]
    },
    {
      "cell_type": "code",
      "metadata": {
        "id": "JbfCyw7xIerJ"
      },
      "source": [
        "class CirqBootcampDevice(cirq.Device):\n",
        "\n",
        "  def __init__(self):\n",
        "      self.qubits = []\n",
        "      # A grid of qubits with size 3 x 3 ???\n",
        "      for i in range(3):\n",
        "        for j in range(3):\n",
        "          self.qubits.append(cirq.GridQubit(i, j))\n",
        "    \n",
        "\n",
        "  def duration_of(self, operation):\n",
        "      return cirq.Duration(nanos=10)\n",
        "\n",
        "  def decompose_operation(self, op):\n",
        "        # TODO: Fill in the solution....\n",
        "        # Known gate name\n",
        "        if not isinstance(op, cirq.GateOperation):\n",
        "            raise TypeError(\"{!r} is not a gate operation.\".format(op))\n",
        "\n",
        "        if self.is_supported_operation(op):\n",
        "          return op\n",
        "\n",
        "        if isinstance(op.gate, (cirq.ops.CCXPowGate)):\n",
        "          raise TypeError(\"Decompose the Toffoli for this work!\")\n",
        "\n",
        "  def is_supported_operation(self, op):\n",
        "    # check if it is an operation\n",
        "    if not isinstance(op, cirq.GateOperation):\n",
        "        return False\n",
        "\n",
        "    # check types\n",
        "    # Only allows Hadamard, CNOT, Rz, and measurement gates\n",
        "    to_keep = isinstance(op.gate, (\n",
        "            cirq.ops.CNotPowGate,\n",
        "            cirq.ops.ZPowGate,\n",
        "            cirq.ops.HPowGate,\n",
        "            cirq.ops.MeasurementGate))\n",
        "    return to_keep\n",
        "\n",
        "\n",
        "  def validate_operation(self, operation):\n",
        "      # check gate types\n",
        "      if not self.is_supported_operation(operation):\n",
        "          raise ValueError('{!r} is not a supported gate'.format(operation.gate))\n",
        "        \n",
        "      # Check connectivity\n",
        "      if len(operation.qubits) == 2:\n",
        "          p, q = operation.qubits\n",
        "          if not p.is_adjacent(q):\n",
        "            raise ValueError('Non-local interaction: {}'.format(repr(operation)))\n",
        "\n",
        "\n",
        "  def validate_scheduled_operation(self, schedule, scheduled_operation):\n",
        "      self.validate_operation(scheduled_operation.operation)\n",
        "\n",
        "  def validate_circuit(self, circuit):\n",
        "      for moment in circuit:\n",
        "          for operation in moment.operations:\n",
        "              self.validate_operation(operation)\n",
        "\n",
        "  def validate_schedule(self, schedule):\n",
        "      for scheduled_operation in schedule.scheduled_operations:\n",
        "          self.validate_scheduled_operation(schedule, scheduled_operation)"
      ],
      "execution_count": null,
      "outputs": []
    },
    {
      "cell_type": "code",
      "metadata": {
        "id": "oY49c8oPy7IM",
        "colab": {
          "base_uri": "https://localhost:8080/",
          "height": 34
        },
        "outputId": "4a50f59d-17a3-4593-811b-aa889262232f"
      },
      "source": [
        "gd = CirqBootcampDevice()\n",
        "print(gd.qubits)\n",
        "\n",
        "mycircuit = cirq.Circuit(device = gd)\n",
        "\n",
        "# will work\n",
        "mycircuit.append(cirq.H(cirq.GridQubit(0,0)))\n",
        "mycircuit.append(cirq.CNOT(cirq.GridQubit(0,0), cirq.GridQubit(0,1)))\n",
        "mycircuit.append(cirq.T(cirq.GridQubit(0,0)))\n",
        "\n",
        "# will fail\n",
        "# mycircuit.append(cirq.CCX(cirq.GridQubit(0,0), cirq.GridQubit(0,1), cirq.GridQubit(0,2)))"
      ],
      "execution_count": null,
      "outputs": [
        {
          "output_type": "stream",
          "text": [
            "[cirq.GridQubit(0, 0), cirq.GridQubit(0, 1), cirq.GridQubit(0, 2), cirq.GridQubit(1, 0), cirq.GridQubit(1, 1), cirq.GridQubit(1, 2), cirq.GridQubit(2, 0), cirq.GridQubit(2, 1), cirq.GridQubit(2, 2)]\n"
          ],
          "name": "stdout"
        }
      ]
    },
    {
      "cell_type": "markdown",
      "metadata": {
        "id": "tMC-nLE474nH"
      },
      "source": [
        "# Other interesting things in Cirq\n",
        "\n",
        "## Experiments\n",
        "\n",
        "The `cirq.experiments` package can perform and plot the results of some basic experiments for understanding how well a system is performing.\n",
        "\n"
      ]
    },
    {
      "cell_type": "code",
      "metadata": {
        "id": "Ih8YgwX19h2-",
        "colab": {
          "base_uri": "https://localhost:8080/",
          "height": 283
        },
        "outputId": "10c06c26-b9e4-4612-aa5d-e8e56bc40778"
      },
      "source": [
        "result = cirq.experiments.rabi_oscillations(\n",
        "    sampler=cirq.Simulator(),  # In the future, sampler could point at real hardware.\n",
        "    qubit=cirq.LineQubit(0)\n",
        ")\n",
        "result.plot()"
      ],
      "execution_count": null,
      "outputs": [
        {
          "output_type": "display_data",
          "data": {
            "image/png": "[encoded data removed]",
            "text/plain": [
              "<Figure size 432x288 with 1 Axes>"
            ]
          },
          "metadata": {
            "tags": []
          }
        }
      ]
    },
    {
      "cell_type": "markdown",
      "metadata": {
        "id": "38c8tWcX90Zn"
      },
      "source": [
        "##Testing\n",
        "\n",
        "The `cirq.testing` package has useful debugging and testing methods like `cirq.testing.assert_implements_consistent_protocols` and `cirq.testing.assert_allclose_up_to_global_phase`.\n"
      ]
    },
    {
      "cell_type": "code",
      "metadata": {
        "id": "j7FoZGKv90qe"
      },
      "source": [
        "class InconsistentXGate(cirq.SingleQubitGate):\n",
        "\n",
        "    def _decompose_(self, qubits):\n",
        "        yield cirq.H(qubits[0])\n",
        "        yield cirq.Z(qubits[0])\n",
        "        yield cirq.H(qubits[0])\n",
        "\n",
        "    def _unitary_(self):\n",
        "        return np.array([[0, -1j], [1j, 0]])  # Oops! Y instead of X!\n",
        "\n",
        "cirq.testing.assert_decompose_is_consistent_with_unitary(InconsistentXGate())"
      ],
      "execution_count": null,
      "outputs": []
    },
    {
      "cell_type": "markdown",
      "metadata": {
        "id": "iYqy0qwU9sZy"
      },
      "source": [
        "##Export\n",
        "\n",
        "You can export a circuit as QASM."
      ]
    },
    {
      "cell_type": "code",
      "metadata": {
        "id": "qH7xB-vZ-Jsn",
        "colab": {
          "base_uri": "https://localhost:8080/",
          "height": 306
        },
        "outputId": "1d8b453c-43ad-492e-ed21-f92f556e0ce5"
      },
      "source": [
        "a, b, c = cirq.LineQubit.range(3)\n",
        "circuit = cirq.Circuit.from_ops(cirq.H(a), cirq.H(c), cirq.CNOT(a, b), cirq.CCZ(a, b, c))\n",
        "print(circuit.to_qasm())"
      ],
      "execution_count": null,
      "outputs": [
        {
          "output_type": "stream",
          "text": [
            "// Generated from Cirq v0.5.0\n",
            "\n",
            "OPENQASM 2.0;\n",
            "include \"qelib1.inc\";\n",
            "\n",
            "\n",
            "// Qubits: [0, 1, 2]\n",
            "qreg q[3];\n",
            "\n",
            "\n",
            "h q[0];\n",
            "h q[2];\n",
            "cx q[0],q[1];\n",
            "h q[2];\n",
            "ccx q[0],q[1],q[2];\n",
            "h q[2];\n",
            "\n"
          ],
          "name": "stdout"
        }
      ]
    },
    {
      "cell_type": "markdown",
      "metadata": {
        "id": "QlgFtRQs-TfQ"
      },
      "source": [
        "## Quirk\n",
        "\n",
        "You can also turn a circuit into a link to the drag-and-drop web simulation Quirk (though somewhat inconveniently)."
      ]
    },
    {
      "cell_type": "code",
      "metadata": {
        "id": "Ydst5b0S9IGE",
        "colab": {
          "base_uri": "https://localhost:8080/",
          "height": 34
        },
        "outputId": "0d9c8a32-7deb-4703-9488-d9d3f280bf8f"
      },
      "source": [
        "from cirq.contrib.quirk.export_to_quirk import circuit_to_quirk_url\n",
        "print(circuit_to_quirk_url(circuit))"
      ],
      "execution_count": null,
      "outputs": [
        {
          "output_type": "stream",
          "text": [
            "http://algassert.com/quirk#circuit=%7B%22cols%22%3A%5B%5B%22H%22%2C1%2C%22H%22%5D%2C%5B%22%E2%80%A2%22%2C%22X%22%5D%2C%5B%22%E2%80%A2%22%2C%22%E2%80%A2%22%2C%22Z%22%5D%5D%7D\n"
          ],
          "name": "stdout"
        }
      ]
    }
  ]
}