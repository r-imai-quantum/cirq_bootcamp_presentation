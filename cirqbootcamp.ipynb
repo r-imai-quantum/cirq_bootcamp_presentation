{
 "cells": [
  {
   "cell_type": "markdown",
   "metadata": {
    "id": "iNZB-LQMGDOo"
   },
   "source": [
    "# Cirq bootcamp\n",
    "\n",
    "2021.06.26\n",
    "\n",
    "Ryosuke Imai (QunaSys inc.)\n",
    "\n",
    "*This notebook partially based on [cirq tutorial](https://quantumai.google/cirq/tutorials/educators/intro)*"
   ]
  },
  {
   "cell_type": "markdown",
   "metadata": {
    "id": "pojMK8ncIPCd"
   },
   "source": [
    "# 量子コンピュータの基礎"
   ]
  },
  {
   "cell_type": "markdown",
   "metadata": {
    "id": "dY27M2uRJVeI"
   },
   "source": [
    "## 古典コンピュータとは？"
   ]
  },
  {
   "cell_type": "markdown",
   "metadata": {},
   "source": [
    "- **古典**コンピュータ (classical computer) = ふつうの、従来型のコンピュータ ≠ 量子コンピュータ \n",
    "- 2021年現在、日常的に身の回りにあるコンピュータ\n",
    "\n",
    "古典コンピュータの中で起きていることをイメージしてみよう\n",
    "\n",
    "- 電流のオンオフで情報をあらわす\n",
    "- 情報の保持と操作\n",
    "  - 保持 … キャパシタ、フリップフロップ回路、など\n",
    "  - 操作 … トランジスタ（電流を流すスイッチの役割）\n",
    "  \n",
    "オンオフで複雑な情報を表す方法\n",
    "\n",
    "- {オン, オフ} を ${0, 1}$ の2値にマップする\n",
    "- 数 5 (10進法) -> `0101` (2進法)\n",
    "- 文字 \"A\" -> 65 (ASCII, 10進法) -> `0100 0001` (2進法)\n",
    "- 情報を $0, 1$ の列で表す\n",
    "  - 一桁の $0, 1$ を**ビット**という。情報の最小単位。\n",
    "  - 1つのビットは $0, 1$ のどちらかの状態を必ず取る\n",
    "\n",
    "\n",
    "実際にはこれらの振る舞いは抽象化されて、プログラミング言語で制御する。\n",
    "たとえば、\n",
    "\n",
    "```python\n",
    "a = 1 \n",
    "# メモリ上に領域`a`を確保して、そこに`1`を入れておく   \n",
    "```"
   ]
  },
  {
   "cell_type": "markdown",
   "metadata": {
    "id": "dY27M2uRJVeI"
   },
   "source": [
    "## 量子コンピュータとは？"
   ]
  },
  {
   "cell_type": "markdown",
   "metadata": {
    "id": "azuBoRiXKEDG"
   },
   "source": [
    "**量子コンピュータ = 量子論の性質を活用して計算を行うコンピュータ**\n",
    "\n",
    "　量子の性質 …  重ね合わせ、量子もつれ　**非日常な性質**"
   ]
  },
  {
   "cell_type": "markdown",
   "metadata": {
    "id": "TnXmAt5PKxhQ"
   },
   "source": [
    "- 量子の性質"
   ]
  },
  {
   "cell_type": "code",
   "execution_count": null,
   "metadata": {
    "id": "QWG2AFJoJ_Jx"
   },
   "outputs": [],
   "source": []
  }
 ],
 "metadata": {
  "colab": {
   "name": "Untitled4.ipynb",
   "provenance": [],
   "toc_visible": true
  },
  "kernelspec": {
   "display_name": "Python 3",
   "language": "python",
   "name": "python3"
  },
  "language_info": {
   "codemirror_mode": {
    "name": "ipython",
    "version": 3
   },
   "file_extension": ".py",
   "mimetype": "text/x-python",
   "name": "python",
   "nbconvert_exporter": "python",
   "pygments_lexer": "ipython3",
   "version": "3.7.8"
  }
 },
 "nbformat": 4,
 "nbformat_minor": 4
}
