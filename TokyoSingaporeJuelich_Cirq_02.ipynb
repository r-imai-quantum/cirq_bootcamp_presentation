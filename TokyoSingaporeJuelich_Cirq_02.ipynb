{
  "nbformat": 4,
  "nbformat_minor": 0,
  "metadata": {
    "colab": {
      "name": "TokyoSingaporeJuelich_Cirq_02",
      "provenance": [],
      "collapsed_sections": [
        "ZZhs4w58r1OY"
      ]
    },
    "kernelspec": {
      "display_name": "Python [default]",
      "language": "python",
      "name": "python3"
    }
  },
  "cells": [
    {
      "cell_type": "markdown",
      "metadata": {
        "id": "sROVxsqYNF6u"
      },
      "source": [
        "<img src=\"https://raw.githubusercontent.com/quantumlib/Cirq/master/docs/_static/Cirq_logo_color.png\"  height=\"80px\"/> [Thank you for the feedback!](https://forms.gle/oTG7xaT8zyq5svN88)\n",
        "\n",
        "[Cirq](https://github.com/quantumlib/cirq) is a framework for writing quantum algorithms for noisy intermediate scale quantum (NISQ) devices. \n",
        "\n",
        "Roughly speaking, NISQ devices are those with O(100) qubits that can enact O(1000) gates.  Because the resources for NISQ devices are so constrained, we believe that a framework for writing programs on these devices needs to be aware of all of the architectural properties of the device on which the algorithm is written. This is in contrast to other frameworks where there is a clean separation between the abstract model being used and the details of the device.  \n",
        "\n",
        "**In this notebook we'll run through some Cirq implementations of some of the standard algorithms that one encounters in an introductory quantum computing course. The discussion here is expanded from examples found in the [Cirq examples](https://github.com/quantumlib/Cirq/tree/master/examples) directory.**\n",
        "\n",
        "**Instructions**: Go to File --> Save Copy in Drive to get your own copy to play with.\n",
        "\n",
        "**Note:** Be aware that Cirq is still alpha software, meaning **we are still making breaking changes all the time**. If you don't want your project to suddenly go from working to not working when we release a new version, you should depend on a *specific version* of Cirq and periodically bump that version to the latest one. For the purposes of this tutorial, we will use version of `0.6` (i.e. `cirq==0.6` in pip's version notation)."
      ]
    },
    {
      "cell_type": "markdown",
      "metadata": {
        "colab_type": "toc",
        "id": "tojM8JLT1_0S"
      },
      "source": [
        ">[Quantum Teleportation](#scrollTo=laCvAwThaADq)\n",
        "\n",
        ">[The Deutsch-Jozsa Algorithm](#scrollTo=S8S_oxilOP03)\n",
        "\n",
        ">>[The functions as oracles](#scrollTo=x7fHlB5gOxQN)\n",
        "\n",
        ">>[Deutsch's algorithm](#scrollTo=1DIBPXcXJ7Dd)\n",
        "\n",
        ">>[Two Bit Deutsch-Jozsa Algorithm](#scrollTo=IRrrWLbYKNIW)\n",
        "\n",
        ">>[Exercise](#scrollTo=wKbP-31MKVtJ)\n",
        "\n",
        ">>[Solution](#scrollTo=vInc4BMqKcbM)\n",
        "\n",
        ">[Quantum Fourier Transform](#scrollTo=1fU1R-qjr1Oq)\n",
        "\n",
        ">>[Overview](#scrollTo=GLwcGmq1r1On)\n",
        "\n",
        ">>[Quantum Fourier Transform as a Circuit](#scrollTo=D7iWLL1Vr1Og)\n",
        "\n",
        ">>>[Solution](#scrollTo=ZZhs4w58r1OY)\n",
        "\n",
        ">>[Quantum Fourier Transform as a Gate](#scrollTo=hdxvyG4gr1OH)\n",
        "\n",
        ">>>[Solution](#scrollTo=6EtrKjkpr1N9)\n",
        "\n",
        ">>>[Test the Circuit](#scrollTo=LYHZdrL3r1Nz)\n",
        "\n",
        ">>[Inverse QFT](#scrollTo=kc-0EeIar1Nn)\n",
        "\n",
        ">>>[Solution](#scrollTo=ZUthaiCcr1Na)\n",
        "\n",
        ">>[Is the QFT_inv gate the inverse of the QFT Circuit?](#scrollTo=KxgoU3L6r1NO)\n",
        "\n",
        ">>>[Solution](#scrollTo=OPp9BNvSr1NJ)\n",
        "\n",
        ">[Phase Estimation](#scrollTo=r-CjbPwkRI_I)\n",
        "\n",
        ">>[Exercise: As a function](#scrollTo=Dn9j1RCrpCj_)\n",
        "\n",
        ">>>[Solution](#scrollTo=5cf9gaXCpmq4)\n",
        "\n",
        ">>[Phase Estimation Without an Eigenstate](#scrollTo=cr-NVLG2loo7)\n",
        "\n",
        ">>>[Solution](#scrollTo=pnddp79QmZAl)\n",
        "\n",
        ">[Grover's Algorithm](#scrollTo=ksA-fvrZaT5g)\n",
        "\n",
        ">>[Grover on the custom Device](#scrollTo=2vDffuikV9Fb)\n",
        "\n",
        ">[Left to the reader as an exercise](#scrollTo=c8Zf-MRDPynh)\n",
        "\n",
        ">>[Quantum Fourier Transform with Unreversed Output](#scrollTo=zQzAYK-VNVDu)\n",
        "\n",
        ">>[Phase Estimation with Arbitrary $U$](#scrollTo=EG6cDFWJk-ZS)\n",
        "\n",
        ">>[QFT and Phase Estimation with Adjacency Constraints](#scrollTo=9WKZoaav0dtt)\n",
        "\n"
      ]
    },
    {
      "cell_type": "code",
      "metadata": {
        "id": "pPMSHs4HQfSR",
        "colab": {
          "base_uri": "https://localhost:8080/",
          "height": 104
        },
        "outputId": "bb36b2a1-1613-4760-d160-7b8ec00e4047"
      },
      "source": [
        "# install cirq\n",
        "!pip install cirq==0.6 --quiet"
      ],
      "execution_count": null,
      "outputs": [
        {
          "output_type": "stream",
          "text": [
            "\u001b[K     |████████████████████████████████| 1.2MB 2.8MB/s \n",
            "\u001b[K     |████████████████████████████████| 1.8MB 47.8MB/s \n",
            "\u001b[K     |████████████████████████████████| 1.2MB 34.5MB/s \n",
            "\u001b[?25h  Building wheel for networkx (setup.py) ... \u001b[?25l\u001b[?25hdone\n",
            "\u001b[31mERROR: albumentations 0.1.12 has requirement imgaug<0.2.7,>=0.2.5, but you'll have imgaug 0.2.9 which is incompatible.\u001b[0m\n"
          ],
          "name": "stdout"
        }
      ]
    },
    {
      "cell_type": "markdown",
      "metadata": {
        "id": "GPjUqrK8DJTq"
      },
      "source": [
        "To verify that Cirq is installed in your environment, try to `import cirq` and print out a diagram of the Bristlecone device."
      ]
    },
    {
      "cell_type": "code",
      "metadata": {
        "id": "FTrmLyq4C2gf",
        "colab": {
          "base_uri": "https://localhost:8080/",
          "height": 34
        },
        "outputId": "06f15d6f-7f15-469f-fb4a-1cacc0728255"
      },
      "source": [
        "import cirq\n",
        "import numpy as np\n",
        "import random\n",
        "\n",
        "# How many qubits are in the Bristlecone device?\n",
        "print(len(cirq.google.Bristlecone.qubits))"
      ],
      "execution_count": null,
      "outputs": [
        {
          "output_type": "stream",
          "text": [
            "72\n"
          ],
          "name": "stdout"
        }
      ]
    },
    {
      "cell_type": "markdown",
      "metadata": {
        "id": "laCvAwThaADq"
      },
      "source": [
        "# Quantum Teleportation\n",
        "\n",
        "Quantum Teleportation is a process by which a quantum state can be transmitted\n",
        "by sending only two classical bits of information. This is accomplished by\n",
        "pre-sharing an entangled state between the sender (Alice) and the receiver\n",
        "(Bob). This entangled state allows the receiver (Bob) of the two classical\n",
        "bits of information to possess a qubit with the same state as the one held by\n",
        "the sender (Alice).\n",
        "\n",
        "In the following example output, qubit 0 (the Message) is set to a random state\n",
        "by applying X and Y gates. By sending two classical bits of information after\n",
        "qubit 0 (the Message) and qubit 1 (Alice's entangled qubit) are measured, the\n",
        "final state of qubit 2 (Bob's entangled qubit) will be identical to the\n",
        "original random state of qubit 0 (the Message). This is only possible given\n",
        "that an entangled state is pre-shared between Alice and Bob.\n",
        "\n",
        "=== REFERENCES ===\n",
        "\n",
        "https://en.wikipedia.org/wiki/Quantum_teleportation\n",
        "https://journals.aps.org/prl/abstract/10.1103/PhysRevLett.70.1895"
      ]
    },
    {
      "cell_type": "code",
      "metadata": {
        "id": "Ex8ka640a5xN",
        "colab": {
          "base_uri": "https://localhost:8080/",
          "height": 243
        },
        "outputId": "3d267e4f-8888-4679-f586-6ed86adcde40"
      },
      "source": [
        "def make_quantum_teleportation_circuit(gate):\n",
        "    circuit = cirq.Circuit()\n",
        "    msg, alice, bob = cirq.LineQubit.range(3)\n",
        "\n",
        "    # Creates Bell state to be shared between Alice and Bob\n",
        "    circuit.append([cirq.H(alice), cirq.CNOT(alice, bob)])\n",
        "    # Creates a random state for the Message\n",
        "    circuit.append(gate(msg))\n",
        "    \n",
        "    # Bell measurement of the Message and Alice's entangled qubit\n",
        "    circuit.append([cirq.CNOT(msg, alice), cirq.H(msg)])\n",
        "    circuit.append(cirq.measure(msg, alice))\n",
        "    \n",
        "    # Uses the two classical bits from the Bell measurement to recover the\n",
        "    # original quantum Message on Bob's entangled qubit\n",
        "    circuit.append([cirq.CNOT(alice, bob), cirq.CZ(msg, bob)])\n",
        "\n",
        "    return circuit\n",
        "\n",
        "\n",
        "gate = cirq.SingleQubitMatrixGate(cirq.testing.random_unitary(2))\n",
        "circuit = make_quantum_teleportation_circuit(gate)\n",
        "\n",
        "print(\"Circuit:\")\n",
        "print(circuit)\n",
        "\n",
        "sim = cirq.Simulator()\n",
        "\n",
        "# Create qubits.\n",
        "q0 = cirq.LineQubit(4)\n",
        "\n",
        "# Produces the message using random unitary\n",
        "message = sim.simulate(cirq.Circuit([gate(q0)]))\n",
        "\n",
        "print(\"Bloch Vector of Message After Random Unitary:\")\n",
        "# Prints the Bloch vector of the Message after the random gate\n",
        "b0X, b0Y, b0Z = cirq.bloch_vector_from_state_vector(\n",
        "    message.final_state, 0)\n",
        "print(\"x: \", np.around(b0X, 4),\n",
        "      \"y: \", np.around(b0Y, 4),\n",
        "      \"z: \", np.around(b0Z, 4))\n",
        "\n",
        "# Records the final state of the simulation\n",
        "final_results = sim.simulate(circuit)\n",
        "\n",
        "print(\"Bloch Sphere of Qubit 2 at Final State:\")\n",
        "# Prints the Bloch Sphere of Bob's entangled qubit at the final state\n",
        "b2X, b2Y, b2Z = cirq.bloch_vector_from_state_vector(\n",
        "    final_results.final_state, 2)\n",
        "\n",
        "print(\"x: \", np.around(b2X, 4),\n",
        "      \"y: \", np.around(b2Y, 4),\n",
        "      \"z: \", np.around(b2Z, 4))"
      ],
      "execution_count": null,
      "outputs": [
        {
          "output_type": "stream",
          "text": [
            "Circuit:\n",
            "      ┌                           ┐\n",
            "0: ───│-0.524-0.42j  -0.221+0.707j│───────@───H───M───────@───\n",
            "      │-0.361-0.647j  0.427-0.518j│       │       │       │\n",
            "      └                           ┘       │       │       │\n",
            "                                          │       │       │\n",
            "1: ───H───────────────────────────────@───X───────M───@───┼───\n",
            "                                      │               │   │\n",
            "2: ───────────────────────────────────X───────────────X───@───\n",
            "Bloch Vector of Message After Random Unitary:\n",
            "x:  0.9218 y:  0.3748 z:  -0.0988\n",
            "Bloch Sphere of Qubit 2 at Final State:\n",
            "x:  0.9218 y:  0.3748 z:  -0.0988\n"
          ],
          "name": "stdout"
        }
      ]
    },
    {
      "cell_type": "markdown",
      "metadata": {
        "id": "S8S_oxilOP03"
      },
      "source": [
        "# The Deutsch-Jozsa Algorithm\n",
        "\n",
        "The very first indication that quantum computers could be more powerful than classical computers was provided by David Deutsch in his 1985 paper:\n",
        "> David Deutsch,  \"Quantum Theory, the Church-Turing Principle and the Universal Quantum Computer\" Proceedings of the Royal Society of London A. 400: 97 [PDF](https://people.eecs.berkeley.edu/~christos/classics/Deutsch_quantum_theory.pdf)\n",
        "\n",
        "This algorithm was extended by Deutsch and Richard Jozsa to a more convincing algorithmic separation and what is now called the Deutsch-Jozsa algorithm.  In this section we will show how to write circuits for the Deutsch algorithm.\n",
        "\n",
        "Then as an exercise in using Cirq for algorithms for a small version of the Deutsch-Jozsa algorithm. Let's begin with the Deutsch algorithm. \n"
      ]
    },
    {
      "cell_type": "markdown",
      "metadata": {
        "id": "p9aLNZp-JgSg"
      },
      "source": [
        "In Deutsch's algorithm you are given access to a box which computes a one bit boolean function.  That is it is a box which takes in a bit and outputs a bit.  If we want to be a mathematician or theoretical computer scientist we write the function $f$ as $f: \\{0, 1\\} \\rightarrow \\{0, 1\\}$.  There are exactly four such boolean functions which we can write out in a table\n",
        "\n",
        "| $x$ || $f_0$ | $f_1$ | $f_x$ | $f_{\\bar{x}}$ |\n",
        "| --- ||  --- | --- | --- | --- |\n",
        "| 0 || 0 | 1 | 0 | 1\n",
        "| 1 || 0 | 1 | 1 | 0\n",
        "\n",
        "* The first two functions ($f_0$ and $f_1$) are *constant* . That is they always output a constant value. \n",
        "* The other two functions $f_x$ and $f_\\bar{x}$ are *balanced*.  Over their inputs $0$ and $1$, they have an equal number of $0$s and $1$s in their truth table.  \n",
        "\n",
        "We can now state Deutsch's problem:\n",
        "\n",
        "> Given access to a one bit input one bit output boolean function, determine, by querying the function whether the function is *balanced* or *constant*.\n",
        "\n",
        "It shouldn't take you much to convince yourself that in order to solve this problem classically you need to call the function on both possible input values.  The easy way to see this is just to consider what happens if you query the function on one particular input and notice that for either input learning the value of the function does not separate the constant from balanced functions.\n",
        "\n",
        "**Classically one must query the binary function twice to distinguish the constant function from the balanced function.**\n",
        "\n",
        "\n"
      ]
    },
    {
      "cell_type": "markdown",
      "metadata": {
        "id": "x7fHlB5gOxQN"
      },
      "source": [
        "## The functions as oracles\n",
        "Now lets turn to the quantum approach to this problem.  **There is one bit of book keeping we need to take care of: f(x)**.  Above we have described a classical function on bits that is not reversible.  That is, knowing the values of the output does not allow us to determine uniquely the value of the input.  In order to run this on a quantum computer, however we need to make this computation reversible.  A trick for taking a classical non-reversible function and making it quantum-compatible is to compute the value in an extra register. \n",
        "\n",
        "**Note**: Such extra registers are often called ancilla.\n",
        "\n",
        "Suppose we have an $n$ bit input $x$ and we are computing a (potentially non-reverisble) boolean function $f(x)$.  Then we can implement this via a Unitary $U_f$ that acts on $n + 1$ qubits\n",
        "\n",
        "$$U_f |x\\rangle |y\\rangle = |x\\rangle | y \\oplus f(x)\\rangle$$\n",
        "\n",
        "Here $\\oplus$ is addition modulo $2$ (XOR) and we have identified how $U_f$ acts by its action on all computational basis states $|x\\rangle$ ($n$ input qubits) and ($1$ output qubit)$|y\\rangle$. To see that this is reversible one can note that applying the transformation twice returns the state to its original form.\n",
        "\n",
        "**Example**: Let's see how to implement these functions in Cirq, in the case that $n=1$, thus for two qubits.\n",
        "\n",
        "$f_0$ (always zero function) enacts the transform\n",
        "$$\n",
        "\\begin{eqnarray}\n",
        "|00\\rangle &\\rightarrow&  |00\\rangle \\\\\n",
        "|01\\rangle &\\rightarrow&  |01\\rangle \\\\\n",
        "|10\\rangle &\\rightarrow&  |10\\rangle \\\\\n",
        "|11\\rangle &\\rightarrow&  |11\\rangle \\\\\n",
        "\\end{eqnarray}\n",
        "$$\n",
        "Well this is just the identity transform on the second qubit, i.e. an empty circuit.\n",
        "\n",
        "$f_1$ (always one function) enacts the transform\n",
        "$$\n",
        "\\begin{eqnarray}\n",
        "|00\\rangle &\\rightarrow&  |01\\rangle \\\\\n",
        "|01\\rangle &\\rightarrow&  |00\\rangle \\\\\n",
        "|10\\rangle &\\rightarrow&  |11\\rangle \\\\\n",
        "|11\\rangle &\\rightarrow&  |10\\rangle \\\\\n",
        "\\end{eqnarray}\n",
        "$$\n",
        "This is the `cirq.X` bit flip gate on the second qubit.\n",
        "\n",
        "$f_x$ (identity function $f_x = x$) enacts the transform\n",
        "$$\n",
        "\\begin{eqnarray}\n",
        "|00\\rangle &\\rightarrow&  |00\\rangle \\\\\n",
        "|01\\rangle &\\rightarrow&  |01\\rangle \\\\\n",
        "|10\\rangle &\\rightarrow&  |11\\rangle \\\\\n",
        "|11\\rangle &\\rightarrow&  |10\\rangle \\\\\n",
        "\\end{eqnarray}\n",
        "$$\n",
        "This is nothing more than a `cirq.CNOT` from the first bit to the second bit.\n",
        "\n",
        "Finally $f_\\bar{x}$ enacts the transform\n",
        "$$\n",
        "\\begin{eqnarray}\n",
        "|00\\rangle &\\rightarrow&  |01\\rangle \\\\\n",
        "|01\\rangle &\\rightarrow&  |00\\rangle \\\\\n",
        "|10\\rangle &\\rightarrow&  |10\\rangle \\\\\n",
        "|11\\rangle &\\rightarrow&  |11\\rangle \\\\\n",
        "\\end{eqnarray}\n",
        "$$\n",
        "which is a `cirq.CNOT` from the first bit to the second bit followed by a `cirq.X` on the second bit.\n",
        "\n",
        "We can encapulate these functions into a dictionary from a oracle name to the quantum operations (gates) in the circuit needed to enact this function on the ancilla qubit:"
      ]
    },
    {
      "cell_type": "code",
      "metadata": {
        "id": "uHfT5O-RJsvR"
      },
      "source": [
        "# The qubits\n",
        "q0, q1 = cirq.LineQubit.range(2)\n",
        "\n",
        "# The functions as oracles\n",
        "oracles = {\n",
        "    '0': [],\n",
        "    '1': [cirq.X(q1)],\n",
        "    'x': [cirq.CNOT(q0, q1)],\n",
        "    'notx': [cirq.CNOT(q0, q1), cirq.X(q1)]\n",
        "}    "
      ],
      "execution_count": null,
      "outputs": []
    },
    {
      "cell_type": "markdown",
      "metadata": {
        "id": "1DIBPXcXJ7Dd"
      },
      "source": [
        "## Deutsch's algorithm\n",
        "\n",
        "Suppose we are given access to the reversible oracle functions we have defined before.  By a similar argument for our irreversible classical functions you can show that you cannot distinguish the balanced from the constant functions by using this oracle only once.  But now we can ask the question: what if we are allowed to query this box in superposition, i.e. what if we can use the power of quantum computing?\n",
        "\n",
        "Deutsch was able to show that you could solve this problem now, with quantum computers, using only a single query of the box.  To see how this works we need two simple insights.\n",
        "\n",
        "Suppose that we prepare the second qubit in the superposition state $|-\\rangle=\\frac{1}{\\sqrt{2}}(|0\\rangle-|1\\rangle)$ and apply  the oracle.  Then we can check that\n",
        "$$ \n",
        "U_f |x\\rangle |-\\rangle = U_f|x\\rangle \\frac{1}{\\sqrt{2}}(|0\\rangle -|1\\rangle ) = |x\\rangle \\frac{1}{\\sqrt{2}}(|f(x)\\rangle -|f(x) \\oplus 1\\rangle ) =  (-1)^{f(x)} |x\\rangle |-\\rangle\n",
        "$$  \n",
        "**This is the so called \"phase kickback trick\".  By applying $U_f$ onto a target which is in superposition, the value of the function ends up showing up in the global phase.**  \n",
        "\n",
        "How can we leverage this to distinguish between the constant and balanced functions?  Note that for the constant functions the phase that is applied is the same for all inputs $|x\\rangle$, whereas for the balanced functions the phase is different for each value of $x$.   Another way to say that is that if we use the phase kickback trick then for each of the oracles we apply the following transform on the first qubit.\n",
        "$$\n",
        "\\begin{eqnarray}\n",
        "f_0 \\rightarrow I, &&\n",
        "f_1 \\rightarrow -I, &&\n",
        "f_x \\rightarrow Z, &&\n",
        "f_\\bar{x} \\rightarrow -Z &&\n",
        "\\end{eqnarray}\n",
        "$$\n",
        "Now we only need, on the first qubit, to distinguish between the identity gate and the $Z$ gate.  But we can do this by recalling the identity\n",
        "$$ H Z H = X$$\n",
        "where $H$ is the Hamadard gate\n",
        "$$H = {1 \\over \\sqrt{2}} \\left[ \\begin{array}[cc]  & 1 & 1  \\\\ 1 & -1 \\end{array}\\right]$$\n",
        "\n",
        "**This means that we can turn a phase flip into a bit flip by applying Hadamards before and after the phase flip.**\n",
        "\n",
        "\n",
        "If we look at the constant and balanced functions we see that this means that the constant functions will be proportional to $I$ and the balanced will be proportional to $X$.  If we feed in $|0\\rangle$ to this register, then in the first cases we will only see $|0\\rangle$ and in the second case we will see $|1\\rangle$.  In other words we will be able to distinguish constant from balanced using a single query of the oracle.\n",
        "\n",
        "\n",
        "Let's code this up\n"
      ]
    },
    {
      "cell_type": "code",
      "metadata": {
        "id": "ZaWbEjsRJ8Jq",
        "colab": {
          "base_uri": "https://localhost:8080/",
          "height": 364
        },
        "outputId": "c5ac4630-9209-4911-e37c-8a92683d18a3"
      },
      "source": [
        "# q0, q1 = cirq.LineQubit.range(2)\n",
        "# oracles = {\n",
        "#     '0': [],\n",
        "#     '1': [cirq.X(q1)],\n",
        "#     'x': [cirq.CNOT(q0, q1)],\n",
        "#     'notx': [cirq.CNOT(q0, q1), cirq.X(q1)]\n",
        "# }    \n",
        "\n",
        "def deutsch_algorithm(oracle):\n",
        "    yield cirq.X(q1)\n",
        "    yield cirq.H(q0), cirq.H(q1)\n",
        "    yield oracle\n",
        "    yield cirq.H(q0)\n",
        "    yield cirq.measure(q0)\n",
        "\n",
        "for key, oracle in oracles.items():\n",
        "    print('Circuit for {}...'.format(key))\n",
        "    print('{}\\n'.format(cirq.Circuit(deutsch_algorithm(oracle))))"
      ],
      "execution_count": null,
      "outputs": [
        {
          "output_type": "stream",
          "text": [
            "Circuit for 0...\n",
            "0: ───H───H───M───\n",
            "\n",
            "1: ───X───H───────\n",
            "\n",
            "Circuit for 1...\n",
            "0: ───H───H───M───\n",
            "\n",
            "1: ───X───H───X───\n",
            "\n",
            "Circuit for x...\n",
            "0: ───H───────@───H───M───\n",
            "              │\n",
            "1: ───X───H───X───────────\n",
            "\n",
            "Circuit for notx...\n",
            "0: ───H───────@───H───M───\n",
            "              │\n",
            "1: ───X───H───X───X───────\n",
            "\n"
          ],
          "name": "stdout"
        }
      ]
    },
    {
      "cell_type": "markdown",
      "metadata": {
        "id": "uQCm0oxCKBlo"
      },
      "source": [
        "Lets run these circuits a bunch of times to see that the measurement result ends up correctly distinguishing constant from balanced."
      ]
    },
    {
      "cell_type": "code",
      "metadata": {
        "id": "on4_LyrtKJdL",
        "colab": {
          "base_uri": "https://localhost:8080/",
          "height": 86
        },
        "outputId": "41dbc38c-3dd6-44b0-dc14-988636cf4124"
      },
      "source": [
        "simulator = cirq.Simulator()\n",
        "\n",
        "for key, oracle in oracles.items():\n",
        "    result = simulator.run(cirq.Circuit(deutsch_algorithm(oracle)), \n",
        "                          repetitions=10)\n",
        "    print('oracle: {:<4} results: {}'.format(key, result))"
      ],
      "execution_count": null,
      "outputs": [
        {
          "output_type": "stream",
          "text": [
            "oracle: 0    results: 0=0000000000\n",
            "oracle: 1    results: 0=0000000000\n",
            "oracle: x    results: 0=1111111111\n",
            "oracle: notx results: 0=1111111111\n"
          ],
          "name": "stdout"
        }
      ]
    },
    {
      "cell_type": "markdown",
      "metadata": {
        "id": "IRrrWLbYKNIW"
      },
      "source": [
        "##Two Bit Deutsch-Jozsa Algorithm\n",
        "\n",
        "All Boolean functions for one input bit are either constant or balanced.\n",
        "\n",
        "For boolean functions from two input bits not all functions are constant or balanced.\n",
        "* There are two constant functions, $f(x_0, x_1) = 0$ and $f(x_0, x_1)=1$, \n",
        "* There are ${4 \\choose 2} = 6$ balanced functions. \n",
        "\n",
        "The following code gives you the operations for these functions where we take two input qubits and compute the function in the third qubit"
      ]
    },
    {
      "cell_type": "code",
      "metadata": {
        "id": "J3CSnKInKQ8h",
        "colab": {
          "base_uri": "https://localhost:8080/",
          "height": 1000
        },
        "outputId": "4b38168b-d091-407f-9c6e-b60d39341b10"
      },
      "source": [
        "# Three qubits for two bit functions\n",
        "q0, q1, q2 = cirq.LineQubit.range(3)\n",
        "\n",
        "# These are the functions\n",
        "# Output is always 0 and Outputs is always 1\n",
        "constant = ([], [cirq.X(q2)])\n",
        "# Four functions\n",
        "balanced = ([cirq.CNOT(q0, q2)], [cirq.CNOT(q1, q2)], [cirq.CNOT(q0, q2), cirq.CNOT(q1, q2)],\n",
        "            [cirq.CNOT(q0, q2), cirq.X(q2)], [ cirq.CNOT(q1, q2), cirq.X(q2)], [cirq.CNOT(q0, q2), cirq.CNOT(q1, q2), cirq.X(q2)])\n",
        "\n",
        "for i, ops in enumerate(constant):\n",
        "    print('\\nConstant function {}'.format(i))\n",
        "    print(cirq.Circuit(ops).to_text_diagram(qubit_order=[q0, q1, q2]))\n",
        "    print()\n",
        "\n",
        "for i, ops in enumerate(balanced):\n",
        "    print('\\nBalanced function {}'.format(i))\n",
        "    print(cirq.Circuit(ops).to_text_diagram(qubit_order=[q0, q1, q2]))"
      ],
      "execution_count": null,
      "outputs": [
        {
          "output_type": "stream",
          "text": [
            "\n",
            "Constant function 0\n",
            "0: ───\n",
            "\n",
            "1: ───\n",
            "\n",
            "2: ───\n",
            "\n",
            "\n",
            "Constant function 1\n",
            "0: ───────\n",
            "\n",
            "1: ───────\n",
            "\n",
            "2: ───X───\n",
            "\n",
            "\n",
            "Balanced function 0\n",
            "0: ───@───\n",
            "      │\n",
            "1: ───┼───\n",
            "      │\n",
            "2: ───X───\n",
            "\n",
            "Balanced function 1\n",
            "0: ───────\n",
            "\n",
            "1: ───@───\n",
            "      │\n",
            "2: ───X───\n",
            "\n",
            "Balanced function 2\n",
            "0: ───@───────\n",
            "      │\n",
            "1: ───┼───@───\n",
            "      │   │\n",
            "2: ───X───X───\n",
            "\n",
            "Balanced function 3\n",
            "0: ───@───────\n",
            "      │\n",
            "1: ───┼───────\n",
            "      │\n",
            "2: ───X───X───\n",
            "\n",
            "Balanced function 4\n",
            "0: ───────────\n",
            "\n",
            "1: ───@───────\n",
            "      │\n",
            "2: ───X───X───\n",
            "\n",
            "Balanced function 5\n",
            "0: ───@───────────\n",
            "      │\n",
            "1: ───┼───@───────\n",
            "      │   │\n",
            "2: ───X───X───X───\n"
          ],
          "name": "stdout"
        }
      ]
    },
    {
      "cell_type": "markdown",
      "metadata": {
        "id": "wKbP-31MKVtJ"
      },
      "source": [
        "##Exercise\n",
        "\n",
        "An extension of Deutsch's orginal algorithm is the Deutsch-Jozsa algorithm, which can distinguish constant from balanced functions like these using a single query to the oracle.  Write a quantum circuit that can distinguish these "
      ]
    },
    {
      "cell_type": "code",
      "metadata": {
        "id": "lWLGzHoHKXyh",
        "colab": {
          "base_uri": "https://localhost:8080/",
          "height": 191
        },
        "outputId": "db33c002-92f0-4443-d33c-ed964f74afbb"
      },
      "source": [
        "simulator = cirq.Simulator()\n",
        "def your_circuit(oracle):\n",
        "    \"\"\"\n",
        "      your code here\n",
        "    \"\"\"\n",
        "    \n",
        "    yield oracle\n",
        "    \n",
        "    \"\"\"\n",
        "      your code here\n",
        "    \"\"\"\n",
        "    \n",
        "    yield cirq.measure(q0, q1, q2)\n",
        "\n",
        "print('Your result on constant functions')\n",
        "for oracle in constant:\n",
        "    result = simulator.run(cirq.Circuit(your_circuit(oracle)), repetitions=10)\n",
        "    print(result)\n",
        "    \n",
        "print('Your result on balanced functions')\n",
        "for oracle in balanced:\n",
        "    result = simulator.run(cirq.Circuit(your_circuit(oracle)), repetitions=10)\n",
        "    print(result)"
      ],
      "execution_count": null,
      "outputs": [
        {
          "output_type": "stream",
          "text": [
            "Your result on constant functions\n",
            "0,1,2=0000000000, 0000000000, 0000000000\n",
            "0,1,2=0000000000, 0000000000, 1111111111\n",
            "Your result on balanced functions\n",
            "0,1,2=0000000000, 0000000000, 0000000000\n",
            "0,1,2=0000000000, 0000000000, 0000000000\n",
            "0,1,2=0000000000, 0000000000, 0000000000\n",
            "0,1,2=0000000000, 0000000000, 1111111111\n",
            "0,1,2=0000000000, 0000000000, 1111111111\n",
            "0,1,2=0000000000, 0000000000, 1111111111\n"
          ],
          "name": "stdout"
        }
      ]
    },
    {
      "cell_type": "markdown",
      "metadata": {
        "id": "vInc4BMqKcbM"
      },
      "source": [
        "##Solution"
      ]
    },
    {
      "cell_type": "code",
      "metadata": {
        "id": "jNxmXXmrKdOK",
        "colab": {
          "base_uri": "https://localhost:8080/",
          "height": 330
        },
        "outputId": "9ec00d27-ce11-4aff-bc42-ba07c08ccf5d"
      },
      "source": [
        "# The generator for the circuit\n",
        "def your_circuit(oracle):\n",
        "    # phase kickback trick\n",
        "    # Initialise in |->\n",
        "    yield cirq.X(q2), cirq.H(q2)\n",
        "    \n",
        "    # equal superposition over input bits\n",
        "    yield cirq.H(q0), cirq.H(q1)\n",
        "    \n",
        "    # query the function\n",
        "    yield oracle\n",
        "    \n",
        "    # interference to get result, put last qubit into |1>\n",
        "    yield cirq.H(q0), cirq.H(q1), cirq.H(q2)\n",
        "    \n",
        "    # \n",
        "    # Do postprocessing of the measurement results using quantum gates\n",
        "    # \n",
        "    # A final OR gate to put result in final qubit\n",
        "    # CCX is Toffoli gate which computes on the last bit\n",
        "    # XOR(q2, AND (q0, q1)) which is equivalent to NAND(q0, q1)\n",
        "    # If one negates the inputs to Toffoli, the results are\n",
        "    #   If constant q2 is 0\n",
        "    #   If balanced q2 is 1\n",
        "    yield cirq.X(q0), cirq.X(q1), cirq.CCX(q0, q1, q2)\n",
        "    \n",
        "    yield cirq.measure(q0, q1, q2)\n",
        "\n",
        "\n",
        "# Simulator\n",
        "repetitions = 10\n",
        "simulator = cirq.Simulator()\n",
        "\n",
        "\n",
        "print('Your result on constant functions')\n",
        "for oracle in constant:\n",
        "    result = simulator.run(cirq.Circuit(your_circuit(oracle)), repetitions=repetitions)\n",
        "    print(result)\n",
        "    print(result.histogram(key=\"0,1,2\"))\n",
        "    \n",
        "print('Your result on balanced functions')\n",
        "for oracle in balanced:\n",
        "    result = simulator.run(cirq.Circuit(your_circuit(oracle)), repetitions=repetitions)\n",
        "    # Measurements are 0,1,2 -> key is \"0,1,2\"\n",
        "    print(result)\n",
        "    print(result.histogram(key=\"0,1,2\"))"
      ],
      "execution_count": null,
      "outputs": [
        {
          "output_type": "stream",
          "text": [
            "Your result on constant functions\n",
            "0,1,2=1111111111, 1111111111, 0000000000\n",
            "Counter({6: 10})\n",
            "0,1,2=1111111111, 1111111111, 0000000000\n",
            "Counter({6: 10})\n",
            "Your result on balanced functions\n",
            "0,1,2=0000000000, 1111111111, 1111111111\n",
            "Counter({3: 10})\n",
            "0,1,2=1111111111, 0000000000, 1111111111\n",
            "Counter({5: 10})\n",
            "0,1,2=0000000000, 0000000000, 1111111111\n",
            "Counter({1: 10})\n",
            "0,1,2=0000000000, 1111111111, 1111111111\n",
            "Counter({3: 10})\n",
            "0,1,2=1111111111, 0000000000, 1111111111\n",
            "Counter({5: 10})\n",
            "0,1,2=0000000000, 0000000000, 1111111111\n",
            "Counter({1: 10})\n"
          ],
          "name": "stdout"
        }
      ]
    },
    {
      "cell_type": "markdown",
      "metadata": {
        "id": "1fU1R-qjr1Oq"
      },
      "source": [
        "# Quantum Fourier Transform\n",
        "\n",
        "This section provides an overview of the quantum Fourier transform and its use in the Phase Estimation algorithm in Cirq."
      ]
    },
    {
      "cell_type": "markdown",
      "metadata": {
        "id": "GLwcGmq1r1On"
      },
      "source": [
        "## Overview\n",
        "\n",
        "We'll start out by reminding ourselves what the [quantum Fourier transform](https://en.wikipedia.org/wiki/Quantum_Fourier_transform) does, and how it should be constructed."
      ]
    },
    {
      "cell_type": "markdown",
      "metadata": {
        "id": "41YRjU7Tr1Om"
      },
      "source": [
        "Suppose we have $n$ qubits in the state $|x\\rangle$, where $x$ is an integer in the range $0$ to $2^{n-1}$. The quantum Fourier transform (QFT) performs the following operation:\n",
        "$$\n",
        "\\text{QFT}|x\\rangle = \\frac{1}{2^{n/2}} \\sum_{y=0}^{2^n-1} e^{2\\pi i y x/2^n} |y\\rangle.\n",
        "$$\n",
        "When $x=0$, this is the same as the action of $H^{\\otimes n}$ (this is an important sanity check). Though it may not be obvious at first glance, the QFT is actually a unitary transformation. As a matrix, the QFT is given by\n",
        "$$\n",
        "\\text{QFT} = \\begin{bmatrix}\n",
        "1 & 1 & 1& \\cdots &1 \\\\\n",
        "1 & \\omega & \\omega^2& \\cdots &\\omega^{2^n-1} \\\\\n",
        "1 & \\omega^2 & \\omega^4& \\cdots &\\omega^{2(2^n-1)}\\\\\n",
        "\\vdots &\\vdots &\\vdots &\\ddots &\\vdots \\\\\n",
        "1 &\\omega^{2^n-1} &\\omega^{2(2^n-1)} &\\cdots &\\omega^{(2^n-1)(2^n-1)},\n",
        "\\end{bmatrix}\n",
        "$$\n",
        "where $\\omega = e^{2\\pi i /2^n}$. If you believe that the QFT is unitary, then you'll also notice from the matrix form that its inverse is given by a similar expression but with complex-conjugated coefficients:\n",
        "$$\n",
        "\\text{QFT}^{-1}|x\\rangle = \\frac{1}{2^{n/2}} \\sum_{y=0}^{2^n-1} e^{-2\\pi i y x/2^n} |y\\rangle.\n",
        "$$"
      ]
    },
    {
      "cell_type": "markdown",
      "metadata": {
        "id": "VlQAoV58r1Ok"
      },
      "source": [
        "The construction of the QFT as a circuit follows a simple recursive form, though fully justifying it will take us too far from the main goal of this notebook. We really only need to know what the circuit looks like, and for that we can look at this picture from the Wikipedia article:\n",
        "\n",
        ">![QFT Circuit](https://upload.wikimedia.org/wikipedia/commons/6/61/Q_fourier_nqubits.png)"
      ]
    },
    {
      "cell_type": "markdown",
      "metadata": {
        "id": "Kigiy-f_r1Oi"
      },
      "source": [
        "We just need to understand the notation a little bit. $x_j$ on the left-hand side represents one of the binary digits of the input $x$. $x_1$ is the most significant bit and $x_n$ the least significant bit:\n",
        "$$\n",
        "x = \\sum_{j=0}^{n-1} x_{j+1}2^j.\n",
        "$$\n",
        "$H$ is the Hadamard gate, as usual. The Controlled-$R_j$ gates are phase gates similar to the Controlled-$Z$ gate. In fact, for us it will be useful to just think of them as fractional powers of Controlled-$Z$ gates:\n",
        "$$\n",
        "CR_j = CZ^{\\large 1/2^{j-1}}\n",
        "$$\n",
        "Finally, on the far right we have the output representing the bts of $y$. The only difference between the left and right side is that the output bits are in a different order: the most significant bit of $y$ is on the bottom and the least significant bit is on the top."
      ]
    },
    {
      "cell_type": "markdown",
      "metadata": {
        "id": "D7iWLL1Vr1Og"
      },
      "source": [
        "## Quantum Fourier Transform as a Circuit"
      ]
    },
    {
      "cell_type": "markdown",
      "metadata": {
        "id": "lVUpE669r1Of"
      },
      "source": [
        "Let's define a generator which produces the QFT circuit. It should accept a list of qubits as input and `yield`s the gates to construct the QFT in the right order. A useful observation is that the the QFT circuit \"repeats\" smaller versions of itself as you move from left to right across the diagram."
      ]
    },
    {
      "cell_type": "code",
      "metadata": {
        "id": "SFRz9tngr1Oa"
      },
      "source": [
        "def make_qft(qubits):\n",
        "  \"\"\"Generator for the QFT on an arbitrary number of qubits. With four qubits\n",
        "  the answer is\n",
        "  ---H--@-------@--------@---------------------------------------------\n",
        "        |       |        |\n",
        "  ------@^0.5---+--------+---------H--@-------@------------------------\n",
        "                |        |            |       |\n",
        "  --------------@^0.25---+------------@^0.5---+---------H--@-----------\n",
        "                         |                    |            |\n",
        "  -----------------------@^0.125--------------@^0.25-------@^0.5---H---\n",
        "  \"\"\"\n",
        "  # YOUR CODE HERE"
      ],
      "execution_count": null,
      "outputs": []
    },
    {
      "cell_type": "markdown",
      "metadata": {
        "id": "ZZhs4w58r1OY"
      },
      "source": [
        "### Solution"
      ]
    },
    {
      "cell_type": "code",
      "metadata": {
        "id": "VSNAJ6fMr1OS"
      },
      "source": [
        "def make_qft(qubits):\n",
        "  \"\"\"Generator for the QFT on an arbitrary number of qubits. With four qubits\n",
        "  the answer is\n",
        "  ---H--@-------@--------@---------------------------------------------\n",
        "        |       |        |\n",
        "  ------@^0.5---+--------+---------H--@-------@------------------------\n",
        "                |        |            |       |\n",
        "  --------------@^0.25---+------------@^0.5---+---------H--@-----------\n",
        "                         |                    |            |\n",
        "  -----------------------@^0.125--------------@^0.25-------@^0.5---H---\n",
        "  \"\"\"\n",
        "  qubits = list(qubits)\n",
        "  while len(qubits) > 0:\n",
        "      q_head = qubits.pop(0)\n",
        "      yield cirq.H(q_head)\n",
        "      for i, qubit in enumerate(qubits):\n",
        "          yield (cirq.CZ**(1/2**(i+1)))(qubit, q_head)"
      ],
      "execution_count": null,
      "outputs": []
    },
    {
      "cell_type": "code",
      "metadata": {
        "id": "-I8ZW0wor1OK",
        "colab": {
          "base_uri": "https://localhost:8080/",
          "height": 173
        },
        "outputId": "ec11ecef-9244-4d56-c8aa-3d6e5f429d7d"
      },
      "source": [
        "num_qubits = 4\n",
        "qubits = cirq.LineQubit.range(num_qubits)\n",
        "\n",
        "qft = cirq.Circuit(make_qft(qubits))\n",
        "print(qft)"
      ],
      "execution_count": null,
      "outputs": [
        {
          "output_type": "stream",
          "text": [
            "                  ┌───────┐   ┌────────────┐   ┌───────┐\n",
            "0: ───H───@────────@───────────@───────────────────────────────────────\n",
            "          │        │           │\n",
            "1: ───────@^0.5────┼─────H─────┼──────@─────────@──────────────────────\n",
            "                   │           │      │         │\n",
            "2: ────────────────@^0.25──────┼──────@^0.5─────┼─────H────@───────────\n",
            "                               │                │          │\n",
            "3: ────────────────────────────@^(1/8)──────────@^0.25─────@^0.5───H───\n",
            "                  └───────┘   └────────────┘   └───────┘\n"
          ],
          "name": "stdout"
        }
      ]
    },
    {
      "cell_type": "markdown",
      "metadata": {
        "id": "hdxvyG4gr1OH"
      },
      "source": [
        "## Quantum Fourier Transform as a Gate\n",
        "\n"
      ]
    },
    {
      "cell_type": "markdown",
      "metadata": {
        "id": "8dlheBuvr1OG"
      },
      "source": [
        "For later convenience, it will be useful to encapsulate the QFT construction into a single gate. We can inherit from  `cirq.Gate` to define a gate which acts on an unspecified number of qubits, and then use the same strategy as for `make_qft` in the `_decompose_` method of the gate. Fill in the following code block to make a QFT gate."
      ]
    },
    {
      "cell_type": "code",
      "metadata": {
        "id": "vDmoTQyVr1N_"
      },
      "source": [
        "class QFT(cirq.Gate):\n",
        "  \"\"\"Gate for the Quantum Fourier Transformation\n",
        "  \"\"\"\n",
        "  \n",
        "  def __init__(self, n_qubits):\n",
        "    self.n_qubits = n_qubits\n",
        "\n",
        "  def num_qubits(self):\n",
        "    return self.n_qubits    \n",
        "    \n",
        "#   def _decompose_(self, qubits):\n",
        "  # YOUR CODE HERE\n",
        "            \n",
        "  # How should the gate look in ASCII diagrams?          \n",
        "  def _circuit_diagram_info_(self, args):        \n",
        "    return tuple('QFT{}'.format(i) for i in range(self.n_qubits))"
      ],
      "execution_count": null,
      "outputs": []
    },
    {
      "cell_type": "markdown",
      "metadata": {
        "id": "6EtrKjkpr1N9"
      },
      "source": [
        "### Solution"
      ]
    },
    {
      "cell_type": "markdown",
      "metadata": {
        "id": "YLr4tr4er1N7"
      },
      "source": [
        "A copy/paste is all that's required here:"
      ]
    },
    {
      "cell_type": "code",
      "metadata": {
        "id": "fCWuOipNr1N1"
      },
      "source": [
        "class QFT(cirq.Gate):\n",
        "  \"\"\"Gate for the Quantum Fourier Transformation\n",
        "  \"\"\"\n",
        "  \n",
        "  def __init__(self, n_qubits):\n",
        "    self.n_qubits = n_qubits\n",
        "\n",
        "  def num_qubits(self):\n",
        "    return self.n_qubits\n",
        "    \n",
        "  def _decompose_(self, qubits):\n",
        "    \"\"\"Implements the QFT on an arbitrary number of qubits. The circuit\n",
        "    for num_qubits = 4 is given by\n",
        "    ---H--@-------@--------@---------------------------------------------\n",
        "          |       |        |\n",
        "    ------@^0.5---+--------+---------H--@-------@------------------------\n",
        "                  |        |            |       |\n",
        "    --------------@^0.25---+------------@^0.5---+---------H--@-----------\n",
        "                           |                    |            |\n",
        "    -----------------------@^0.125--------------@^0.25-------@^0.5---H---\n",
        "    \"\"\"\n",
        "    qubits = list(qubits)\n",
        "    while len(qubits) > 0:\n",
        "        q_head = qubits.pop(0)\n",
        "        yield cirq.H(q_head)\n",
        "        for i, qubit in enumerate(qubits):\n",
        "            yield (cirq.CZ**(1/2**(i+1)))(qubit, q_head)\n",
        "            \n",
        "  # How should the gate look in ASCII diagrams?          \n",
        "  def _circuit_diagram_info_(self, args):        \n",
        "    return tuple('QFT{}'.format(i) for i in range(self.n_qubits))"
      ],
      "execution_count": null,
      "outputs": []
    },
    {
      "cell_type": "markdown",
      "metadata": {
        "id": "LYHZdrL3r1Nz"
      },
      "source": [
        "### Test the Circuit"
      ]
    },
    {
      "cell_type": "markdown",
      "metadata": {
        "id": "5RQYCcWHr1Nw"
      },
      "source": [
        "We should confirm that the gate we've defined is actually doing the same thing as the `make_qft` function from before. We can do that with the following test:"
      ]
    },
    {
      "cell_type": "code",
      "metadata": {
        "id": "nUInkMrXr1Np",
        "colab": {
          "base_uri": "https://localhost:8080/",
          "height": 295
        },
        "outputId": "1575174d-2d9d-4a34-ca8e-4a7ff365495a"
      },
      "source": [
        "num_qubits = 4\n",
        "\n",
        "qubits = cirq.LineQubit.range(num_qubits)\n",
        "circuit = cirq.Circuit(QFT(num_qubits).on(*qubits))\n",
        "print(circuit)\n",
        "\n",
        "qft_test = cirq.Circuit(make_qft(qubits))\n",
        "print(qft_test)\n",
        "np.testing.assert_allclose(cirq.unitary(qft_test), cirq.unitary(circuit))"
      ],
      "execution_count": null,
      "outputs": [
        {
          "output_type": "stream",
          "text": [
            "0: ───QFT0───\n",
            "      │\n",
            "1: ───QFT1───\n",
            "      │\n",
            "2: ───QFT2───\n",
            "      │\n",
            "3: ───QFT3───\n",
            "                  ┌───────┐   ┌────────────┐   ┌───────┐\n",
            "0: ───H───@────────@───────────@───────────────────────────────────────\n",
            "          │        │           │\n",
            "1: ───────@^0.5────┼─────H─────┼──────@─────────@──────────────────────\n",
            "                   │           │      │         │\n",
            "2: ────────────────@^0.25──────┼──────@^0.5─────┼─────H────@───────────\n",
            "                               │                │          │\n",
            "3: ────────────────────────────@^(1/8)──────────@^0.25─────@^0.5───H───\n",
            "                  └───────┘   └────────────┘   └───────┘\n"
          ],
          "name": "stdout"
        }
      ]
    },
    {
      "cell_type": "markdown",
      "metadata": {
        "id": "kc-0EeIar1Nn"
      },
      "source": [
        "## Inverse QFT\n",
        "\n",
        "We also want to implement the inverse QFT, which we'll do with a completely separate gate. Modify the `QFT` gate from above to create a `QFT_inv` gate:"
      ]
    },
    {
      "cell_type": "code",
      "metadata": {
        "id": "nk_b7RCAr1Nc"
      },
      "source": [
        "class QFT_inv(cirq.Gate):\n",
        "  \"\"\"Gate for the inverse Quantum Fourier Transformation\n",
        "  \"\"\"\n",
        "  \n",
        "  # YOUR CODE HERE"
      ],
      "execution_count": null,
      "outputs": []
    },
    {
      "cell_type": "markdown",
      "metadata": {
        "id": "ZUthaiCcr1Na"
      },
      "source": [
        "### Solution"
      ]
    },
    {
      "cell_type": "markdown",
      "metadata": {
        "id": "ZounnNjHr1NX"
      },
      "source": [
        "Compared to the `QFT` code above, we just have to add in a few minus signs.\n",
        "\n",
        "You can convince yourself that this is the same as complex-conjugating the associated unitary matrix of the QFT, which gives us the inverse QFT."
      ]
    },
    {
      "cell_type": "code",
      "metadata": {
        "id": "PxRJ9BKmr1NQ"
      },
      "source": [
        "class QFT_inv(cirq.Gate):\n",
        "  \"\"\"Gate for the inverse Quantum Fourier Transformation\n",
        "  \"\"\"\n",
        "  \n",
        "  def __init__(self, n_qubits):\n",
        "    self.n_qubits = n_qubits\n",
        "\n",
        "  def num_qubits(self):\n",
        "    return self.n_qubits   \n",
        "    \n",
        "  def _decompose_(self, qubits):\n",
        "    \"\"\"Implements the inverse QFT on an arbitrary number of qubits. The circuit\n",
        "    for num_qubits = 4 is given by\n",
        "    ---H--@-------@--------@---------------------------------------------\n",
        "          |       |        |\n",
        "    ------@^-0.5--+--------+---------H--@-------@------------------------\n",
        "                  |        |            |       |\n",
        "    --------------@^-0.25--+------------@^-0.5--+---------H--@-----------\n",
        "                           |                    |            |\n",
        "    -----------------------@^-0.125-------------@^-0.25------@^-0.5--H---\n",
        "    \"\"\"\n",
        "    qubits = list(qubits)\n",
        "    while len(qubits) > 0:\n",
        "        q_head = qubits.pop(0)\n",
        "        yield cirq.H(q_head)\n",
        "        for i, qubit in enumerate(qubits):\n",
        "            yield (cirq.CZ**(-1/2**(i+1)))(qubit, q_head)\n",
        "                      \n",
        "  def _circuit_diagram_info_(self, args):        \n",
        "    return tuple('QFT{}^-1'.format(i) for i in range(self.n_qubits))"
      ],
      "execution_count": null,
      "outputs": []
    },
    {
      "cell_type": "markdown",
      "metadata": {
        "id": "KxgoU3L6r1NO"
      },
      "source": [
        "## Is the QFT_inv gate the inverse of the QFT Circuit?\n",
        "\n",
        "We chose not to define the `QFT_inv` as literally the inverse of the `QFT` gate. Why was that? What would you get if you concetenated the `QFT` and `QFT_inv` gates as defined? (Try it!) Can you put together `QFT` and `QFT_inv` in such a way that one undoes the action of the other? This exercise doubles as a test of the `QFT_inv` implementation."
      ]
    },
    {
      "cell_type": "markdown",
      "metadata": {
        "id": "OPp9BNvSr1NJ"
      },
      "source": [
        "### Solution"
      ]
    },
    {
      "cell_type": "markdown",
      "metadata": {
        "id": "YIzI9lXtr1NG"
      },
      "source": [
        "The QFT and QFT_inv circuits we have defined are not literal inverses of each other because the both reverse the order of the bits when going from input to output. We can explicitly see this in the following code block:"
      ]
    },
    {
      "cell_type": "code",
      "metadata": {
        "id": "x7KS8p9Lr1M7",
        "colab": {
          "base_uri": "https://localhost:8080/",
          "height": 156
        },
        "outputId": "7aa53ed3-ea49-45f7-d2a6-9e507eaf88a2"
      },
      "source": [
        "num_qubits = 2\n",
        "\n",
        "qubits = cirq.LineQubit.range(num_qubits)\n",
        "circuit = cirq.Circuit(QFT(num_qubits).on(*qubits),\n",
        "                      QFT_inv(num_qubits).on(*qubits))\n",
        "print(circuit)\n",
        "print()\n",
        "cirq.unitary(circuit).round(2)"
      ],
      "execution_count": null,
      "outputs": [
        {
          "output_type": "stream",
          "text": [
            "0: ───QFT0───QFT0^-1───\n",
            "      │      │\n",
            "1: ───QFT1───QFT1^-1───\n",
            "\n"
          ],
          "name": "stdout"
        },
        {
          "output_type": "execute_result",
          "data": {
            "text/plain": [
              "array([[ 1. +0.j ,  0. +0.j ,  0. +0.j ,  0. +0.j ],\n",
              "       [-0. +0.j ,  0.5+0.5j, -0. +0.j ,  0.5-0.5j],\n",
              "       [ 0. +0.j ,  0.5+0.j ,  0.5-0.5j,  0. +0.5j],\n",
              "       [-0. +0.j ,  0. -0.5j,  0.5+0.5j,  0.5+0.j ]])"
            ]
          },
          "metadata": {
            "tags": []
          },
          "execution_count": 11
        }
      ]
    },
    {
      "cell_type": "markdown",
      "metadata": {
        "id": "jthSlJybr1M3"
      },
      "source": [
        "If `QFT` and `QFT_inv` were really inverses then we would have gotten the identity matrix here.\n",
        "\n",
        "There are a couple of ways to fix this. \n",
        "* A: Change the implementations of these two gates in such a way that the outputs are \"rightside-up\"\n",
        "* B: Turn the qubits around in between acting with `QFT` and `QFT_inv`.\n",
        "\n",
        "The second solution is chosen, in the following.\n",
        "In other words, we can insert the `QFT_inv` gate \"upside-down\" as follows:"
      ]
    },
    {
      "cell_type": "code",
      "metadata": {
        "id": "KxXGoXTkr1Ma",
        "colab": {
          "base_uri": "https://localhost:8080/",
          "height": 156
        },
        "outputId": "09af38db-dc0c-49bd-eaa8-74a08104d518"
      },
      "source": [
        "num_qubits = 2\n",
        "\n",
        "qubits = cirq.LineQubit.range(num_qubits)\n",
        "circuit = cirq.Circuit(QFT(num_qubits).on(*qubits),\n",
        "                       QFT_inv(num_qubits).on(*qubits[::-1])) # qubit order reversed\n",
        "print(circuit)\n",
        "print()\n",
        "cirq.unitary(circuit)"
      ],
      "execution_count": null,
      "outputs": [
        {
          "output_type": "stream",
          "text": [
            "0: ───QFT0───QFT1^-1───\n",
            "      │      │\n",
            "1: ───QFT1───QFT0^-1───\n",
            "\n"
          ],
          "name": "stdout"
        },
        {
          "output_type": "execute_result",
          "data": {
            "text/plain": [
              "array([[ 1.+0.j,  0.+0.j,  0.+0.j,  0.+0.j],\n",
              "       [ 0.+0.j,  1.+0.j,  0.+0.j,  0.+0.j],\n",
              "       [-0.+0.j, -0.+0.j,  1.+0.j, -0.+0.j],\n",
              "       [-0.+0.j, -0.+0.j, -0.+0.j,  1.+0.j]])"
            ]
          },
          "metadata": {
            "tags": []
          },
          "execution_count": 24
        }
      ]
    },
    {
      "cell_type": "markdown",
      "metadata": {
        "id": "i9_I7Q6cr1MC"
      },
      "source": [
        "We find the identity matrix, as desired (up to finite-precision numerical errors). Notice that the `QFT_inv` gate is upside-down relative to the `QFT` gate in the diagram. This is why we included the extra digits in the `wire_symobls`!"
      ]
    },
    {
      "cell_type": "markdown",
      "metadata": {
        "id": "r-CjbPwkRI_I"
      },
      "source": [
        "# Phase Estimation\n",
        "\n",
        "We'll implement the [phase estimation](https://en.wikipedia.org/wiki/Quantum_phase_estimation_algorithm) algorithm.It uses the inverse QFT to give an estimate of the eigenvalue of a unitary operator. The total circuit that we are going to implement is given by"
      ]
    },
    {
      "cell_type": "markdown",
      "metadata": {
        "id": "gJ01TOhr4CQN"
      },
      "source": [
        ">![Phase Estimation](https://upload.wikimedia.org/wikipedia/commons/a/a5/PhaseCircuit-crop.svg)"
      ]
    },
    {
      "cell_type": "markdown",
      "metadata": {
        "id": "_15iEUy5Rk1o"
      },
      "source": [
        "Suppose we have a unitary operator $U$ with eigenvactor $|\\psi\\rangle$ and eigenvalue $\\exp(2\\pi i \\theta)$. Our objective is to get an $n$-bit approximation to $\\theta$. \n",
        "\n",
        "**The first step** is to construct the state\n",
        "$$\n",
        "|\\Phi\\rangle = \\frac{1}{2^{n/2}}\\sum_{y=0}^{2^{n-1}} e^{2\\pi i y \\theta}|y\\rangle.\n",
        "$$\n",
        "This looks very similar to the output of the QFT applied to the state $|2^n\\theta\\rangle$, except for the fact that $2^n\\theta$ may not be an integer. If $2^n\\theta$ *were* an integer, then we would apply the inverse QFT and measure the qubits to read off the binary representation of $2^n\\theta$. Even if $2^n\\theta$ is not an integer, we can still perform the same procedure and the result will be a sequence of bits that, with high probility, gives an $n$-bit approximation to $\\theta$. We just have to repeat the procedure a few times to be sure of the answer."
      ]
    },
    {
      "cell_type": "markdown",
      "metadata": {
        "id": "sypcpUzLTxRK"
      },
      "source": [
        "Since we've already constructed the inverse QFT, all we really have to do is figure out how to construct the magic state $|\\Phi\\rangle$. This is accomplished by the first part of the circuit pictured above. We begin by applying $H^{\\otimes n}$ to the state $|0\\rangle$, creating an equal superposition over all basis states:\n",
        "$$\n",
        "H^{\\otimes n} |0\\rangle = \\frac{1}{2^{n/2}}\\sum_{y=0}^{2^n-1}|y\\rangle.\n",
        "$$\n",
        "\n",
        "**The second step** is to insert the correct phase coefficients. This is done by a sequence of Controlled-$U^k$ operations, where the qubits of $y$ are the controls and the $U^k$ operations act on $|\\psi \\rangle$. Let's try to implement this part of the procedure in Cirq, and then put it together with our `QFT_inv` from above.\n",
        "\n",
        "For the gate $U$ we'll pick the single-qubit operation for $\\theta \\in [0,1)$. This is just for simplicity and ease of testing.\n",
        "$$\n",
        "U = Z^{2\\theta} = \\begin{bmatrix}\n",
        "1 & 0 \\\\\n",
        "0 & e^{2\\pi i \\theta }\n",
        "\\end{bmatrix}\n",
        "$$\n",
        "\n",
        "\n",
        "Later, you are invited to write an implementation that accepts an arbitrary $U$."
      ]
    },
    {
      "cell_type": "code",
      "metadata": {
        "id": "OIN8QfUeJyI9",
        "colab": {
          "base_uri": "https://localhost:8080/",
          "height": 139
        },
        "outputId": "fdc7ec34-6741-4386-9463-03383af6fbac"
      },
      "source": [
        "theta = 0.234 # Try your own\n",
        "n_bits = 3 # Accuracy of the estimate for theta. Try different values.\n",
        "\n",
        "qubits = cirq.LineQubit.range(n_bits)\n",
        "u_bit = cirq.NamedQubit('u')\n",
        "\n",
        "U = cirq.Z**(2*theta)\n",
        "\n",
        "phase_estimator = cirq.Circuit()\n",
        "\n",
        "phase_estimator.append(cirq.H.on_each(*qubits))\n",
        "\n",
        "for i, bit in enumerate(qubits):\n",
        "  phase_estimator.append(cirq.ControlledGate(U).on(bit,u_bit)**(2**(n_bits-1-i)))\n",
        "\n",
        "print(phase_estimator)"
      ],
      "execution_count": null,
      "outputs": [
        {
          "output_type": "stream",
          "text": [
            "0: ───H───@──────────────────────────────\n",
            "          │\n",
            "1: ───H───┼──────────@───────────────────\n",
            "          │          │\n",
            "2: ───H───┼──────────┼─────────@─────────\n",
            "          │          │         │\n",
            "u: ───────Z^-0.128───Z^0.936───Z^0.468───\n"
          ],
          "name": "stdout"
        }
      ]
    },
    {
      "cell_type": "markdown",
      "metadata": {
        "id": "QTVJnv8Yx5bm"
      },
      "source": [
        "**The third step** is to perform the inverse QFT on estimation qubits:"
      ]
    },
    {
      "cell_type": "code",
      "metadata": {
        "id": "8KCn-gjxM2H9",
        "colab": {
          "base_uri": "https://localhost:8080/",
          "height": 139
        },
        "outputId": "29a77d21-3fd2-4471-fd21-b149b7930af5"
      },
      "source": [
        "phase_estimator.append(QFT_inv(n_bits).on(*qubits))\n",
        "print(phase_estimator)"
      ],
      "execution_count": null,
      "outputs": [
        {
          "output_type": "stream",
          "text": [
            "0: ───H───@──────────────────────────────QFT0^-1───\n",
            "          │                              │\n",
            "1: ───H───┼──────────@───────────────────QFT1^-1───\n",
            "          │          │                   │\n",
            "2: ───H───┼──────────┼─────────@─────────QFT2^-1───\n",
            "          │          │         │\n",
            "u: ───────Z^-0.128───Z^0.936───Z^0.468─────────────\n"
          ],
          "name": "stdout"
        }
      ]
    },
    {
      "cell_type": "markdown",
      "metadata": {
        "id": "smlXIG1QyPyR"
      },
      "source": [
        "**Almost done**, before measuring the estimation qubits. But we should also specify an initial state for the `u_bit`. By default it will be the state $|0\\rangle$, but the phase for that state is trivial with the operator we chose. Inserting a Pauli $X$ operator at the begining of the circuit changes this to the $|1\\rangle$ state, which has the nontrivial $\\theta$ phase. "
      ]
    },
    {
      "cell_type": "code",
      "metadata": {
        "id": "g_rNMrkXPJ0R",
        "colab": {
          "base_uri": "https://localhost:8080/",
          "height": 139
        },
        "outputId": "738cea3f-41c2-4af5-cd16-79f0e78b17bf"
      },
      "source": [
        "# Add measurements to the end of the circuit\n",
        "phase_estimator.append(cirq.measure(*qubits, key='m'))\n",
        "\n",
        "# Add gate to change initial state to |1>\n",
        "# Very similar to Deutsch initialization of last qubit\n",
        "phase_estimator.insert(0,cirq.X(u_bit))\n",
        "\n",
        "print(phase_estimator)"
      ],
      "execution_count": null,
      "outputs": [
        {
          "output_type": "stream",
          "text": [
            "0: ───H───@──────────────────────────────QFT0^-1───M('m')───\n",
            "          │                              │         │\n",
            "1: ───H───┼──────────@───────────────────QFT1^-1───M────────\n",
            "          │          │                   │         │\n",
            "2: ───H───┼──────────┼─────────@─────────QFT2^-1───M────────\n",
            "          │          │         │\n",
            "u: ───X───Z^-0.128───Z^0.936───Z^0.468──────────────────────\n"
          ],
          "name": "stdout"
        }
      ]
    },
    {
      "cell_type": "markdown",
      "metadata": {
        "id": "j2HIBKbEy7gV"
      },
      "source": [
        "**Simulate with Cirq** Now we can instantiate a simulator and make measurements of the estimation qubits. Let the values of these qubits be $a_j$. Then our $n$-bit approximation for $\\theta$ is given by\n",
        "$$\n",
        "\\theta \\approx \\sum_{j=0}^n a_j2^{-j}.\n",
        "$$\n",
        "We'll perform this conversion from bit values to $\\theta$-values and then print the results:"
      ]
    },
    {
      "cell_type": "code",
      "metadata": {
        "id": "-pE7CC_uPfq2",
        "colab": {
          "base_uri": "https://localhost:8080/",
          "height": 34
        },
        "outputId": "aa04b08b-d1d7-436c-d65e-92d343e383a0"
      },
      "source": [
        "sim = cirq.Simulator()\n",
        "result = sim.run(phase_estimator, repetitions=10)\n",
        "\n",
        "theta_estimates = np.sum(2**np.arange(n_bits)*result.measurements['m'], axis=1)/2**n_bits\n",
        "print(theta_estimates)"
      ],
      "execution_count": null,
      "outputs": [
        {
          "output_type": "stream",
          "text": [
            "[0.25  0.125 0.25  0.25  0.25  0.25  0.25  0.25  0.25  0.25 ]\n"
          ],
          "name": "stdout"
        }
      ]
    },
    {
      "cell_type": "markdown",
      "metadata": {
        "id": "PMke93CrzezN"
      },
      "source": [
        "When `n_bits` is small, we don't get a very accurate estimate. You can go back and increase `n_bits` and rerun the cells if you like."
      ]
    },
    {
      "cell_type": "markdown",
      "metadata": {
        "id": "Dn9j1RCrpCj_"
      },
      "source": [
        "##Exercise: As a function\n",
        "\n",
        "To make experimentation easier, let's pack all this up into a single function that lets us specify $\\theta$, the number of bits of of accuracy we want in our approxmation, and the number of repetitions of the algorithm to perform. You could just copy/paste from the previous cells, but it might be a useful exercise to write the whole thing from scratch without peeking."
      ]
    },
    {
      "cell_type": "code",
      "metadata": {
        "id": "t3EYxglfpgbh"
      },
      "source": [
        "def phase_estimation(theta, n_bits, n_reps=10):\n",
        "\n",
        "  # YOUR CODE HERE\n",
        "  \n",
        "  return theta_estimates"
      ],
      "execution_count": null,
      "outputs": []
    },
    {
      "cell_type": "markdown",
      "metadata": {
        "id": "5cf9gaXCpmq4"
      },
      "source": [
        "### Solution"
      ]
    },
    {
      "cell_type": "markdown",
      "metadata": {
        "id": "fC5oUxNtppVo"
      },
      "source": [
        "Here is a solution that just consists of what we did in previous cells all put together."
      ]
    },
    {
      "cell_type": "code",
      "metadata": {
        "id": "TXxJ_ZjeWFqy"
      },
      "source": [
        "def phase_estimation(theta, n_bits, n_reps=10):\n",
        "  qubits = cirq.LineQubit.range(n_bits)\n",
        "  u_bit = cirq.NamedQubit('u')\n",
        "\n",
        "  U = cirq.Z**(2*theta) # Try out a different gate if you like\n",
        "\n",
        "  phase_estimator = cirq.Circuit()\n",
        "\n",
        "  phase_estimator.append(cirq.H.on_each(*qubits))\n",
        "  for i, bit in enumerate(qubits):\n",
        "    phase_estimator.append(cirq.ControlledGate(U).on(bit,u_bit)**(2**(n_bits-1-i)))\n",
        "  phase_estimator.append(QFT_inv(n_bits).on(*qubits))\n",
        "  \n",
        "  # Measurement gates\n",
        "  phase_estimator.append(cirq.measure(*qubits, key='m'))\n",
        "\n",
        "  # Gates to choose initial state for the u_bit. Placing X here chooses the |1> state\n",
        "  phase_estimator.insert(0,cirq.X(u_bit))\n",
        "\n",
        "  # Code to simulate measurements\n",
        "  sim = cirq.Simulator()\n",
        "  result = sim.run(phase_estimator, repetitions=n_reps)\n",
        "  \n",
        "  # Convert measurements into estimates of theta\n",
        "  theta_estimates = np.sum(2**np.arange(n_bits)*result.measurements['m'], axis=1)/2**n_bits\n",
        "  \n",
        "  return theta_estimates"
      ],
      "execution_count": null,
      "outputs": []
    },
    {
      "cell_type": "code",
      "metadata": {
        "id": "O3otp22NYO2u",
        "colab": {
          "base_uri": "https://localhost:8080/",
          "height": 52
        },
        "outputId": "4578b6ab-ad34-454d-b784-d280944a58b9"
      },
      "source": [
        "phase_estimation(0.234, 10)"
      ],
      "execution_count": null,
      "outputs": [
        {
          "output_type": "execute_result",
          "data": {
            "text/plain": [
              "array([0.22949219, 0.23339844, 0.23339844, 0.234375  , 0.234375  ,\n",
              "       0.234375  , 0.23339844, 0.23339844, 0.234375  , 0.234375  ])"
            ]
          },
          "metadata": {
            "tags": []
          },
          "execution_count": 31
        }
      ]
    },
    {
      "cell_type": "markdown",
      "metadata": {
        "id": "cr-NVLG2loo7"
      },
      "source": [
        "## Phase Estimation Without an Eigenstate\n",
        "\n",
        "We can modify our `phase_estimation` method to explore other interesting aspects of the algorithm. Suppose the input to the circuit was not an eigenstate of $U$ at all? You could modify the case we analyzed above by putting an arbitrary single-qubit state on the `u_bit`, or you could replace $Z^{2\\theta}$ with something like $X^{2\\theta}$ while still passing in a computational basis state. What is the result?"
      ]
    },
    {
      "cell_type": "markdown",
      "metadata": {
        "id": "pnddp79QmZAl"
      },
      "source": [
        "### Solution"
      ]
    },
    {
      "cell_type": "markdown",
      "metadata": {
        "id": "DTB2pkzWmdS8"
      },
      "source": [
        "Suppose the operator $U$ has eigenstate $|u_j\\rangle$ with eigenvalues $e^{2\\pi i \\theta_j}$. Then in general if we pass in a state of the form\n",
        "$$\n",
        "\\sum_j \\alpha_j|u_j\\rangle\n",
        "$$\n",
        "then each time we run the circuit we will get an $n$-bit estimate of one of the $\\theta_j$ chosen at random, and the probability of choosing a particular $\\theta_j$ is given by $|\\alpha_j|^2$. One simple test of this is to modify our above code to pass the state\n",
        "$$\n",
        "\\frac{|0\\rangle + |1\\rangle}{\\sqrt{2}}\n",
        "$$\n",
        "into the phase estimator for $Z^{2\\theta}$. The state $|1\\rangle$ has eigenvalue $e^{2\\pi i \\theta_j}$ while the state $|0\\rangle$ has eigenvalue $1$."
      ]
    },
    {
      "cell_type": "code",
      "metadata": {
        "id": "kMwW3LFinsX4"
      },
      "source": [
        "def phase_estimation(theta, n_bits, n_reps=10):\n",
        "  qubits = cirq.LineQubit.range(n_bits)\n",
        "  u_bit = cirq.NamedQubit('u')\n",
        "\n",
        "  U = cirq.Z**(2*theta)\n",
        "\n",
        "  phase_estimator = cirq.Circuit()\n",
        "\n",
        "  phase_estimator.append(cirq.H.on_each(*qubits))\n",
        "  for i, bit in enumerate(qubits):\n",
        "    phase_estimator.append(cirq.ControlledGate(U).on(bit,u_bit)**(2**(n_bits-1-i))) # Could have used CZ in this example\n",
        "  phase_estimator.append(QFT_inv(n_bits).on(*qubits))\n",
        "  \n",
        "  phase_estimator.append(cirq.measure(*qubits, key='m'))\n",
        "\n",
        "  # Changed the X gate here to an H\n",
        "  phase_estimator.insert(0,cirq.H(u_bit))\n",
        "\n",
        "  sim = cirq.Simulator()\n",
        "  result = sim.run(phase_estimator, repetitions=n_reps)\n",
        "    \n",
        "  theta_estimates = np.sum(2**np.arange(n_bits)*result.measurements['m'], axis=1)/2**n_bits\n",
        "  \n",
        "  return theta_estimates"
      ],
      "execution_count": null,
      "outputs": []
    },
    {
      "cell_type": "code",
      "metadata": {
        "id": "jtqKb_o6oKBF",
        "colab": {
          "base_uri": "https://localhost:8080/",
          "height": 52
        },
        "outputId": "7c95680f-b3ec-426a-dcb7-adb753f7080b"
      },
      "source": [
        "phase_estimation(0.234,10)"
      ],
      "execution_count": null,
      "outputs": [
        {
          "output_type": "execute_result",
          "data": {
            "text/plain": [
              "array([0.234375  , 0.        , 0.        , 0.234375  , 0.234375  ,\n",
              "       0.23339844, 0.23339844, 0.234375  , 0.234375  , 0.        ])"
            ]
          },
          "metadata": {
            "tags": []
          },
          "execution_count": 33
        }
      ]
    },
    {
      "cell_type": "markdown",
      "metadata": {
        "id": "wzTnTpC2oL79"
      },
      "source": [
        "Notice that half of the measurements yielded the estimate $0$, which corresponds to the eigenvaule $1$. If you experiment with different gates and input states you should see the more general behavior.\n",
        "\n",
        "Often we won't be able to prepare an exact eigenstate of the operator $U$ we are interested in, so it's very useful to know about this feature of phase estimation. This is crucial for understanding [Shor's algorithm](https://en.wikipedia.org/wiki/Shor%27s_algorithm), for instance."
      ]
    },
    {
      "cell_type": "markdown",
      "metadata": {
        "id": "ksA-fvrZaT5g"
      },
      "source": [
        "# Grover's Algorithm\n",
        "\n",
        "The Grover algorithm takes a black-box oracle implementing a function\n",
        "$f(x) = 1\\text{ if }x=x',~ f(x) = 0 \\text{ if } x\\neq x'$ and finds $x'$ within a randomly ordered sequence of $N$ items using $O(\\sqrt{N}$) operations and $O(N\\,  \\text{log}N$) gates,\n",
        "with the probability $p \\geq 2/3$.\n",
        "At the moment, only 2-bit sequences (for which one pass through Grover operator\n",
        "is enough) are considered.\n",
        "\n",
        "=== REFERENCE ===\n",
        "\n",
        "Coles, Eidenbenz et al. Quantum Algorithm Implementations for Beginners\n",
        "https://arxiv.org/abs/1804.03719"
      ]
    },
    {
      "cell_type": "code",
      "metadata": {
        "id": "gaUMhMV0aaVB",
        "colab": {
          "base_uri": "https://localhost:8080/",
          "height": 208
        },
        "outputId": "f8dbb705-5017-4d88-b253-3919048feb5f"
      },
      "source": [
        "import cirq\n",
        "\n",
        "def set_io_qubits(qubit_count):\n",
        "    \"\"\"Add the specified number of input and output qubits.\"\"\"\n",
        "    input_qubits = [cirq.GridQubit(i, 0) for i in range(qubit_count)]\n",
        "    output_qubit = cirq.GridQubit(qubit_count, 0)\n",
        "    #\n",
        "    return (input_qubits, output_qubit)\n",
        "\n",
        "\n",
        "def make_oracle(input_qubits, output_qubit, x_bits):\n",
        "    \"\"\"Implement function {f(x) = 1 if x==x', f(x) = 0 if x!= x'}.\"\"\"\n",
        "    # Make oracle.\n",
        "    # for (1, 1) it's just a Toffoli gate\n",
        "    # otherwise negate the zero-bits.\n",
        "    yield(cirq.X(q) for (q, bit) in zip(input_qubits, x_bits) if not bit)\n",
        "    yield(cirq.TOFFOLI(input_qubits[0], input_qubits[1], output_qubit))\n",
        "    yield(cirq.X(q) for (q, bit) in zip(input_qubits, x_bits) if not bit)\n",
        "\n",
        "\n",
        "def make_grover_circuit(input_qubits, output_qubit, oracle):\n",
        "    \"\"\"Find the value recognized by the oracle in sqrt(N) attempts.\"\"\"\n",
        "    # For 2 input qubits, that means using Grover operator only once.\n",
        "\n",
        "    # Initialize qubits.\n",
        "    yield ([\n",
        "        cirq.X(output_qubit),\n",
        "        cirq.H(output_qubit),\n",
        "        cirq.H.on_each(*input_qubits),\n",
        "    ])\n",
        "\n",
        "    # Query oracle.\n",
        "    yield from oracle\n",
        "\n",
        "    # Construct Grover operator.\n",
        "    yield cirq.H.on_each(*input_qubits)\n",
        "    yield cirq.X.on_each(*input_qubits)\n",
        "    yield cirq.H.on(input_qubits[1])\n",
        "    yield cirq.CNOT(input_qubits[0], input_qubits[1])\n",
        "    yield cirq.H.on(input_qubits[1])\n",
        "    yield cirq.X.on_each(*input_qubits)\n",
        "    yield cirq.H.on_each(*input_qubits)\n",
        "\n",
        "    # Measure the result.\n",
        "    yield cirq.measure(*input_qubits, key='result')\n",
        "\n",
        "\n",
        "def bitstring(bits):\n",
        "    return ''.join(str(int(b)) for b in bits)\n",
        "\n",
        "\n",
        "qubit_count = 2\n",
        "circuit_sample_count = 10\n",
        "\n",
        "#Set up input and output qubits.\n",
        "(input_qubits, output_qubit) = set_io_qubits(qubit_count)\n",
        "\n",
        "#Choose the x' and make an oracle which can recognize it.\n",
        "x_bits = [random.randint(0, 1) for _ in range(qubit_count)]\n",
        "print('Secret bit sequence: {}'.format(x_bits))\n",
        "\n",
        "# Make oracle (black box)\n",
        "oracle = make_oracle(input_qubits, output_qubit, x_bits)\n",
        "\n",
        "# Embed the oracle into a quantum circuit implementing Grover's algorithm.\n",
        "# circuit = make_grover_circuit(input_qubits, output_qubit, oracle)\n",
        "print('Circuit:')\n",
        "circuit = cirq.Circuit(make_grover_circuit(input_qubits, output_qubit, oracle))\n",
        "print(circuit)\n",
        "\n",
        "# Sample from the circuit a couple times.\n",
        "simulator = cirq.Simulator()\n",
        "result = simulator.run(circuit, repetitions=circuit_sample_count)\n",
        "\n",
        "frequencies = result.histogram(key='result', fold_func=bitstring)\n",
        "print('Sampled results:\\n{}'.format(frequencies))\n",
        "\n",
        "# Check if we actually found the secret value.\n",
        "most_common_bitstring = frequencies.most_common(1)[0][0]\n",
        "print('Most common bitstring: {}'.format(most_common_bitstring))\n",
        "print('Found a match: {}'.format(\n",
        "    most_common_bitstring == bitstring(x_bits)))\n"
      ],
      "execution_count": null,
      "outputs": [
        {
          "output_type": "stream",
          "text": [
            "Secret bit sequence: [0, 1]\n",
            "Circuit:\n",
            "(0, 0): ───H───X───@───X───H───X───@───X───H───────M('result')───\n",
            "                   │               │               │\n",
            "(1, 0): ───H───────@───H───X───H───X───H───X───H───M─────────────\n",
            "                   │\n",
            "(2, 0): ───X───H───X─────────────────────────────────────────────\n",
            "Sampled results:\n",
            "Counter({'01': 10})\n",
            "Most common bitstring: 01\n",
            "Found a match: True\n"
          ],
          "name": "stdout"
        }
      ]
    },
    {
      "cell_type": "markdown",
      "metadata": {
        "id": "2vDffuikV9Fb"
      },
      "source": [
        "## Grover on the custom Device\n",
        "Execute Grover's algorithm on the custom Device from the previouse notebook. Use also the optimizers from the other notebook.\n",
        "\n",
        "**Suggestion**: git clone the newest Cirq repository from github on your machine and develop in a separate Python file."
      ]
    },
    {
      "cell_type": "code",
      "metadata": {
        "id": "pj1wfiRo_I0G"
      },
      "source": [
        "# Use something like the following to connect the device to the circuit\n",
        "\n",
        "# # Make oracle (black box)\n",
        "# oracle = make_oracle(input_qubits, output_qubit, x_bits)\n",
        "\n",
        "# # Embed the oracle into a quantum circuit implementing Grover's algorithm.\n",
        "# # circuit = make_grover_circuit(input_qubits, output_qubit, oracle)\n",
        "# print('Circuit:')\n",
        "# circuit = cirq.Circuit(make_grover_circuit(input_qubits, output_qubit, oracle), device=CustomDevice(3,3))\n",
        "# print(circuit)"
      ],
      "execution_count": null,
      "outputs": []
    },
    {
      "cell_type": "markdown",
      "metadata": {
        "id": "c8Zf-MRDPynh"
      },
      "source": [
        "# Left to the reader as an exercise"
      ]
    },
    {
      "cell_type": "markdown",
      "metadata": {
        "id": "zQzAYK-VNVDu"
      },
      "source": [
        "## Quantum Fourier Transform with Unreversed Output\n",
        "\n",
        "It may be convenient to have an alternative form of the QFT where the output bits are not in the opposite order of the input bits. Can you make an alternative implementation which does that automatically? You may want to consider using SWAP gates."
      ]
    },
    {
      "cell_type": "markdown",
      "metadata": {
        "id": "EG6cDFWJk-ZS"
      },
      "source": [
        "## Phase Estimation with Arbitrary $U$\n",
        "\n",
        "Try to implement the phase estimation algorithm in a way that an arbitrary gate $U$ can be supplied and tested. After you've done that, you can test the algorithm on some of your favorite two- or three-qubit gates."
      ]
    },
    {
      "cell_type": "markdown",
      "metadata": {
        "id": "9WKZoaav0dtt"
      },
      "source": [
        "## QFT and Phase Estimation with Adjacency Constraints\n",
        "\n",
        "Often on a real machine we can't execute two-qubit gates between qubits that are not right next to each other. You'll have noticed that the circuits we defined above involves connections between many different pairs of qubits, which will likely not all be near each other when we try to run the circuit on an actual chip. See if you can modify the examples we went through above in such a way that Cirq validates them for use on the Foxtail or Bristlecone chips. How bit of an example can you handle?"
      ]
    }
  ]
}